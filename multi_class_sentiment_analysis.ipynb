{
 "cells": [
  {
   "cell_type": "markdown",
   "metadata": {},
   "source": [
    "## ROADMAP FOR MULTI-CLASS SENTIMENT ANALYSIS WITH DEEP LEARNING\n",
    "### A practical guide to create increasingly accurate models\n",
    "<br>\n",
    "(This blog assumes some familiarity with deep learning)\n",
    "\n",
    "Sentiment analysis quickly gets difficult as we increase the number of classes. For this blog, we'll have a look at what difficulties you might face and how to get around them when you try to solve such a problem. Instead of prioritizing theoretical rigor, I'll focus on how to practically apply some ideas on a toy dataset and how to edge yourself out of a rut. I'll be using **Keras** throughout."
   ]
  },
  {
   "cell_type": "markdown",
   "metadata": {},
   "source": [
    "As a disclaimer, I'd say it's unwise to throw the most powerful model at your problem at first glance. Traditional natural language processing methods work surprisingly well on most problems and your initial analysis of the dataset can be built upon with deep learning. However, this blog aims to be a refresher for deep learning techniques _exclusively_ and an implementational baseline or a general flowchart for hackathons or competitions. Theory throughout this post will either be oversimplified or absent, to avoid losing the attention of the casual reader."
   ]
  },
  {
   "cell_type": "markdown",
   "metadata": {},
   "source": [
    "## The problem\n",
    "---\n",
    "We'll analyze a fairly simple dataset I recently came across, which can be downloaded [from here](https://github.com/ad71/multi-class-sentiment-analysis/blob/master/data/data.zip).\n",
    "<br>\n",
    "About 50 thousand people were asked to respond to a single question,\n",
    ">\"What is one recent incident that made you happy?\".\n",
    "\n",
    "Their responses were tabulated and their reason of happiness was categorized into seven broad classes like 'affection', 'bonding', 'leisure', etc. Additionally, we also know whether the incident happened within 24 hours of the interview or not.\n",
    "<br>\n",
    "This problem is quite different from your regular positive negative classification because even though there are seven classes, all the responses are inherently happy and differentiating between them might be quite difficult even for humans.\n",
    "<br>\n",
    "Before we start, [this is where](https://github.com/ad71/multi-class-sentiment-analysis) you'll find the complete notebook for this blog as well as all the discussed architectures in separate files if you want to tinker with them yourself. You are free to use whatever you find there, however you like, no strings attached."
   ]
  },
  {
   "cell_type": "code",
   "execution_count": 1,
   "metadata": {},
   "outputs": [],
   "source": [
    "import numpy as np\n",
    "import pandas as pd\n",
    "\n",
    "import nltk\n",
    "import gensim\n",
    "from gensim.models.doc2vec import TaggedDocument\n",
    "from gensim.models.word2vec import Word2Vec\n",
    "from gensim.scripts.glove2word2vec import glove2word2vec\n",
    "\n",
    "from sklearn.manifold import TSNE\n",
    "from sklearn.decomposition import PCA\n",
    "from sklearn.utils import class_weight\n",
    "from sklearn.preprocessing import scale\n",
    "from sklearn.metrics import confusion_matrix\n",
    "from sklearn.model_selection import train_test_split\n",
    "from sklearn.feature_extraction.text import TfidfVectorizer\n",
    "\n",
    "import tensorflow as tf\n",
    "import tensorflow_hub as hub\n",
    "\n",
    "from keras import backend as K\n",
    "from keras.engine import Layer\n",
    "from keras.models import Sequential, Model, load_model\n",
    "from keras.layers import Input, Dense, LSTM, GRU, LeakyReLU, Dropout\n",
    "from keras.layers import CuDNNLSTM, CuDNNGRU, Embedding, Bidirectional\n",
    "from keras.callbacks import ModelCheckpoint, TensorBoard, EarlyStopping\n",
    "from keras.optimizers import Adam\n",
    "from keras.preprocessing.text import Tokenizer\n",
    "from keras.preprocessing.sequence import pad_sequences\n",
    "\n",
    "import bokeh.plotting as bp\n",
    "from bokeh.models import HoverTool, BoxSelectTool\n",
    "from bokeh.plotting import figure, show, output_notebook\n",
    "\n",
    "import matplotlib.pyplot as plt\n",
    "%matplotlib inline"
   ]
  },
  {
   "cell_type": "markdown",
   "metadata": {},
   "source": [
    "## The dataset\n",
    "---\n",
    "Let's see what we're working with."
   ]
  },
  {
   "cell_type": "code",
   "execution_count": 2,
   "metadata": {},
   "outputs": [
    {
     "data": {
      "text/html": [
       "<div>\n",
       "<style scoped>\n",
       "    .dataframe tbody tr th:only-of-type {\n",
       "        vertical-align: middle;\n",
       "    }\n",
       "\n",
       "    .dataframe tbody tr th {\n",
       "        vertical-align: top;\n",
       "    }\n",
       "\n",
       "    .dataframe thead th {\n",
       "        text-align: right;\n",
       "    }\n",
       "</style>\n",
       "<table border=\"1\" class=\"dataframe\">\n",
       "  <thead>\n",
       "    <tr style=\"text-align: right;\">\n",
       "      <th></th>\n",
       "      <th>id</th>\n",
       "      <th>period</th>\n",
       "      <th>response</th>\n",
       "      <th>n</th>\n",
       "      <th>sentiment</th>\n",
       "    </tr>\n",
       "  </thead>\n",
       "  <tbody>\n",
       "    <tr>\n",
       "      <th>0</th>\n",
       "      <td>69658</td>\n",
       "      <td>3m</td>\n",
       "      <td>Getting praised for how i do my job from my boss</td>\n",
       "      <td>1</td>\n",
       "      <td>achievement</td>\n",
       "    </tr>\n",
       "    <tr>\n",
       "      <th>1</th>\n",
       "      <td>42174</td>\n",
       "      <td>24h</td>\n",
       "      <td>I put freshly laundered sheets on my bed, took...</td>\n",
       "      <td>1</td>\n",
       "      <td>enjoy_the_moment</td>\n",
       "    </tr>\n",
       "    <tr>\n",
       "      <th>2</th>\n",
       "      <td>29234</td>\n",
       "      <td>24h</td>\n",
       "      <td>Having sex with my wife</td>\n",
       "      <td>1</td>\n",
       "      <td>affection</td>\n",
       "    </tr>\n",
       "    <tr>\n",
       "      <th>3</th>\n",
       "      <td>62384</td>\n",
       "      <td>3m</td>\n",
       "      <td>I hate to admit it, but of the things that mad...</td>\n",
       "      <td>1</td>\n",
       "      <td>achievement</td>\n",
       "    </tr>\n",
       "    <tr>\n",
       "      <th>4</th>\n",
       "      <td>33806</td>\n",
       "      <td>24h</td>\n",
       "      <td>I saw my partner smile at our brain injury sup...</td>\n",
       "      <td>1</td>\n",
       "      <td>bonding</td>\n",
       "    </tr>\n",
       "  </tbody>\n",
       "</table>\n",
       "</div>"
      ],
      "text/plain": [
       "      id period                                           response  n  \\\n",
       "0  69658     3m   Getting praised for how i do my job from my boss  1   \n",
       "1  42174    24h  I put freshly laundered sheets on my bed, took...  1   \n",
       "2  29234    24h                           Having sex with my wife   1   \n",
       "3  62384     3m  I hate to admit it, but of the things that mad...  1   \n",
       "4  33806    24h  I saw my partner smile at our brain injury sup...  1   \n",
       "\n",
       "          sentiment  \n",
       "0       achievement  \n",
       "1  enjoy_the_moment  \n",
       "2         affection  \n",
       "3       achievement  \n",
       "4           bonding  "
      ]
     },
     "execution_count": 2,
     "metadata": {},
     "output_type": "execute_result"
    }
   ],
   "source": [
    "df = pd.read_csv('D:/Datasets/mc-sent/p_train.csv', low_memory=False)\n",
    "df.head()"
   ]
  },
  {
   "cell_type": "markdown",
   "metadata": {},
   "source": [
    "Here's what each column means\n",
    "- `id` is just a unique id for each sentence\n",
    "- `period` is the period during which the interviewee had their experience, which can be either during the last 24 hours (`24h`) or the last 3 months (`3m`)\n",
    "- `response` is the response of the interviewee and the most important independent variable\n",
    "- `n` is the number of sentences in the response, and\n",
    "- `sentiment` is our target variable"
   ]
  },
  {
   "cell_type": "code",
   "execution_count": 3,
   "metadata": {},
   "outputs": [],
   "source": [
    "labels = df[['id', 'sentiment']]"
   ]
  },
  {
   "cell_type": "code",
   "execution_count": 4,
   "metadata": {},
   "outputs": [
    {
     "data": {
      "text/plain": [
       "['achievement',\n",
       " 'affection',\n",
       " 'bonding',\n",
       " 'enjoy_the_moment',\n",
       " 'exercise',\n",
       " 'leisure',\n",
       " 'nature']"
      ]
     },
     "execution_count": 4,
     "metadata": {},
     "output_type": "execute_result"
    }
   ],
   "source": [
    "classes = sorted(labels.sentiment.unique())\n",
    "classes"
   ]
  },
  {
   "cell_type": "markdown",
   "metadata": {},
   "source": [
    "## Preprocessing\n",
    "---\n",
    "To keep the first model simple, we'll go ahead and drop the `n` column. We'll see soon that it doesn't matter anyway.\n",
    "<br>\n",
    "We'll also drop the `id` column because that's just a random number\n",
    "<br>\n",
    "<br>\n",
    "...or is it?\n",
    "<br>\n",
    "(cue vsauce music)\n",
    "<br>\n",
    "<br>\n",
    "Assuming anything about the data beforehand will almost always mislead our model. For example, it might be possible that while collecting the data, the ids were assigned serially and it just so happened that every fifth observation was taken in a park full of people, where the predominant cause of  happiness was `exercise` or `nature`. This is probably useless in the real world, but insights like these might win you a hackathon. We'll keep it to track if our shuffles are working correctly but we won't be using it for training our models.\n",
    "<br>\n",
    "And we'll obviously drop the `sentiment` column as it is the target variable."
   ]
  },
  {
   "cell_type": "code",
   "execution_count": 5,
   "metadata": {},
   "outputs": [],
   "source": [
    "df.drop(['n', 'sentiment'], axis=1, inplace=True)"
   ]
  },
  {
   "cell_type": "markdown",
   "metadata": {},
   "source": [
    "Usually with these problems, the classes are not always balanced, but we'll worry about that later. First, we want to get a simple model up and running to compare our future models with.\n",
    "<br>\n",
    "Let's quickly convert our categories into one-hot arrays before proceeding further."
   ]
  },
  {
   "cell_type": "code",
   "execution_count": 6,
   "metadata": {},
   "outputs": [],
   "source": [
    "label_to_cat = dict()\n",
    "for i in range(len(classes)):\n",
    "    dummy = np.zeros((len(classes),), dtype='int8')\n",
    "    dummy[i] = 1\n",
    "    label_to_cat[classes[i]] = dummy"
   ]
  },
  {
   "cell_type": "code",
   "execution_count": 7,
   "metadata": {},
   "outputs": [],
   "source": [
    "cat_to_label = dict()\n",
    "for k, v in label_to_cat.items():\n",
    "    cat_to_label[tuple(v)] = k"
   ]
  },
  {
   "cell_type": "code",
   "execution_count": 8,
   "metadata": {},
   "outputs": [],
   "source": [
    "y = np.array([label_to_cat[label] for label in labels.sentiment])"
   ]
  },
  {
   "cell_type": "code",
   "execution_count": 9,
   "metadata": {},
   "outputs": [
    {
     "data": {
      "text/plain": [
       "array([[1, 0, 0, 0, 0, 0, 0],\n",
       "       [0, 0, 0, 1, 0, 0, 0],\n",
       "       [0, 1, 0, 0, 0, 0, 0],\n",
       "       [1, 0, 0, 0, 0, 0, 0],\n",
       "       [0, 0, 1, 0, 0, 0, 0]], dtype=int8)"
      ]
     },
     "execution_count": 9,
     "metadata": {},
     "output_type": "execute_result"
    }
   ],
   "source": [
    "y[:5]"
   ]
  },
  {
   "cell_type": "markdown",
   "metadata": {},
   "source": [
    "Converting the response column to lowercase."
   ]
  },
  {
   "cell_type": "code",
   "execution_count": 10,
   "metadata": {},
   "outputs": [
    {
     "data": {
      "text/html": [
       "<div>\n",
       "<style scoped>\n",
       "    .dataframe tbody tr th:only-of-type {\n",
       "        vertical-align: middle;\n",
       "    }\n",
       "\n",
       "    .dataframe tbody tr th {\n",
       "        vertical-align: top;\n",
       "    }\n",
       "\n",
       "    .dataframe thead th {\n",
       "        text-align: right;\n",
       "    }\n",
       "</style>\n",
       "<table border=\"1\" class=\"dataframe\">\n",
       "  <thead>\n",
       "    <tr style=\"text-align: right;\">\n",
       "      <th></th>\n",
       "      <th>id</th>\n",
       "      <th>period</th>\n",
       "      <th>response</th>\n",
       "    </tr>\n",
       "  </thead>\n",
       "  <tbody>\n",
       "    <tr>\n",
       "      <th>0</th>\n",
       "      <td>69658</td>\n",
       "      <td>3m</td>\n",
       "      <td>getting praised for how i do my job from my boss</td>\n",
       "    </tr>\n",
       "    <tr>\n",
       "      <th>1</th>\n",
       "      <td>42174</td>\n",
       "      <td>24h</td>\n",
       "      <td>i put freshly laundered sheets on my bed, took...</td>\n",
       "    </tr>\n",
       "    <tr>\n",
       "      <th>2</th>\n",
       "      <td>29234</td>\n",
       "      <td>24h</td>\n",
       "      <td>having sex with my wife</td>\n",
       "    </tr>\n",
       "    <tr>\n",
       "      <th>3</th>\n",
       "      <td>62384</td>\n",
       "      <td>3m</td>\n",
       "      <td>i hate to admit it, but of the things that mad...</td>\n",
       "    </tr>\n",
       "    <tr>\n",
       "      <th>4</th>\n",
       "      <td>33806</td>\n",
       "      <td>24h</td>\n",
       "      <td>i saw my partner smile at our brain injury sup...</td>\n",
       "    </tr>\n",
       "  </tbody>\n",
       "</table>\n",
       "</div>"
      ],
      "text/plain": [
       "      id period                                           response\n",
       "0  69658     3m   getting praised for how i do my job from my boss\n",
       "1  42174    24h  i put freshly laundered sheets on my bed, took...\n",
       "2  29234    24h                           having sex with my wife \n",
       "3  62384     3m  i hate to admit it, but of the things that mad...\n",
       "4  33806    24h  i saw my partner smile at our brain injury sup..."
      ]
     },
     "execution_count": 10,
     "metadata": {},
     "output_type": "execute_result"
    }
   ],
   "source": [
    "df.response = df.response.apply(str.lower)\n",
    "df.head()"
   ]
  },
  {
   "cell_type": "markdown",
   "metadata": {},
   "source": [
    "All the steps upto here are dataset-independent. We would have to go through the same preprocessing steps for our test set as well as all the other models we'll try, regardless of architecture.\n",
    "<br>\n",
    "<br>\n",
    "## Postprocessing\n",
    "---\n",
    "Our first few models will follow the traditional approach of doing a lot of work ourselves and gradually move on to higher and higher levels of abstraction. However, the _preprocessing_ step will be common across all pipelines.\n",
    "<br>\n",
    "<br>\n",
    "Neural networks cannot process strings, let alone strings of arbitrary size, so we first split them at punctuations and spaces after lowercasing the sentence. This is called tokenization (well...it's a bit more complicated than what I just said).\n",
    "<br>\n",
    "We'll use the `word_tokenize` function from `nltk` to help us with this."
   ]
  },
  {
   "cell_type": "code",
   "execution_count": 11,
   "metadata": {},
   "outputs": [],
   "source": [
    "def tokenize(df):\n",
    "    df['tokens'] = df['response'].map(lambda x: nltk.word_tokenize(x))"
   ]
  },
  {
   "cell_type": "code",
   "execution_count": 12,
   "metadata": {},
   "outputs": [
    {
     "data": {
      "text/html": [
       "<div>\n",
       "<style scoped>\n",
       "    .dataframe tbody tr th:only-of-type {\n",
       "        vertical-align: middle;\n",
       "    }\n",
       "\n",
       "    .dataframe tbody tr th {\n",
       "        vertical-align: top;\n",
       "    }\n",
       "\n",
       "    .dataframe thead th {\n",
       "        text-align: right;\n",
       "    }\n",
       "</style>\n",
       "<table border=\"1\" class=\"dataframe\">\n",
       "  <thead>\n",
       "    <tr style=\"text-align: right;\">\n",
       "      <th></th>\n",
       "      <th>id</th>\n",
       "      <th>period</th>\n",
       "      <th>response</th>\n",
       "      <th>tokens</th>\n",
       "    </tr>\n",
       "  </thead>\n",
       "  <tbody>\n",
       "    <tr>\n",
       "      <th>0</th>\n",
       "      <td>69658</td>\n",
       "      <td>3m</td>\n",
       "      <td>getting praised for how i do my job from my boss</td>\n",
       "      <td>[getting, praised, for, how, i, do, my, job, f...</td>\n",
       "    </tr>\n",
       "    <tr>\n",
       "      <th>1</th>\n",
       "      <td>42174</td>\n",
       "      <td>24h</td>\n",
       "      <td>i put freshly laundered sheets on my bed, took...</td>\n",
       "      <td>[i, put, freshly, laundered, sheets, on, my, b...</td>\n",
       "    </tr>\n",
       "    <tr>\n",
       "      <th>2</th>\n",
       "      <td>29234</td>\n",
       "      <td>24h</td>\n",
       "      <td>having sex with my wife</td>\n",
       "      <td>[having, sex, with, my, wife]</td>\n",
       "    </tr>\n",
       "    <tr>\n",
       "      <th>3</th>\n",
       "      <td>62384</td>\n",
       "      <td>3m</td>\n",
       "      <td>i hate to admit it, but of the things that mad...</td>\n",
       "      <td>[i, hate, to, admit, it, ,, but, of, the, thin...</td>\n",
       "    </tr>\n",
       "    <tr>\n",
       "      <th>4</th>\n",
       "      <td>33806</td>\n",
       "      <td>24h</td>\n",
       "      <td>i saw my partner smile at our brain injury sup...</td>\n",
       "      <td>[i, saw, my, partner, smile, at, our, brain, i...</td>\n",
       "    </tr>\n",
       "  </tbody>\n",
       "</table>\n",
       "</div>"
      ],
      "text/plain": [
       "      id period                                           response  \\\n",
       "0  69658     3m   getting praised for how i do my job from my boss   \n",
       "1  42174    24h  i put freshly laundered sheets on my bed, took...   \n",
       "2  29234    24h                           having sex with my wife    \n",
       "3  62384     3m  i hate to admit it, but of the things that mad...   \n",
       "4  33806    24h  i saw my partner smile at our brain injury sup...   \n",
       "\n",
       "                                              tokens  \n",
       "0  [getting, praised, for, how, i, do, my, job, f...  \n",
       "1  [i, put, freshly, laundered, sheets, on, my, b...  \n",
       "2                      [having, sex, with, my, wife]  \n",
       "3  [i, hate, to, admit, it, ,, but, of, the, thin...  \n",
       "4  [i, saw, my, partner, smile, at, our, brain, i...  "
      ]
     },
     "execution_count": 12,
     "metadata": {},
     "output_type": "execute_result"
    }
   ],
   "source": [
    "tokenize(df)\n",
    "df.head()"
   ]
  },
  {
   "cell_type": "markdown",
   "metadata": {},
   "source": [
    "Stopwords are words that appear way too frequently in the English language to be actually meaningful, like 'a', 'an', 'the', 'there', etc. `nltk.corpus` has a handy `stopwords` function that enumerates these.\n",
    "We could do a stopword removal process while tokenization, but I decided against it as it might affect the context. The stopword corpus includes a 'not', a negation that can flip the emotion of the passage. Moreover, phrases like 'To be or not to be' would be entirely removed. We could make our own corpus of stopwords, but the performance would hardly improve as our dataset is pretty small already. So we drop the idea and move on."
   ]
  },
  {
   "cell_type": "markdown",
   "metadata": {},
   "source": [
    "Once we have the tokens, we don't need the original responses, because our model can't make any sense of it anyway."
   ]
  },
  {
   "cell_type": "code",
   "execution_count": 13,
   "metadata": {},
   "outputs": [],
   "source": [
    "df.drop(['response'], axis=1, inplace=True)"
   ]
  },
  {
   "cell_type": "markdown",
   "metadata": {},
   "source": [
    "\n",
    "It's a great time now to separate a part of the training set into the validation set, to make sure we aren't cheating. As the data is unstructured, a random shuffle will work just fine."
   ]
  },
  {
   "cell_type": "code",
   "execution_count": 14,
   "metadata": {},
   "outputs": [],
   "source": [
    "df_train, df_val, y_train, y_val = train_test_split(df, y, test_size=0.15, random_state=42)"
   ]
  },
  {
   "cell_type": "markdown",
   "metadata": {},
   "source": [
    "Remove the random-seed parameter if you want a new permutation every run."
   ]
  },
  {
   "cell_type": "code",
   "execution_count": 15,
   "metadata": {},
   "outputs": [
    {
     "name": "stdout",
     "output_type": "stream",
     "text": [
      "(46172, 3) (46172, 7)\n",
      "(8149, 3) (8149, 7)\n"
     ]
    }
   ],
   "source": [
    "print(df_train.shape, y_train.shape)\n",
    "print(df_val.shape, y_val.shape)"
   ]
  },
  {
   "cell_type": "markdown",
   "metadata": {},
   "source": [
    "## Embeddings\n",
    "---\n",
    "There is just one more problem. Neural networks work on strictly numerical data and still can't make sense of the tokens in our dataset. We need to find a way to represent each word as a vector, somehow.\n",
    "<br>\n",
    "Let's take a little detour.\n",
    "<br>\n",
    "Suppose we want to differentiate between _pop_ and _metal_. What are some properties we can use to describe these genres?\n",
    "<br>\n",
    "Let's use percussion, electric guitar, acoustic guitar, synth, happiness, sadness, anger and complexity as the features to describe each genre.\n",
    "The vector for _pop_ might look something like\n",
    "<br>\n",
    "\n",
    "$$ (0.5\\ \\ 0.2\\ \\ 0.5\\ \\ 1.0\\ \\ 0.8\\ \\ 0.5\\ \\ 0.2\\ \\ 0.3) $$\n",
    "\n",
    "and the one for _metal_ might look like\n",
    "<br>\n",
    "\n",
    "$$ (0.9\\ \\ 0.9\\ \\ 0.3\\ \\ 0.1\\ \\ 0.4\\ \\ 0.5\\ \\ 0.8\\ \\ 0.7) $$\n",
    "\n",
    "So if we want to classify _heavy-metal_, its vector might be\n",
    "<br>\n",
    "\n",
    "$$ (1.0\\ \\ 1.0\\ \\ 0.0\\ \\ 0.1\\ \\ 0.1\\ \\ 0.5\\ \\ 1.0\\ \\ 0.9) $$\n",
    "\n",
    "These vectors can be plotted in an 8-dimensional space and the euclidean distance (`np.linalg.norm`) between _metal_ and _heavy-metal_ (0.529) will be closer than the euclidean distance between _pop_ and _metal_ (1.476), for example.\n",
    "<br>\n",
    "Similarly, we can encode every single word in our corpus in some way, to form a vector. We have algorithms that can train a model to generate an n-dimensional vector for each word. We have no way of interpreting (that I know of) what features were selected or what the numbers in the vectors actually mean, but we'll see that they work anyway and similar words huddle up together.\n",
    "<br>\n",
    "`gensim` provides a handy tool that can train a set of embeddings according to your corpus, but we have to 'Tag' them first as the model accepts a vector of `TaggedDocument` objects."
   ]
  },
  {
   "cell_type": "code",
   "execution_count": 16,
   "metadata": {},
   "outputs": [],
   "source": [
    "def tag_sentences(sentences, label):\n",
    "    tagged = []\n",
    "    for index, sentence in enumerate(sentences):\n",
    "        label = f'{label}_{index}'\n",
    "        tagged.append(TaggedDocument(sentence, [label]))\n",
    "    return tagged"
   ]
  },
  {
   "cell_type": "code",
   "execution_count": 17,
   "metadata": {},
   "outputs": [],
   "source": [
    "vector_train_corpus = tag_sentences(df_train.tokens, 'TRAIN')\n",
    "vector_val_corpus = tag_sentences(df_val.tokens, 'TEST')"
   ]
  },
  {
   "cell_type": "markdown",
   "metadata": {},
   "source": [
    "A tagged vector looks like this."
   ]
  },
  {
   "cell_type": "code",
   "execution_count": 18,
   "metadata": {},
   "outputs": [
    {
     "data": {
      "text/plain": [
       "TaggedDocument(words=['my', 'friend', 'came', 'over', 'to', 'watch', 'critical', 'role', '.'], tags=['TRAIN_0_1'])"
      ]
     },
     "execution_count": 18,
     "metadata": {},
     "output_type": "execute_result"
    }
   ],
   "source": [
    "vector_train_corpus[1]"
   ]
  },
  {
   "cell_type": "markdown",
   "metadata": {},
   "source": [
    "The `Word2Vec` module can train a dictionary of embeddings, given a vector of `TaggedDocument` objects."
   ]
  },
  {
   "cell_type": "code",
   "execution_count": 19,
   "metadata": {},
   "outputs": [
    {
     "data": {
      "text/plain": [
       "(3084407, 4742585)"
      ]
     },
     "execution_count": 19,
     "metadata": {},
     "output_type": "execute_result"
    }
   ],
   "source": [
    "embeddings = Word2Vec(size=200, min_count=3)\n",
    "embeddings.build_vocab([sentence.words for sentence in vector_train_corpus])\n",
    "embeddings.train([sentence.words for sentence in vector_train_corpus],\n",
    "                 total_examples=embeddings.corpus_count,\n",
    "                 epochs=embeddings.epochs)"
   ]
  },
  {
   "cell_type": "markdown",
   "metadata": {},
   "source": [
    "Let's see if our embeddings are any good."
   ]
  },
  {
   "cell_type": "code",
   "execution_count": 20,
   "metadata": {
    "scrolled": true
   },
   "outputs": [
    {
     "data": {
      "text/plain": [
       "[('weights', 0.8415981531143188),\n",
       " ('diet', 0.823296308517456),\n",
       " ('cash', 0.8081855773925781),\n",
       " ('overtime', 0.8048149943351746),\n",
       " ('savings', 0.7981317639350891),\n",
       " ('routine', 0.7969541549682617),\n",
       " ('exercising', 0.7916312217712402),\n",
       " ('surveys', 0.7907524108886719),\n",
       " ('survey', 0.7893239259719849),\n",
       " ('workout', 0.788111686706543)]"
      ]
     },
     "execution_count": 20,
     "metadata": {},
     "output_type": "execute_result"
    }
   ],
   "source": [
    "embeddings.wv.most_similar('exercise')"
   ]
  },
  {
   "cell_type": "markdown",
   "metadata": {},
   "source": [
    "We learnt some good correlations to 'exercise' like 'cardio' and 'workout' but the rest aren't good enough. Anyway, this will do for now."
   ]
  },
  {
   "cell_type": "markdown",
   "metadata": {},
   "source": [
    "### Visualizing the embeddings\n",
    "We cannot directly visualize high-dimensional data.\n",
    "To see if our embeddings actually carry useful information, we need to reduce the dimensionality to 2 somehow.\n",
    "There are two extremely useful techniques **PCA** (principal component analysis) and **t-SNE** (T-distributed stochastic neighboring entities) that do just this, flatten high-dimensional data into the best possible representation in the specified number of lower dimensions.\n",
    "<br>\n",
    "t-SNE is a probabilistic method and takes a while to run, but we'll try both methods for the 2000 most common words in our embeddings."
   ]
  },
  {
   "cell_type": "markdown",
   "metadata": {},
   "source": [
    "### PCA"
   ]
  },
  {
   "cell_type": "code",
   "execution_count": 21,
   "metadata": {},
   "outputs": [],
   "source": [
    "vectors = [embeddings[word] for word in list(embeddings.wv.vocab.keys())[:2000]]\n",
    "\n",
    "pca = PCA(n_components=2, random_state=42)\n",
    "pca_vectors = pca.fit_transform(vectors)"
   ]
  },
  {
   "cell_type": "code",
   "execution_count": 22,
   "metadata": {},
   "outputs": [],
   "source": [
    "reduced_df = pd.DataFrame(pca_vectors, columns=['dim_1', 'dim_2'])\n",
    "reduced_df['words'] = list(embeddings.wv.vocab.keys())[:2000]"
   ]
  },
  {
   "cell_type": "markdown",
   "metadata": {},
   "source": [
    "Bokeh is an extremely useful library for interactive plots which has flown under the radar of quite a lot of people for a long time."
   ]
  },
  {
   "cell_type": "code",
   "execution_count": 23,
   "metadata": {},
   "outputs": [
    {
     "data": {
      "text/html": [
       "\n",
       "    <div class=\"bk-root\">\n",
       "        <a href=\"https://bokeh.pydata.org\" target=\"_blank\" class=\"bk-logo bk-logo-small bk-logo-notebook\"></a>\n",
       "        <span id=\"1001\">Loading BokehJS ...</span>\n",
       "    </div>"
      ]
     },
     "metadata": {},
     "output_type": "display_data"
    },
    {
     "data": {
      "application/javascript": [
       "\n",
       "(function(root) {\n",
       "  function now() {\n",
       "    return new Date();\n",
       "  }\n",
       "\n",
       "  var force = true;\n",
       "\n",
       "  if (typeof (root._bokeh_onload_callbacks) === \"undefined\" || force === true) {\n",
       "    root._bokeh_onload_callbacks = [];\n",
       "    root._bokeh_is_loading = undefined;\n",
       "  }\n",
       "\n",
       "  var JS_MIME_TYPE = 'application/javascript';\n",
       "  var HTML_MIME_TYPE = 'text/html';\n",
       "  var EXEC_MIME_TYPE = 'application/vnd.bokehjs_exec.v0+json';\n",
       "  var CLASS_NAME = 'output_bokeh rendered_html';\n",
       "\n",
       "  /**\n",
       "   * Render data to the DOM node\n",
       "   */\n",
       "  function render(props, node) {\n",
       "    var script = document.createElement(\"script\");\n",
       "    node.appendChild(script);\n",
       "  }\n",
       "\n",
       "  /**\n",
       "   * Handle when an output is cleared or removed\n",
       "   */\n",
       "  function handleClearOutput(event, handle) {\n",
       "    var cell = handle.cell;\n",
       "\n",
       "    var id = cell.output_area._bokeh_element_id;\n",
       "    var server_id = cell.output_area._bokeh_server_id;\n",
       "    // Clean up Bokeh references\n",
       "    if (id != null && id in Bokeh.index) {\n",
       "      Bokeh.index[id].model.document.clear();\n",
       "      delete Bokeh.index[id];\n",
       "    }\n",
       "\n",
       "    if (server_id !== undefined) {\n",
       "      // Clean up Bokeh references\n",
       "      var cmd = \"from bokeh.io.state import curstate; print(curstate().uuid_to_server['\" + server_id + \"'].get_sessions()[0].document.roots[0]._id)\";\n",
       "      cell.notebook.kernel.execute(cmd, {\n",
       "        iopub: {\n",
       "          output: function(msg) {\n",
       "            var id = msg.content.text.trim();\n",
       "            if (id in Bokeh.index) {\n",
       "              Bokeh.index[id].model.document.clear();\n",
       "              delete Bokeh.index[id];\n",
       "            }\n",
       "          }\n",
       "        }\n",
       "      });\n",
       "      // Destroy server and session\n",
       "      var cmd = \"import bokeh.io.notebook as ion; ion.destroy_server('\" + server_id + \"')\";\n",
       "      cell.notebook.kernel.execute(cmd);\n",
       "    }\n",
       "  }\n",
       "\n",
       "  /**\n",
       "   * Handle when a new output is added\n",
       "   */\n",
       "  function handleAddOutput(event, handle) {\n",
       "    var output_area = handle.output_area;\n",
       "    var output = handle.output;\n",
       "\n",
       "    // limit handleAddOutput to display_data with EXEC_MIME_TYPE content only\n",
       "    if ((output.output_type != \"display_data\") || (!output.data.hasOwnProperty(EXEC_MIME_TYPE))) {\n",
       "      return\n",
       "    }\n",
       "\n",
       "    var toinsert = output_area.element.find(\".\" + CLASS_NAME.split(' ')[0]);\n",
       "\n",
       "    if (output.metadata[EXEC_MIME_TYPE][\"id\"] !== undefined) {\n",
       "      toinsert[toinsert.length - 1].firstChild.textContent = output.data[JS_MIME_TYPE];\n",
       "      // store reference to embed id on output_area\n",
       "      output_area._bokeh_element_id = output.metadata[EXEC_MIME_TYPE][\"id\"];\n",
       "    }\n",
       "    if (output.metadata[EXEC_MIME_TYPE][\"server_id\"] !== undefined) {\n",
       "      var bk_div = document.createElement(\"div\");\n",
       "      bk_div.innerHTML = output.data[HTML_MIME_TYPE];\n",
       "      var script_attrs = bk_div.children[0].attributes;\n",
       "      for (var i = 0; i < script_attrs.length; i++) {\n",
       "        toinsert[toinsert.length - 1].firstChild.setAttribute(script_attrs[i].name, script_attrs[i].value);\n",
       "      }\n",
       "      // store reference to server id on output_area\n",
       "      output_area._bokeh_server_id = output.metadata[EXEC_MIME_TYPE][\"server_id\"];\n",
       "    }\n",
       "  }\n",
       "\n",
       "  function register_renderer(events, OutputArea) {\n",
       "\n",
       "    function append_mime(data, metadata, element) {\n",
       "      // create a DOM node to render to\n",
       "      var toinsert = this.create_output_subarea(\n",
       "        metadata,\n",
       "        CLASS_NAME,\n",
       "        EXEC_MIME_TYPE\n",
       "      );\n",
       "      this.keyboard_manager.register_events(toinsert);\n",
       "      // Render to node\n",
       "      var props = {data: data, metadata: metadata[EXEC_MIME_TYPE]};\n",
       "      render(props, toinsert[toinsert.length - 1]);\n",
       "      element.append(toinsert);\n",
       "      return toinsert\n",
       "    }\n",
       "\n",
       "    /* Handle when an output is cleared or removed */\n",
       "    events.on('clear_output.CodeCell', handleClearOutput);\n",
       "    events.on('delete.Cell', handleClearOutput);\n",
       "\n",
       "    /* Handle when a new output is added */\n",
       "    events.on('output_added.OutputArea', handleAddOutput);\n",
       "\n",
       "    /**\n",
       "     * Register the mime type and append_mime function with output_area\n",
       "     */\n",
       "    OutputArea.prototype.register_mime_type(EXEC_MIME_TYPE, append_mime, {\n",
       "      /* Is output safe? */\n",
       "      safe: true,\n",
       "      /* Index of renderer in `output_area.display_order` */\n",
       "      index: 0\n",
       "    });\n",
       "  }\n",
       "\n",
       "  // register the mime type if in Jupyter Notebook environment and previously unregistered\n",
       "  if (root.Jupyter !== undefined) {\n",
       "    var events = require('base/js/events');\n",
       "    var OutputArea = require('notebook/js/outputarea').OutputArea;\n",
       "\n",
       "    if (OutputArea.prototype.mime_types().indexOf(EXEC_MIME_TYPE) == -1) {\n",
       "      register_renderer(events, OutputArea);\n",
       "    }\n",
       "  }\n",
       "\n",
       "  \n",
       "  if (typeof (root._bokeh_timeout) === \"undefined\" || force === true) {\n",
       "    root._bokeh_timeout = Date.now() + 5000;\n",
       "    root._bokeh_failed_load = false;\n",
       "  }\n",
       "\n",
       "  var NB_LOAD_WARNING = {'data': {'text/html':\n",
       "     \"<div style='background-color: #fdd'>\\n\"+\n",
       "     \"<p>\\n\"+\n",
       "     \"BokehJS does not appear to have successfully loaded. If loading BokehJS from CDN, this \\n\"+\n",
       "     \"may be due to a slow or bad network connection. Possible fixes:\\n\"+\n",
       "     \"</p>\\n\"+\n",
       "     \"<ul>\\n\"+\n",
       "     \"<li>re-rerun `output_notebook()` to attempt to load from CDN again, or</li>\\n\"+\n",
       "     \"<li>use INLINE resources instead, as so:</li>\\n\"+\n",
       "     \"</ul>\\n\"+\n",
       "     \"<code>\\n\"+\n",
       "     \"from bokeh.resources import INLINE\\n\"+\n",
       "     \"output_notebook(resources=INLINE)\\n\"+\n",
       "     \"</code>\\n\"+\n",
       "     \"</div>\"}};\n",
       "\n",
       "  function display_loaded() {\n",
       "    var el = document.getElementById(\"1001\");\n",
       "    if (el != null) {\n",
       "      el.textContent = \"BokehJS is loading...\";\n",
       "    }\n",
       "    if (root.Bokeh !== undefined) {\n",
       "      if (el != null) {\n",
       "        el.textContent = \"BokehJS \" + root.Bokeh.version + \" successfully loaded.\";\n",
       "      }\n",
       "    } else if (Date.now() < root._bokeh_timeout) {\n",
       "      setTimeout(display_loaded, 100)\n",
       "    }\n",
       "  }\n",
       "\n",
       "\n",
       "  function run_callbacks() {\n",
       "    try {\n",
       "      root._bokeh_onload_callbacks.forEach(function(callback) { callback() });\n",
       "    }\n",
       "    finally {\n",
       "      delete root._bokeh_onload_callbacks\n",
       "    }\n",
       "    console.info(\"Bokeh: all callbacks have finished\");\n",
       "  }\n",
       "\n",
       "  function load_libs(js_urls, callback) {\n",
       "    root._bokeh_onload_callbacks.push(callback);\n",
       "    if (root._bokeh_is_loading > 0) {\n",
       "      console.log(\"Bokeh: BokehJS is being loaded, scheduling callback at\", now());\n",
       "      return null;\n",
       "    }\n",
       "    if (js_urls == null || js_urls.length === 0) {\n",
       "      run_callbacks();\n",
       "      return null;\n",
       "    }\n",
       "    console.log(\"Bokeh: BokehJS not loaded, scheduling load and callback at\", now());\n",
       "    root._bokeh_is_loading = js_urls.length;\n",
       "    for (var i = 0; i < js_urls.length; i++) {\n",
       "      var url = js_urls[i];\n",
       "      var s = document.createElement('script');\n",
       "      s.src = url;\n",
       "      s.async = false;\n",
       "      s.onreadystatechange = s.onload = function() {\n",
       "        root._bokeh_is_loading--;\n",
       "        if (root._bokeh_is_loading === 0) {\n",
       "          console.log(\"Bokeh: all BokehJS libraries loaded\");\n",
       "          run_callbacks()\n",
       "        }\n",
       "      };\n",
       "      s.onerror = function() {\n",
       "        console.warn(\"failed to load library \" + url);\n",
       "      };\n",
       "      console.log(\"Bokeh: injecting script tag for BokehJS library: \", url);\n",
       "      document.getElementsByTagName(\"head\")[0].appendChild(s);\n",
       "    }\n",
       "  };var element = document.getElementById(\"1001\");\n",
       "  if (element == null) {\n",
       "    console.log(\"Bokeh: ERROR: autoload.js configured with elementid '1001' but no matching script tag was found. \")\n",
       "    return false;\n",
       "  }\n",
       "\n",
       "  var js_urls = [\"https://cdn.pydata.org/bokeh/release/bokeh-1.0.3.min.js\", \"https://cdn.pydata.org/bokeh/release/bokeh-widgets-1.0.3.min.js\", \"https://cdn.pydata.org/bokeh/release/bokeh-tables-1.0.3.min.js\", \"https://cdn.pydata.org/bokeh/release/bokeh-gl-1.0.3.min.js\"];\n",
       "\n",
       "  var inline_js = [\n",
       "    function(Bokeh) {\n",
       "      Bokeh.set_log_level(\"info\");\n",
       "    },\n",
       "    \n",
       "    function(Bokeh) {\n",
       "      \n",
       "    },\n",
       "    function(Bokeh) {\n",
       "      console.log(\"Bokeh: injecting CSS: https://cdn.pydata.org/bokeh/release/bokeh-1.0.3.min.css\");\n",
       "      Bokeh.embed.inject_css(\"https://cdn.pydata.org/bokeh/release/bokeh-1.0.3.min.css\");\n",
       "      console.log(\"Bokeh: injecting CSS: https://cdn.pydata.org/bokeh/release/bokeh-widgets-1.0.3.min.css\");\n",
       "      Bokeh.embed.inject_css(\"https://cdn.pydata.org/bokeh/release/bokeh-widgets-1.0.3.min.css\");\n",
       "      console.log(\"Bokeh: injecting CSS: https://cdn.pydata.org/bokeh/release/bokeh-tables-1.0.3.min.css\");\n",
       "      Bokeh.embed.inject_css(\"https://cdn.pydata.org/bokeh/release/bokeh-tables-1.0.3.min.css\");\n",
       "    }\n",
       "  ];\n",
       "\n",
       "  function run_inline_js() {\n",
       "    \n",
       "    if ((root.Bokeh !== undefined) || (force === true)) {\n",
       "      for (var i = 0; i < inline_js.length; i++) {\n",
       "        inline_js[i].call(root, root.Bokeh);\n",
       "      }if (force === true) {\n",
       "        display_loaded();\n",
       "      }} else if (Date.now() < root._bokeh_timeout) {\n",
       "      setTimeout(run_inline_js, 100);\n",
       "    } else if (!root._bokeh_failed_load) {\n",
       "      console.log(\"Bokeh: BokehJS failed to load within specified timeout.\");\n",
       "      root._bokeh_failed_load = true;\n",
       "    } else if (force !== true) {\n",
       "      var cell = $(document.getElementById(\"1001\")).parents('.cell').data().cell;\n",
       "      cell.output_area.append_execute_result(NB_LOAD_WARNING)\n",
       "    }\n",
       "\n",
       "  }\n",
       "\n",
       "  if (root._bokeh_is_loading === 0) {\n",
       "    console.log(\"Bokeh: BokehJS loaded, going straight to plotting\");\n",
       "    run_inline_js();\n",
       "  } else {\n",
       "    load_libs(js_urls, function() {\n",
       "      console.log(\"Bokeh: BokehJS plotting callback run at\", now());\n",
       "      run_inline_js();\n",
       "    });\n",
       "  }\n",
       "}(window));"
      ],
      "application/vnd.bokehjs_load.v0+json": "\n(function(root) {\n  function now() {\n    return new Date();\n  }\n\n  var force = true;\n\n  if (typeof (root._bokeh_onload_callbacks) === \"undefined\" || force === true) {\n    root._bokeh_onload_callbacks = [];\n    root._bokeh_is_loading = undefined;\n  }\n\n  \n\n  \n  if (typeof (root._bokeh_timeout) === \"undefined\" || force === true) {\n    root._bokeh_timeout = Date.now() + 5000;\n    root._bokeh_failed_load = false;\n  }\n\n  var NB_LOAD_WARNING = {'data': {'text/html':\n     \"<div style='background-color: #fdd'>\\n\"+\n     \"<p>\\n\"+\n     \"BokehJS does not appear to have successfully loaded. If loading BokehJS from CDN, this \\n\"+\n     \"may be due to a slow or bad network connection. Possible fixes:\\n\"+\n     \"</p>\\n\"+\n     \"<ul>\\n\"+\n     \"<li>re-rerun `output_notebook()` to attempt to load from CDN again, or</li>\\n\"+\n     \"<li>use INLINE resources instead, as so:</li>\\n\"+\n     \"</ul>\\n\"+\n     \"<code>\\n\"+\n     \"from bokeh.resources import INLINE\\n\"+\n     \"output_notebook(resources=INLINE)\\n\"+\n     \"</code>\\n\"+\n     \"</div>\"}};\n\n  function display_loaded() {\n    var el = document.getElementById(\"1001\");\n    if (el != null) {\n      el.textContent = \"BokehJS is loading...\";\n    }\n    if (root.Bokeh !== undefined) {\n      if (el != null) {\n        el.textContent = \"BokehJS \" + root.Bokeh.version + \" successfully loaded.\";\n      }\n    } else if (Date.now() < root._bokeh_timeout) {\n      setTimeout(display_loaded, 100)\n    }\n  }\n\n\n  function run_callbacks() {\n    try {\n      root._bokeh_onload_callbacks.forEach(function(callback) { callback() });\n    }\n    finally {\n      delete root._bokeh_onload_callbacks\n    }\n    console.info(\"Bokeh: all callbacks have finished\");\n  }\n\n  function load_libs(js_urls, callback) {\n    root._bokeh_onload_callbacks.push(callback);\n    if (root._bokeh_is_loading > 0) {\n      console.log(\"Bokeh: BokehJS is being loaded, scheduling callback at\", now());\n      return null;\n    }\n    if (js_urls == null || js_urls.length === 0) {\n      run_callbacks();\n      return null;\n    }\n    console.log(\"Bokeh: BokehJS not loaded, scheduling load and callback at\", now());\n    root._bokeh_is_loading = js_urls.length;\n    for (var i = 0; i < js_urls.length; i++) {\n      var url = js_urls[i];\n      var s = document.createElement('script');\n      s.src = url;\n      s.async = false;\n      s.onreadystatechange = s.onload = function() {\n        root._bokeh_is_loading--;\n        if (root._bokeh_is_loading === 0) {\n          console.log(\"Bokeh: all BokehJS libraries loaded\");\n          run_callbacks()\n        }\n      };\n      s.onerror = function() {\n        console.warn(\"failed to load library \" + url);\n      };\n      console.log(\"Bokeh: injecting script tag for BokehJS library: \", url);\n      document.getElementsByTagName(\"head\")[0].appendChild(s);\n    }\n  };var element = document.getElementById(\"1001\");\n  if (element == null) {\n    console.log(\"Bokeh: ERROR: autoload.js configured with elementid '1001' but no matching script tag was found. \")\n    return false;\n  }\n\n  var js_urls = [\"https://cdn.pydata.org/bokeh/release/bokeh-1.0.3.min.js\", \"https://cdn.pydata.org/bokeh/release/bokeh-widgets-1.0.3.min.js\", \"https://cdn.pydata.org/bokeh/release/bokeh-tables-1.0.3.min.js\", \"https://cdn.pydata.org/bokeh/release/bokeh-gl-1.0.3.min.js\"];\n\n  var inline_js = [\n    function(Bokeh) {\n      Bokeh.set_log_level(\"info\");\n    },\n    \n    function(Bokeh) {\n      \n    },\n    function(Bokeh) {\n      console.log(\"Bokeh: injecting CSS: https://cdn.pydata.org/bokeh/release/bokeh-1.0.3.min.css\");\n      Bokeh.embed.inject_css(\"https://cdn.pydata.org/bokeh/release/bokeh-1.0.3.min.css\");\n      console.log(\"Bokeh: injecting CSS: https://cdn.pydata.org/bokeh/release/bokeh-widgets-1.0.3.min.css\");\n      Bokeh.embed.inject_css(\"https://cdn.pydata.org/bokeh/release/bokeh-widgets-1.0.3.min.css\");\n      console.log(\"Bokeh: injecting CSS: https://cdn.pydata.org/bokeh/release/bokeh-tables-1.0.3.min.css\");\n      Bokeh.embed.inject_css(\"https://cdn.pydata.org/bokeh/release/bokeh-tables-1.0.3.min.css\");\n    }\n  ];\n\n  function run_inline_js() {\n    \n    if ((root.Bokeh !== undefined) || (force === true)) {\n      for (var i = 0; i < inline_js.length; i++) {\n        inline_js[i].call(root, root.Bokeh);\n      }if (force === true) {\n        display_loaded();\n      }} else if (Date.now() < root._bokeh_timeout) {\n      setTimeout(run_inline_js, 100);\n    } else if (!root._bokeh_failed_load) {\n      console.log(\"Bokeh: BokehJS failed to load within specified timeout.\");\n      root._bokeh_failed_load = true;\n    } else if (force !== true) {\n      var cell = $(document.getElementById(\"1001\")).parents('.cell').data().cell;\n      cell.output_area.append_execute_result(NB_LOAD_WARNING)\n    }\n\n  }\n\n  if (root._bokeh_is_loading === 0) {\n    console.log(\"Bokeh: BokehJS loaded, going straight to plotting\");\n    run_inline_js();\n  } else {\n    load_libs(js_urls, function() {\n      console.log(\"Bokeh: BokehJS plotting callback run at\", now());\n      run_inline_js();\n    });\n  }\n}(window));"
     },
     "metadata": {},
     "output_type": "display_data"
    },
    {
     "data": {
      "text/html": [
       "\n",
       "\n",
       "\n",
       "\n",
       "\n",
       "\n",
       "  <div class=\"bk-root\" id=\"beb13b62-0fd1-4c27-b7a9-4aacc24c785b\" data-root-id=\"1002\"></div>\n"
      ]
     },
     "metadata": {},
     "output_type": "display_data"
    },
    {
     "data": {
      "application/javascript": [
       "(function(root) {\n",
       "  function embed_document(root) {\n",
       "    \n",
       "  var docs_json = {\"5bf53012-84f5-442b-8a08-b43353452fe5\":{\"roots\":{\"references\":[{\"attributes\":{\"below\":[{\"id\":\"1011\",\"type\":\"LinearAxis\"}],\"left\":[{\"id\":\"1016\",\"type\":\"LinearAxis\"}],\"plot_width\":700,\"renderers\":[{\"id\":\"1011\",\"type\":\"LinearAxis\"},{\"id\":\"1015\",\"type\":\"Grid\"},{\"id\":\"1016\",\"type\":\"LinearAxis\"},{\"id\":\"1020\",\"type\":\"Grid\"},{\"id\":\"1029\",\"type\":\"BoxAnnotation\"},{\"id\":\"1040\",\"type\":\"GlyphRenderer\"}],\"title\":{\"id\":\"1042\",\"type\":\"Title\"},\"toolbar\":{\"id\":\"1027\",\"type\":\"Toolbar\"},\"x_range\":{\"id\":\"1003\",\"type\":\"DataRange1d\"},\"x_scale\":{\"id\":\"1007\",\"type\":\"LinearScale\"},\"y_range\":{\"id\":\"1005\",\"type\":\"DataRange1d\"},\"y_scale\":{\"id\":\"1009\",\"type\":\"LinearScale\"}},\"id\":\"1002\",\"subtype\":\"Figure\",\"type\":\"Plot\"},{\"attributes\":{},\"id\":\"1007\",\"type\":\"LinearScale\"},{\"attributes\":{\"active_drag\":\"auto\",\"active_inspect\":\"auto\",\"active_multi\":null,\"active_scroll\":\"auto\",\"active_tap\":\"auto\",\"tools\":[{\"id\":\"1021\",\"type\":\"PanTool\"},{\"id\":\"1022\",\"type\":\"WheelZoomTool\"},{\"id\":\"1023\",\"type\":\"BoxZoomTool\"},{\"id\":\"1024\",\"type\":\"ResetTool\"},{\"id\":\"1025\",\"type\":\"HoverTool\"},{\"id\":\"1026\",\"type\":\"SaveTool\"}]},\"id\":\"1027\",\"type\":\"Toolbar\"},{\"attributes\":{\"callback\":null},\"id\":\"1003\",\"type\":\"DataRange1d\"},{\"attributes\":{\"bottom_units\":\"screen\",\"fill_alpha\":{\"value\":0.5},\"fill_color\":{\"value\":\"lightgrey\"},\"left_units\":\"screen\",\"level\":\"overlay\",\"line_alpha\":{\"value\":1.0},\"line_color\":{\"value\":\"black\"},\"line_dash\":[4,4],\"line_width\":{\"value\":2},\"plot\":null,\"render_mode\":\"css\",\"right_units\":\"screen\",\"top_units\":\"screen\"},\"id\":\"1029\",\"type\":\"BoxAnnotation\"},{\"attributes\":{\"callback\":null,\"data\":{\"dim_1\":{\"__ndarray__\":\"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\",\"dtype\":\"float64\",\"shape\":[2000]},\"dim_2\":{\"__ndarray__\":\"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\",\"dtype\":\"float64\",\"shape\":[2000]},\"index\":[0,1,2,3,4,5,6,7,8,9,10,11,12,13,14,15,16,17,18,19,20,21,22,23,24,25,26,27,28,29,30,31,32,33,34,35,36,37,38,39,40,41,42,43,44,45,46,47,48,49,50,51,52,53,54,55,56,57,58,59,60,61,62,63,64,65,66,67,68,69,70,71,72,73,74,75,76,77,78,79,80,81,82,83,84,85,86,87,88,89,90,91,92,93,94,95,96,97,98,99,100,101,102,103,104,105,106,107,108,109,110,111,112,113,114,115,116,117,118,119,120,121,122,123,124,125,126,127,128,129,130,131,132,133,134,135,136,137,138,139,140,141,142,143,144,145,146,147,148,149,150,151,152,153,154,155,156,157,158,159,160,161,162,163,164,165,166,167,168,169,170,171,172,173,174,175,176,177,178,179,180,181,182,183,184,185,186,187,188,189,190,191,192,193,194,195,196,197,198,199,200,201,202,203,204,205,206,207,208,209,210,211,212,213,214,215,216,217,218,219,220,221,222,223,224,225,226,227,228,229,230,231,232,233,234,235,236,237,238,239,240,241,242,243,244,245,246,247,248,249,250,251,252,253,254,255,256,257,258,259,260,261,262,263,264,265,266,267,268,269,270,271,272,273,274,275,276,277,278,279,280,281,282,283,284,285,286,287,288,289,290,291,292,293,294,295,296,297,298,299,300,301,302,303,304,305,306,307,308,309,310,311,312,313,314,315,316,317,318,319,320,321,322,323,324,325,326,327,328,329,330,331,332,333,334,335,336,337,338,339,340,341,342,343,344,345,346,347,348,349,350,351,352,353,354,355,356,357,358,359,360,361,362,363,364,365,366,367,368,369,370,371,372,373,374,375,376,377,378,379,380,381,382,383,384,385,386,387,388,389,390,391,392,393,394,395,396,397,398,399,400,401,402,403,404,405,406,407,408,409,410,411,412,413,414,415,416,417,418,419,420,421,422,423,424,425,426,427,428,429,430,431,432,433,434,435,436,437,438,439,440,441,442,443,444,445,446,447,448,449,450,451,452,453,454,455,456,457,458,459,460,461,462,463,464,465,466,467,468,469,470,471,472,473,474,475,476,477,478,479,480,481,482,483,484,485,486,487,488,489,490,491,492,493,494,495,496,497,498,499,500,501,502,503,504,505,506,507,508,509,510,511,512,513,514,515,516,517,518,519,520,521,522,523,524,525,526,527,528,529,530,531,532,533,534,535,536,537,538,539,540,541,542,543,544,545,546,547,548,549,550,551,552,553,554,555,556,557,558,559,560,561,562,563,564,565,566,567,568,569,570,571,572,573,574,575,576,577,578,579,580,581,582,583,584,585,586,587,588,589,590,591,592,593,594,595,596,597,598,599,600,601,602,603,604,605,606,607,608,609,610,611,612,613,614,615,616,617,618,619,620,621,622,623,624,625,626,627,628,629,630,631,632,633,634,635,636,637,638,639,640,641,642,643,644,645,646,647,648,649,650,651,652,653,654,655,656,657,658,659,660,661,662,663,664,665,666,667,668,669,670,671,672,673,674,675,676,677,678,679,680,681,682,683,684,685,686,687,688,689,690,691,692,693,694,695,696,697,698,699,700,701,702,703,704,705,706,707,708,709,710,711,712,713,714,715,716,717,718,719,720,721,722,723,724,725,726,727,728,729,730,731,732,733,734,735,736,737,738,739,740,741,742,743,744,745,746,747,748,749,750,751,752,753,754,755,756,757,758,759,760,761,762,763,764,765,766,767,768,769,770,771,772,773,774,775,776,777,778,779,780,781,782,783,784,785,786,787,788,789,790,791,792,793,794,795,796,797,798,799,800,801,802,803,804,805,806,807,808,809,810,811,812,813,814,815,816,817,818,819,820,821,822,823,824,825,826,827,828,829,830,831,832,833,834,835,836,837,838,839,840,841,842,843,844,845,846,847,848,849,850,851,852,853,854,855,856,857,858,859,860,861,862,863,864,865,866,867,868,869,870,871,872,873,874,875,876,877,878,879,880,881,882,883,884,885,886,887,888,889,890,891,892,893,894,895,896,897,898,899,900,901,902,903,904,905,906,907,908,909,910,911,912,913,914,915,916,917,918,919,920,921,922,923,924,925,926,927,928,929,930,931,932,933,934,935,936,937,938,939,940,941,942,943,944,945,946,947,948,949,950,951,952,953,954,955,956,957,958,959,960,961,962,963,964,965,966,967,968,969,970,971,972,973,974,975,976,977,978,979,980,981,982,983,984,985,986,987,988,989,990,991,992,993,994,995,996,997,998,999,1000,1001,1002,1003,1004,1005,1006,1007,1008,1009,1010,1011,1012,1013,1014,1015,1016,1017,1018,1019,1020,1021,1022,1023,1024,1025,1026,1027,1028,1029,1030,1031,1032,1033,1034,1035,1036,1037,1038,1039,1040,1041,1042,1043,1044,1045,1046,1047,1048,1049,1050,1051,1052,1053,1054,1055,1056,1057,1058,1059,1060,1061,1062,1063,1064,1065,1066,1067,1068,1069,1070,1071,1072,1073,1074,1075,1076,1077,1078,1079,1080,1081,1082,1083,1084,1085,1086,1087,1088,1089,1090,1091,1092,1093,1094,1095,1096,1097,1098,1099,1100,1101,1102,1103,1104,1105,1106,1107,1108,1109,1110,1111,1112,1113,1114,1115,1116,1117,1118,1119,1120,1121,1122,1123,1124,1125,1126,1127,1128,1129,1130,1131,1132,1133,1134,1135,1136,1137,1138,1139,1140,1141,1142,1143,1144,1145,1146,1147,1148,1149,1150,1151,1152,1153,1154,1155,1156,1157,1158,1159,1160,1161,1162,1163,1164,1165,1166,1167,1168,1169,1170,1171,1172,1173,1174,1175,1176,1177,1178,1179,1180,1181,1182,1183,1184,1185,1186,1187,1188,1189,1190,1191,1192,1193,1194,1195,1196,1197,1198,1199,1200,1201,1202,1203,1204,1205,1206,1207,1208,1209,1210,1211,1212,1213,1214,1215,1216,1217,1218,1219,1220,1221,1222,1223,1224,1225,1226,1227,1228,1229,1230,1231,1232,1233,1234,1235,1236,1237,1238,1239,1240,1241,1242,1243,1244,1245,1246,1247,1248,1249,1250,1251,1252,1253,1254,1255,1256,1257,1258,1259,1260,1261,1262,1263,1264,1265,1266,1267,1268,1269,1270,1271,1272,1273,1274,1275,1276,1277,1278,1279,1280,1281,1282,1283,1284,1285,1286,1287,1288,1289,1290,1291,1292,1293,1294,1295,1296,1297,1298,1299,1300,1301,1302,1303,1304,1305,1306,1307,1308,1309,1310,1311,1312,1313,1314,1315,1316,1317,1318,1319,1320,1321,1322,1323,1324,1325,1326,1327,1328,1329,1330,1331,1332,1333,1334,1335,1336,1337,1338,1339,1340,1341,1342,1343,1344,1345,1346,1347,1348,1349,1350,1351,1352,1353,1354,1355,1356,1357,1358,1359,1360,1361,1362,1363,1364,1365,1366,1367,1368,1369,1370,1371,1372,1373,1374,1375,1376,1377,1378,1379,1380,1381,1382,1383,1384,1385,1386,1387,1388,1389,1390,1391,1392,1393,1394,1395,1396,1397,1398,1399,1400,1401,1402,1403,1404,1405,1406,1407,1408,1409,1410,1411,1412,1413,1414,1415,1416,1417,1418,1419,1420,1421,1422,1423,1424,1425,1426,1427,1428,1429,1430,1431,1432,1433,1434,1435,1436,1437,1438,1439,1440,1441,1442,1443,1444,1445,1446,1447,1448,1449,1450,1451,1452,1453,1454,1455,1456,1457,1458,1459,1460,1461,1462,1463,1464,1465,1466,1467,1468,1469,1470,1471,1472,1473,1474,1475,1476,1477,1478,1479,1480,1481,1482,1483,1484,1485,1486,1487,1488,1489,1490,1491,1492,1493,1494,1495,1496,1497,1498,1499,1500,1501,1502,1503,1504,1505,1506,1507,1508,1509,1510,1511,1512,1513,1514,1515,1516,1517,1518,1519,1520,1521,1522,1523,1524,1525,1526,1527,1528,1529,1530,1531,1532,1533,1534,1535,1536,1537,1538,1539,1540,1541,1542,1543,1544,1545,1546,1547,1548,1549,1550,1551,1552,1553,1554,1555,1556,1557,1558,1559,1560,1561,1562,1563,1564,1565,1566,1567,1568,1569,1570,1571,1572,1573,1574,1575,1576,1577,1578,1579,1580,1581,1582,1583,1584,1585,1586,1587,1588,1589,1590,1591,1592,1593,1594,1595,1596,1597,1598,1599,1600,1601,1602,1603,1604,1605,1606,1607,1608,1609,1610,1611,1612,1613,1614,1615,1616,1617,1618,1619,1620,1621,1622,1623,1624,1625,1626,1627,1628,1629,1630,1631,1632,1633,1634,1635,1636,1637,1638,1639,1640,1641,1642,1643,1644,1645,1646,1647,1648,1649,1650,1651,1652,1653,1654,1655,1656,1657,1658,1659,1660,1661,1662,1663,1664,1665,1666,1667,1668,1669,1670,1671,1672,1673,1674,1675,1676,1677,1678,1679,1680,1681,1682,1683,1684,1685,1686,1687,1688,1689,1690,1691,1692,1693,1694,1695,1696,1697,1698,1699,1700,1701,1702,1703,1704,1705,1706,1707,1708,1709,1710,1711,1712,1713,1714,1715,1716,1717,1718,1719,1720,1721,1722,1723,1724,1725,1726,1727,1728,1729,1730,1731,1732,1733,1734,1735,1736,1737,1738,1739,1740,1741,1742,1743,1744,1745,1746,1747,1748,1749,1750,1751,1752,1753,1754,1755,1756,1757,1758,1759,1760,1761,1762,1763,1764,1765,1766,1767,1768,1769,1770,1771,1772,1773,1774,1775,1776,1777,1778,1779,1780,1781,1782,1783,1784,1785,1786,1787,1788,1789,1790,1791,1792,1793,1794,1795,1796,1797,1798,1799,1800,1801,1802,1803,1804,1805,1806,1807,1808,1809,1810,1811,1812,1813,1814,1815,1816,1817,1818,1819,1820,1821,1822,1823,1824,1825,1826,1827,1828,1829,1830,1831,1832,1833,1834,1835,1836,1837,1838,1839,1840,1841,1842,1843,1844,1845,1846,1847,1848,1849,1850,1851,1852,1853,1854,1855,1856,1857,1858,1859,1860,1861,1862,1863,1864,1865,1866,1867,1868,1869,1870,1871,1872,1873,1874,1875,1876,1877,1878,1879,1880,1881,1882,1883,1884,1885,1886,1887,1888,1889,1890,1891,1892,1893,1894,1895,1896,1897,1898,1899,1900,1901,1902,1903,1904,1905,1906,1907,1908,1909,1910,1911,1912,1913,1914,1915,1916,1917,1918,1919,1920,1921,1922,1923,1924,1925,1926,1927,1928,1929,1930,1931,1932,1933,1934,1935,1936,1937,1938,1939,1940,1941,1942,1943,1944,1945,1946,1947,1948,1949,1950,1951,1952,1953,1954,1955,1956,1957,1958,1959,1960,1961,1962,1963,1964,1965,1966,1967,1968,1969,1970,1971,1972,1973,1974,1975,1976,1977,1978,1979,1980,1981,1982,1983,1984,1985,1986,1987,1988,1989,1990,1991,1992,1993,1994,1995,1996,1997,1998,1999],\"words\":[\"i\",\"fall\",\"in\",\"love\",\"with\",\"my\",\"girl\",\"friend\",\"came\",\"over\",\"to\",\"watch\",\"critical\",\"role\",\".\",\"thought\",\"that\",\"was\",\"out\",\"of\",\"cream\",\"for\",\"coffee\",\",\",\"but\",\"lo\",\"and\",\"there\",\"remained\",\"a\",\"can\",\"the\",\"back\",\"pantry\",\"!\",\"discovered\",\"new\",\"software\",\"will\",\"help\",\"me\",\"develop\",\"an\",\"android\",\"app\",\"faster\",\"than\",\"originally\",\"found\",\"source\",\"income\",\"snuggled\",\"bed\",\"daughter\",\"last\",\"night\",\"she\",\"looked\",\"at\",\"said\",\"``\",\"you\",\"''\",\"went\",\"shopping\",\"passed\",\"test\",\"commercial\",\"driver\",\"license\",\"9\",\"month\",\"old\",\"son\",\"kept\",\"hiding\",\"his\",\"face\",\"underneath\",\"blanket\",\"laughing\",\"when\",\"he\",\"pulled\",\"it\",\"down\",\"discussed\",\"latest\",\"episode\",\"bates\",\"motel\",\"'ve\",\"been\",\"living\",\"middle\",\"us\",\"school\",\"'m\",\"from\",\"california\",\"one\",\"happiest\",\"times\",\"past\",\"three\",\"months\",\"visiting\",\"beach\",\"first\",\"time\",\"year\",\"weather\",\"kind\",\"cold\",\"windy\",\"sky\",\"gray\",\"waves\",\"strong\",\"could\",\"just\",\"toes\",\"wet\",\"sand\",\"let\",\"small\",\"wave\",\"lap\",\"up\",\"against\",\"taking\",\"seat\",\"after\",\"hours\",\"sorting\",\"files\",\"having\",\"nothing\",\"significant\",\"do\",\"hour\",\"work\",\"nephew\",\"tells\",\"mom\",\"how\",\"proud\",\"cool\",\"am\",\"not\",\"around\",\"party\",\"friends\",\"enjoyed\",\"lot\",\"completed\",\"show\",\"class\",\"super\",\"scared\",\"teacher\",\"gave\",\"compliments\",\"no\",\"else\",\"got\",\"felt\",\"really\",\"good\",\"about\",\"myself\",\"brother\",\"marriage\",\"able\",\"go\",\"on\",\"spontaneous\",\"trip\",\"great\",\"our\",\"favorite\",\"vacation\",\"destination\",\"twitch\",\"streaming\",\"so\",\"make\",\"money\",\"doing\",\"sunshine\",\"finally\",\"getting\",\"some\",\"decent\",\"here\",\"purchased\",\"vehicle\",\"would\",\"growing\",\"family\",\"solved\",\"complex\",\"problem\",\"project\",\"team\",\"members\",\"manager\",\"praised\",\"happy\",\"watching\",\"play\",\"park\",\"yesterday\",\"once\",\"asked\",\"who\",\"called\",\"wedding\",\"anniversary\",\"does\",\"feel\",\"celebrate\",\"day\",\"?\",\"what\",\"still\",\"puzzles\",\"this\",\"hope\",\"we\",\"all\",\"know\",\"shared\",\"is\",\"halfway\",\"have\",\"decided\",\"share\",\"puzzle\",\"word\",\"very\",\"inspired\",\"finding\",\"schedule\",\"take\",\"nap\",\"rest\",\"has\",\"made\",\"only\",\"sophomore\",\"musician\",\"high\",\"professional\",\"gig\",\"(\",\"community\",\"theater\",\"orchestra\",\"pit\",\")\",\"based\",\"director\",\"seeing\",\"him\",\"event\",\"birthday\",\"get\",\"massage\",\"free\",\"ghost\",\"adventures\",\"had\",\"episodes\",\"week\",\"spent\",\"catching\",\"evening\",\"dinner\",\"whole\",\"together\",\"sit\",\"meal\",\"movie\",\"mturk\",\"job\",\"mnc\",\"company\",\"they\",\"salary\",\"by\",\"hand\",\"many\",\"problems\",\"parents\",\"makes\",\"coming\",\"home\",\"long\",\"always\",\"travel\",\"see\",\"seen\",\"graduated\",\"basic\",\"military\",\"training\",\"air\",\"force\",\"ba\",\"meant\",\"online\",\"owned\",\"big\",\"dad\",\"'s\",\"highly\",\"style\",\"woke\",\"morning\",\"friday\",\"beautiful\",\"sunny\",\"as\",\"well\",\"bought\",\"little\",\"flying\",\"dragon\",\"pet\",\"thing\",\"follows\",\"avatar\",\"gaiaonline\",\"bathtub\",\"slowly\",\"submitted\",\"order\",\"maintenance\",\"workers\",\"fixed\",\"today\",\"quickly\",\"upgrade\",\"clash\",\"clans\",\"pretty\",\"brought\",\"chops\",\"cooked\",\"wife\",\"more\",\"anything\",\"turned\",\"her\",\"special\",\"too\",\"mine\",\"nominated\",\"watched\",\"worth\",\"remembering\",\"farmer\",\"market\",\"lovely\",\"gift\",\"father\",\"took\",\"hot\",\"bath\",\"off\",\"stresses\",\"most\",\"important\",\"enjoy\",\"your\",\"life\",\"-\",\"be\",\"matters\",\"way\",\"playing\",\"smash\",\"bros\",\"tournament\",\"played\",\"best\",\"players\",\"did\",\"n't\",\"win\",\"performance\",\"remember\",\"message\",\"before\",\"start\",\"second\",\":\",\"arrived\",\"spring\",\"break\",\"ran\",\"least\",\"30\",\"minutes\",\"treadmill\",\"unfortunately\",\"grandma\",\"house\",\"z\",\"shop\",\"then\",\"things\",\"gifts\",\"which\",\"selected\",\"blissful\",\"ive\",\"saving\",\"purse\",\"loved\",\"enough\",\"buy\",\"gone\",\"saw\",\"grabbed\",\"absolutely\",\"2\",\"1/2\",\"yr\",\"grandson\",\"pair\",\"sun\",\"glasses\",\"promptly\",\"put\",\"them\",\"husband\",\"hollywood\",\"replied\",\"girlfriend\",\"paints\",\"painting\",\"instagram\",\"laundry\",\"without\",\"ask\",\"hawaii\",\"sister\",\"married\",\"insisted\",\"apples\",\"uncle\",\"unwell\",\"proceeded\",\"meet\",\"delicious\",\"ever\",\"are\",\"two\",\"types\",\"people\",\"world\",\"those\",\"choose\",\"unhappy\",\"contrary\",\"popular\",\"belief\",\"happiness\",\"come\",\"fame\",\"fortune\",\"other\",\"or\",\"material\",\"possessions\",\"rather\",\"comes\",\"within\",\"richest\",\"person\",\"miserable\",\"while\",\"slums\",\"third\",\"country\",\"content\",\"plenty\",\"amongst\",\"both\",\"groups\",\"because\",\"themselves\",\"maintain\",\"positive\",\"outlook\",\"remain\",\"peace\",\"picked\",\"jury\",\"duty\",\"picnic\",\"walking\",\"outside\",\"exercising\",\"hanging\",\"kids\",\"weekend\",\"joy\",\"previous\",\"fun\",\"group\",\"working\",\"several\",\"stress\",\"propose\",\"accept\",\"moment\",\"present\",\"card\",\"also\",\"picture\",\"return\",\"their\",\"spoke\",\"phone\",\"&\",\"received\",\"form\",\"boss\",\"successful\",\"completion\",\"stock\",\"updating\",\"task\",\"won\",\"award\",\"article\",\"wrote\",\"football\",\"confirmation\",\"follow\",\"interview\",\"hoping\",\"move\",\"city\",\"few\",\"ago\",\"told\",\"were\",\"approved\",\"apartment\",\"nice\",\"place\",\"reached\",\"office\",\"easily\",\"traffic\",\"road\",\"cards\",\"humanity\",\"laughter\",\"among\",\"colleagues\",\"foster\",\"puppy\",\"used\",\"pad\",\"indicating\",\"trained\",\"email\",\"confirm\",\"bug\",\"report\",\"sure\",\"car\",\"need\",\"brakes\",\"instead\",\"cleaned\",\"store\",\"afternoon\",\"lucky\",\"penny\",\"luck\",\"realized\",\"coupon\",\"half\",\"meat\",\"raise\",\"appreciated\",\"$\",\"50\",\"record\",\"dollar\",\"hourly\",\"became\",\"pregnant\",\"attended\",\"annual\",\"function\",\"certification\",\"exam\",\"pending\",\"clear\",\"cleared\",\"wonderful\",\"nearly\",\"65\",\"degrees\",\"jacket\",\"roll\",\"windows\",\"eat\",\"oatmeal\",\"uninterrupted\",\"cuddling\",\"dogs\",\"couch\",\"tv\",\"granddaughter\",\"softball\",\"exercise\",\"left\",\"note\",\"included\",\"drawing\",\"short\",\"tell\",\"much\",\"ordinary\",\"unexpected\",\"sweet\",\"opinion\",\"returning\",\"cycle\",\"meeting\",\"street\",\"bull\",\"standing\",\"center\",\"click\",\"bell\",\"walk\",\"corner\",\"forget\",\"looking\",\"cd\",\"wanted\",\"stumbled\",\"upon\",\"renewed\",\"library\",\"check\",\"books\",\"cost\",\"finalized\",\"adoption\",\"dead\",\"body\",\"opened\",\"eyes\",\"smiles\",\"planning\",\"psychology\",\"student\",\"weeks\",\"university\",\"academic\",\"research\",\"presentation\",\"helped\",\"customer\",\"genuinely\",\"appreciative\",\"enjoyable\",\"running\",\"race\",\"bunch\",\"local\",\"athletes\",\"season\",\"catch\",\"everyone\",\"itself\",\"paycheck\",\"courage\",\"into\",\"away\",\"deal\",\"bread\",\"dog\",\"collar\",\"stay\",\"yard\",\"finished\",\"assignment\",\"college\",\"finishing\",\"graduate\",\"accepted\",\"want\",\"hidden\",\"figures\",\"sold\",\"item\",\"ebay\",\"tasty\",\"banana\",\"cookout\",\"chocolate\",\"milkshake\",\"ate\",\"visited\",\"since\",\"immediate\",\"lives\",\"town\",\"attending\",\"photography\",\"course\",\"understand\",\"camera\",\"better\",\"pictures\",\"denied\",\"hired\",\"attorney\",\"paid\",\"court\",\"fee\",\"invited\",\"room\",\"already\",\"christmas\",\"tree\",\"april\",\"fools\",\"band\",\"nyc\",\"years\",\"eve\",\"offer\",\"applied\",\"never\",\"respond\",\"scheduled\",\"meetup\",\"roommates\",\"unc\",\"national\",\"title\",\"game\",\"shirt\",\"color\",\"signed\",\"paper\",\"parcel\",\"hands\",\"itching\",\"open\",\"packet\",\"curiosity\",\"knew\",\"bounds\",\"ripped\",\"sent\",\"mumbai\",\"letter\",\"along\",\"thanks\",\"certificate\",\"restaurant\",\"area\",\"mother\",\"achieved\",\"fitness\",\"goal\",\"towards\",\"going\",\"baptized\",\"celebrated\",\"40th\",\"march\",\"video\",\"lunch\",\"nintendo\",\"switch\",\"bonus\",\"sleep\",\"waking\",\"early\",\"relax\",\"worry\",\"any\",\"environment\",\"energy\",\";\",\"gourmet\",\"hamburgers\",\"mac\",\"cheese\",\"give\",\"something\",\"liked\",\"gas\",\"electric\",\"bill\",\"lower\",\"complete\",\"mile\",\"jog\",\"gym\",\"sitting\",\"beer\",\"deck\",\"full\",\"panoramic\",\"1000\",\"piece\",\"las\",\"vegas\",\"started\",\"alone\",\"brothers\",\"span\",\"almost\",\"10\",\"sons\",\"hilarious\",\"marching\",\"cuisine\",\"daughters\",\"moments\",\"delighted\",\"successfully\",\"personal\",\"loan\",\"bank\",\"truly\",\"blessing\",\"such\",\"perfect\",\"timing\",\"another\",\"where\",\"age\",\"state\",\"mind\",\"think\",\"count\",\"blessings\",\"games\",\"tablet\",\"6\",\"often\",\"chance\",\"listened\",\"podcast\",\"warm\",\"winter\",\"enjoying\",\"nature\",\"every\",\"matter\",\"happened\",\"prior\",\"longtime\",\"8\",\"built\",\"outdoor\",\"patio\",\"emotional\",\"behavior\",\"birth\",\"acceptance\",\"baby\",\"7\",\"elder\",\"surprise\",\"look\",\"excited\",\"expressed\",\"kissing\",\"sibling\",\"run\",\"scanning\",\"gun\",\"posting\",\"mail\",\"making\",\"pleasurable\",\"learned\",\"skill\",\"easier\",\"advance\",\"career\",\"opportunity\",\"injured\",\"vet\",\"save\",\"its\",\"awesome\",\"final\",\"ocean\",\"water\",\"calm\",\"relaxing\",\"experience\",\"lounge\",\"man\",\"lady\",\"top\",\"shelf\",\"grocery\",\"everyday\",\"product\",\"fifty\",\"percent\",\"retail\",\"price\",\"notice\",\"leadership\",\"association\",\"through\",\"planned\",\"goodbye\",\"gathering\",\"moving\",\"meowed\",\"cat\",\"due\",\"find\",\"hits\",\"earn\",\"10.00\",\"grand\",\"tonight\",\"lost\",\"lbs\",\"weight\",\"freeze\",\"resort\",\"swimming\",\"pool\",\"bowling\",\"food\",\"spend\",\"days\",\"scale\",\"right\",\"direction\",\"baked\",\"cake\",\"trade\",\"program\",\"forth\",\"figure\",\"crawled\",\"mower\",\"battery\",\"actually\",\"juice\",\"engine\",\"increase\",\"maximum\",\"squat\",\"ordered\",\"thank\",\"february\",\"23rd\",\"2017\",\"delivered\",\"male\",\"child\",\"heard\",\"crying\",\"voice\",\"worked\",\"synthesizer\",\"track\",\"song\",\"currently\",\"ending\",\"fantastic\",\"homework\",\"herself\",\"asking\",\"egyptian\",\"traditional\",\"set\",\"aside\",\"cultural\",\"conflicts\",\"bit\",\"heart\",\"operation\",\"laugh\",\"daily\",\"burger\",\"mcdonald\",\"dollars\",\"ground\",\"later\",\"20\",\"niece\",\"facebook\",\"connection\",\"interact\",\"done\",\"volunteering\",\"missed\",\"being\",\"silly\",\"telling\",\"funny\",\"jokes\",\"stories\",\"boy\",\"questions\",\"parade\",\"leaving\",\"couple\",\"miles\",\"downtown\",\"smile\",\"dealing\",\"anxiety\",\"tries\",\"difficult\",\"hard\",\"results\",\"output\",\"result\",\"dream\",\"like\",\"hiking\",\"boyfriend\",\"mini\",\"hike\",\"scenery\",\"stunning\",\"must\",\"needed\",\"minor\",\"repairs\",\"reasonable\",\"24\",\"extremely\",\"own\",\"quality\",\"gaming\",\"laughs\",\"returned\",\"workout\",\"routines\",\"met\",\"cup\",\"tea\",\"talked\",\"issues\",\"god\",\"teaching\",\"credit\",\"grandparents\",\"again\",\"holidays\",\"breakfast\",\"ready\",\"send\",\"cute\",\"say\",\"care\",\"temple\",\"meditation\",\"boots\",\"16th\",\"throwing\",\"these\",\"main\",\"private\",\"site\",\"use\",\"activated\",\"global\",\"likely\",\"hometown\",\"trash\",\"position\",\"shocked\",\"distinction\",\"legs\",\"floor\",\"feeling\",\"bottom\",\"lacrosse\",\"loves\",\"hang\",\"talk\",\"film\",\"zootopia\",\"beating\",\"level\",\"stuck\",\"elated\",\"far\",\"distance\",\"playoffs\",\"between\",\"favourite\",\"match\",\"quit\",\"visit\",\"awhile\",\"riding\",\"sports\",\"bike\",\"recently\",\"key\",\"lime\",\"cocktail\",\"tastiest\",\"drinks\",\"lake\",\"rode\",\"drinking\",\"homeless\",\"sex\",\"tinder\",\"fly\",\"overseas\",\"ill\",\"gets\",\"lonely\",\"gon\",\"na\",\"now\",\"sick\",\"sometimes\",\"plays\",\"sleeps\",\"sits\",\"computer\",\"sticking\",\"paw\",\"if\",\"type\",\"hole\",\"sunday\",\"aquarium\",\"events\",\"fish\",\"sea\",\"buying\",\"toys\",\"...\",\"hug\",\"leg\",\"texted\",\"text\",\"conversation\",\"appreciation\",\"pregnancy\",\"holiday\",\"package\",\"contest\",\"skinny\",\"jeans\",\"dubai\",\"chocolates\",\"yoga\",\"camp\",\"conducted\",\"organisation\",\"provides\",\"refreshing\",\"session\",\"permanent\",\"ed\",\"given\",\"increment\",\"5000\",\"rupees\",\"saturday\",\"talking\",\"majority\",\"fruits\",\"vegetables\",\"thankful\",\"eating\",\"enchiladas\",\"mainly\",\"conformation\",\"biggest\",\"splurged\",\"premium\",\"grounds\",\"supermarket\",\"added\",\"snapchat\",\"retired\",\"officer\",\"options\",\"chat\",\"plans\",\"kicking\",\"ball\",\"incentive\",\"current\",\"date\",\"guy\",\"book\",\"fair\",\"available\",\"refrigerator\",\"promotion\",\"nowadays\",\"fuzzy\",\"concept\",\"mean\",\"different\",\"part\",\"challenge\",\"science\",\"identify\",\"concepts\",\"applicable\",\"split\",\"components\",\"related\",\"well-being\",\"flourishing\",\"author\",\"defines\",\"contentment\",\"[\",\"]\",\"commentators\",\"focus\",\"difference\",\"hedonistic\",\"tradition\",\"seeking\",\"pleasant\",\"avoiding\",\"unpleasant\",\"experiences\",\"eudaimonic\",\"deeply\",\"satisfying\",\"mission\",\"im\",\"someone\",\"shes\",\"6years.whenever\",\"yes\",\"may\",\"sounds\",\"weird\",\"true\",\"studied\",\"twice\",\"during\",\"therapy\",\"friendly\",\"clinic\",\"slight\",\"breeze\",\"apart\",\"100\",\"scratch\",\"ticket\",\"shed\",\"build\",\"government\",\"..\",\"pleasure\",\"yearly\",\"checkup\",\"fit\",\"pants\",\"previously\",\"tight\",\"hubby\",\"treat\",\"groceries\",\"foods\",\"climate\",\"near\",\"sad\",\"rain\",\"300\",\"scratch-off\",\"lottery\",\"sharing\",\"pleasures\",\"o\",\"same\",\"extreme\",\"lasted\",\"seconds\",\"memory\",\"celebrating\",\"born\",\"4\",\"pranks\",\"reddit\",\"dvr\",\"hospital\",\"bills\",\"property\",\"listen\",\"album\",\"charge\",\"gender\",\"reveal\",\"teach\",\"v\",\"sound\",\"fiancee\",\"building\",\"castle\",\"reading\",\"cares\",\"close\",\"photo\",\"grad\",\"engagement\",\"evaluation\",\"hotel\",\"cinema\",\"'ll\",\"forever\",\"hop\",\"cuddle\",\"romantic\",\"candy\",\"cuddled\",\"trick\",\"kitchen\",\"apparently\",\"rid\",\"flea\",\"suffering\",\"reach\",\"solution\",\"addressed\",\"garden\",\"severe\",\"hair\",\"cut\",\"youngest\",\"sushi\",\"commission\",\"artwork\",\"sale\",\"invigorating\",\"customers\",\"expressing\",\"interest\",\"changed\",\"convenient\",\"offered\",\"prayers\",\"newly\",\"constructed\",\"worship\",\"youtube\",\"abandoned\",\"rescued\",\"streets\",\"taken\",\"placed\",\"loving\",\"owners\",\"steak\",\"hammock\",\"weed\",\"space\",\"museum\",\"news\",\"assignments\",\"singer\",\"post\",\"fridays\",\"monthly\",\"outlet\",\"american\",\"professionals\",\"mix\",\"network\",\"22\",\"23\",\"common\",\"individual\",\"black\",\"become\",\"social\",\"atmosphere\",\"exchanging\",\"useful\",\"information\",\"spread\",\"rapidly\",\"chapters\",\"39\",\"cities\",\"across\",\"north\",\"america\",\"seven\",\"countries\",\"including\",\"austin\",\"boston\",\"charlotte\",\"charleston\",\"chicago\",\"cincinnati\",\"cleveland\",\"detroit\",\"fort\",\"hong\",\"kong\",\"houston\",\"indianapolis\",\"jackson\",\"kansas\",\"los\",\"angeles\",\"london\",\"miami\",\"nashville\",\"orleans\",\"york\",\"orlando\",\"philadelphia\",\"phoenix\",\"pittsburgh\",\"raleigh\",\"rio\",\"de\",\"san\",\"antonio\",\"diego\",\"francisco\",\"st.\",\"louis\",\"south\",\"bend\",\"syracuse\",\"tokyo\",\"toronto\",\"washington\",\"d.c\",\"bench\",\"pressed\",\"225\",\"hit\",\"max\",\"pr\",\"pizza\",\"colleague\",\"tomorrow\",\"topic\",\"suggestions\",\"essay\",\"involving\",\"journals\",\"'d\",\"suggested\",\"responded\",\"sort\",\"remark\",\"knowing\",\"unique\",\"random\",\"struck\",\"gold\",\"showed\",\"knows\",\"amused\",\"even\",\"mental\",\"defined\",\"emotions\",\"ranging\",\"intense\",\"1\",\"states\",\"reflect\",\"judgements\",\"overall\",\"variety\",\"biological\",\"psychological\",\"economic\",\"religious\",\"philosophical\",\"approaches\",\"striven\",\"define\",\"sources\",\"various\",\"economics\",\"employing\",\"scientific\",\"method\",\"might\",\"attained\",\"stepping\",\"pounds\",\"errands\",\"diligently\",\"studying\",\"act\",\"resident\",\"champion\",\"wrestling\",\"easter\",\"wished\",\"though\",\"reminded\",\"tennis\",\"using\",\"disability\",\"trailer\",\"aka\",\"mobile\",\"regardless\",\"happens\",\"security\",\"leave\",\"cook\",\"dinners\",\"occasionally\",\"girls\",\"seemed\",\"weddings\",\"occasion\",\"classmates\",\"dating\",\"website\",\"attractive\",\"represented\",\"clothes\",\"thinking\",\"1.\",\"thrilled\",\"till\",\"fell\",\"amazing\",\"greatly\",\"improving\",\"fishing\",\"cousin\",\"promoted\",\"senior\",\"management\",\"coworkers\",\"budget\",\"ended\",\"investment\",\"involved\",\"purchasing\",\"account\",\"everything\",\"ok\",\"booked\",\"flight\",\"keep\",\"relatives\",\"celebration\",\"otherwise\",\"busy\",\"pork\",\"guacamole\",\"bowl\",\"total\",\"stone\",\"sisters\",\"plan\",\"didnt\",\"honor\",\"tax\",\"winning\",\"prize\",\"dumb\",\"crane\",\"head\",\"mechanical\",\"department\",\"200\",\"meter\",\"fastest\",\"airplane\",\"frequently\",\"thrill\",\"landing\",\"soon\",\"list\",\"war\",\"ex-girlfriend\",\"allowing\",\"disney\",\"land\",\"toilet\",\"lock\",\"train\",\"kid\",\"cured\",\"health\",\"weighed\",\"self\",\"5\",\"3\",\"concert\",\"partner\",\"spouse\",\"french\",\"sunset\",\"mountain\",\"volunteered\",\"olympics\",\"helping\",\"others\",\"comfort\",\"safety\",\"heroes\",\"drafted\",\"closely\",\"traveled\",\"texas\",\"bachelor\",\"siblings\",\"table\",\"deadlift\",\"caught\",\"amazon\",\"1st\",\"associate\",\"diner\",\"waffles\",\"fried\",\"chicken\",\"bacon\",\"maple\",\"syrup\",\"forward\",\"sense\",\"accomplishment\",\"escape\",\"concerns\",\"golf\",\"individually\",\"m\",\"story\",\"barley\",\"end\",\"tap\",\"collect\",\"reality\",\"joined\",\"dota\",\"giftcard\",\"valve\",\"bored\",\"learnt\",\"status\",\"lots\",\"flowers\",\"whim\",\"plane\",\"join\",\"upcoming\",\"walked\",\"door\",\"sentences\",\"memorial\",\"service\",\"hearing\",\"aunt\",\"greatest\",\"babbling\",\"listening\",\"noticed\",\"speak\",\"offsite\",\"stimulating\",\"discussions\",\"summer\",\"hill\",\"station\",\"figuring\",\"twenty\",\"bucks\",\"believe\",\"owner\",\"delivery\",\"messed\",\"donut\",\"snack\",\"hurts\",\"dawn\",\"sunrise\",\"reason\",\"point\",\"anyone\",\"especially\",\"earlier\",\"anticipated\",\"incredibly\",\"raining\",\"smelled\",\"dirt\",\"smell\",\"unexpectedly\",\"batch\",\"brownies\",\"freezer\",\"empty\",\"goat\",\"ass\",\"graduation\",\"announcements\",\"relief\",\"secluded\",\"wondering\",\"began\",\"coding\",\"struggling\",\"database\",\"saturdays\",\"crossword\",\"surprised\",\"thai\",\"items\",\"clean\",\"fix\",\"completing\",\"updates\",\"call\",\"excellent\",\"insurance\",\"rate\",\"vividly\",\"regarding\",\"success\",\"board\",\"awarded\",\"scholarship\",\"indeed\",\"achieving\",\"quite\",\"chennai\",\"lover\",\"kiss\",\"fav\",\"fairly\",\"tickets\",\"wildflowers\",\"ice-cream\",\"bad\",\"neighbor\",\"forced\",\"pineapple\",\"99\",\"cents\",\"3rd\",\"photoshoot\",\"afterwards\",\"quiet\",\"chinese\",\"tour\",\"try\",\"shape\",\"cooking\",\"rice\",\"pudding\",\"incredible\",\"label\",\"flavor\",\"client\",\"satisfied\",\"mentioned\",\"pro\",\"known\",\"until\",\"ex\",\"picky\",\"spending\",\"stuff\",\"calls\",\"decision\",\"live\",\"following\",\"dave\",\"debt\",\"next\",\"mortgage\",\"progress\",\"taught\",\"swim\",\"speech\",\"exceptionally\",\"wanting\",\"stupid\",\"paying\",\"monday\",\"fired\",\"unemployment\",\"overcame\",\"major\",\"relationship\",\"dissertation\",\"george\",\"pen\",\"costly\",\"wallet\",\"turns\",\"acquired\",\"large\",\"efforts\",\"nail\",\"recipe\",\"failed\",\"correctly\",\"songs\",\"iron\",\"pleased\",\"choosing\",\"sat\",\"labrador\",\"breeder\",\"puppies\",\"picking\",\"buffet\",\"--\",\"lyrics\",\"albums\",\"15\",\"checkout\",\"loyalty\",\"personality\",\"refund\",\"doctor\",\"whom\",\"arguing\",\"marry\",\"june\",\"culture\",\"groom\",\"presents\",\"bride\",\"rules\",\"should\",\"giving\",\"nervous\",\"screw\",\"manage\",\"handle\",\"preparation\",\"stage\",\"improvement\",\"purpose\",\"balcony\",\"suddenly\",\"chasing\",\"each\",\"worried\",\"signs\",\"singles\",\"player\",\"ton\",\"peaceful\",\"co-worker\",\"feelings\",\"kissed\",\"cash\",\"anywhere\",\"law\",\"custard\",\"slept\",\"alarm\",\"staring\",\"future\",\"cheered\",\"attend\",\"beef\",\"surgery\",\"internet\",\"single\",\"lyric\",\"chord\",\"jail\",\"bringing\",\"rescue\",\"adopt\",\"survey\",\"happy..and\",\"forgot\",\"theatre\",\"entire\",\"plate\",\"trampoline\",\"pho\",\"thesis\",\"lab\",\"mentor\",\"brushed\",\"famous\",\"trumpet\",\"loss\",\"milestone\",\"pile\",\"paperwork\",\"desk\",\"oldest\",\"period\",\"betta\",\"burrito\",\"stranger\",\"line\",\"transaction\",\"lifting\",\"starting\",\"lean\",\"six\",\"pack\",\"cloths\",\"basketball\",\"root\",\"plastic\",\"model\",\"looks\",\"staying\",\"commute\",\"serious\",\"accidents\",\"roads\",\"means\",\"35\",\"learning\",\"brings\",\"excitement\",\"breaks\",\"memories\",\"cherish\",\"celebrations\",\"younger\",\"cousins\",\"sheer\",\"waste\",\"wake\",\"everybody\",\"possible\",\"minute\",\"precious\",\"preparing\",\"snacks\",\"journey\",\"putting\",\"thrilling\",\"'\",\"travelled\",\"drive\",\"filled\",\"ourselves\",\"mum\",\"fruit\",\"travelling\",\"cracked\",\"front\",\"waited\",\"arrange\",\"entry\",\"hurdle\",\"booking\",\"crossed\",\"inside\",\"managed\",\"spot\",\"settled\",\"interesting\",\"rides\",\"counter\",\"ride\",\"named\",\"cars\",\"striking\",\"wheel\",\"scary\",\"'the\",\"roller\",\"coaster\",\"mouth\",\"sliding\",\"height\",\"screaming\"]},\"selected\":{\"id\":\"1048\",\"type\":\"Selection\"},\"selection_policy\":{\"id\":\"1049\",\"type\":\"UnionRenderers\"}},\"id\":\"1036\",\"type\":\"ColumnDataSource\"},{\"attributes\":{},\"id\":\"1009\",\"type\":\"LinearScale\"},{\"attributes\":{\"formatter\":{\"id\":\"1045\",\"type\":\"BasicTickFormatter\"},\"plot\":{\"id\":\"1002\",\"subtype\":\"Figure\",\"type\":\"Plot\"},\"ticker\":{\"id\":\"1012\",\"type\":\"BasicTicker\"}},\"id\":\"1011\",\"type\":\"LinearAxis\"},{\"attributes\":{\"data_source\":{\"id\":\"1036\",\"type\":\"ColumnDataSource\"},\"glyph\":{\"id\":\"1038\",\"type\":\"Scatter\"},\"hover_glyph\":null,\"muted_glyph\":null,\"nonselection_glyph\":{\"id\":\"1039\",\"type\":\"Scatter\"},\"selection_glyph\":null,\"view\":{\"id\":\"1041\",\"type\":\"CDSView\"}},\"id\":\"1040\",\"type\":\"GlyphRenderer\"},{\"attributes\":{\"plot\":{\"id\":\"1002\",\"subtype\":\"Figure\",\"type\":\"Plot\"},\"ticker\":{\"id\":\"1012\",\"type\":\"BasicTicker\"}},\"id\":\"1015\",\"type\":\"Grid\"},{\"attributes\":{\"formatter\":{\"id\":\"1047\",\"type\":\"BasicTickFormatter\"},\"plot\":{\"id\":\"1002\",\"subtype\":\"Figure\",\"type\":\"Plot\"},\"ticker\":{\"id\":\"1017\",\"type\":\"BasicTicker\"}},\"id\":\"1016\",\"type\":\"LinearAxis\"},{\"attributes\":{},\"id\":\"1045\",\"type\":\"BasicTickFormatter\"},{\"attributes\":{},\"id\":\"1017\",\"type\":\"BasicTicker\"},{\"attributes\":{},\"id\":\"1012\",\"type\":\"BasicTicker\"},{\"attributes\":{\"dimension\":1,\"plot\":{\"id\":\"1002\",\"subtype\":\"Figure\",\"type\":\"Plot\"},\"ticker\":{\"id\":\"1017\",\"type\":\"BasicTicker\"}},\"id\":\"1020\",\"type\":\"Grid\"},{\"attributes\":{},\"id\":\"1047\",\"type\":\"BasicTickFormatter\"},{\"attributes\":{},\"id\":\"1048\",\"type\":\"Selection\"},{\"attributes\":{},\"id\":\"1021\",\"type\":\"PanTool\"},{\"attributes\":{},\"id\":\"1049\",\"type\":\"UnionRenderers\"},{\"attributes\":{\"fill_alpha\":{\"value\":0.1},\"fill_color\":{\"value\":\"#1f77b4\"},\"line_alpha\":{\"value\":0.1},\"line_color\":{\"value\":\"#1f77b4\"},\"x\":{\"field\":\"dim_1\"},\"y\":{\"field\":\"dim_2\"}},\"id\":\"1039\",\"type\":\"Scatter\"},{\"attributes\":{\"plot\":null,\"text\":\"\"},\"id\":\"1042\",\"type\":\"Title\"},{\"attributes\":{},\"id\":\"1022\",\"type\":\"WheelZoomTool\"},{\"attributes\":{\"source\":{\"id\":\"1036\",\"type\":\"ColumnDataSource\"}},\"id\":\"1041\",\"type\":\"CDSView\"},{\"attributes\":{\"overlay\":{\"id\":\"1029\",\"type\":\"BoxAnnotation\"}},\"id\":\"1023\",\"type\":\"BoxZoomTool\"},{\"attributes\":{\"fill_color\":{\"value\":\"#1f77b4\"},\"line_color\":{\"value\":\"#1f77b4\"},\"x\":{\"field\":\"dim_1\"},\"y\":{\"field\":\"dim_2\"}},\"id\":\"1038\",\"type\":\"Scatter\"},{\"attributes\":{},\"id\":\"1024\",\"type\":\"ResetTool\"},{\"attributes\":{\"callback\":null,\"tooltips\":[[\"word\",\"@words\"]]},\"id\":\"1025\",\"type\":\"HoverTool\"},{\"attributes\":{\"callback\":null},\"id\":\"1005\",\"type\":\"DataRange1d\"},{\"attributes\":{},\"id\":\"1026\",\"type\":\"SaveTool\"}],\"root_ids\":[\"1002\"]},\"title\":\"Bokeh Application\",\"version\":\"1.0.3\"}};\n",
       "  var render_items = [{\"docid\":\"5bf53012-84f5-442b-8a08-b43353452fe5\",\"roots\":{\"1002\":\"beb13b62-0fd1-4c27-b7a9-4aacc24c785b\"}}];\n",
       "  root.Bokeh.embed.embed_items_notebook(docs_json, render_items);\n",
       "\n",
       "  }\n",
       "  if (root.Bokeh !== undefined) {\n",
       "    embed_document(root);\n",
       "  } else {\n",
       "    var attempts = 0;\n",
       "    var timer = setInterval(function(root) {\n",
       "      if (root.Bokeh !== undefined) {\n",
       "        embed_document(root);\n",
       "        clearInterval(timer);\n",
       "      }\n",
       "      attempts++;\n",
       "      if (attempts > 100) {\n",
       "        console.log(\"Bokeh: ERROR: Unable to run BokehJS code because BokehJS library is missing\");\n",
       "        clearInterval(timer);\n",
       "      }\n",
       "    }, 10, root)\n",
       "  }\n",
       "})(window);"
      ],
      "application/vnd.bokehjs_exec.v0+json": ""
     },
     "metadata": {
      "application/vnd.bokehjs_exec.v0+json": {
       "id": "1002"
      }
     },
     "output_type": "display_data"
    }
   ],
   "source": [
    "output_notebook()\n",
    "b_figure = bp.figure(plot_width=700, plot_height=600,\n",
    "                     tools='pan, wheel_zoom, box_zoom, reset, hover, previewsave')\n",
    "b_figure.scatter(x='dim_1', y='dim_2', source=reduced_df)\n",
    "hovertool = b_figure.select(dict(type=HoverTool))\n",
    "hovertool.tooltips={'word': '@words'}\n",
    "show(b_figure)"
   ]
  },
  {
   "cell_type": "markdown",
   "metadata": {},
   "source": [
    "### T-SNE"
   ]
  },
  {
   "cell_type": "code",
   "execution_count": 24,
   "metadata": {},
   "outputs": [
    {
     "name": "stdout",
     "output_type": "stream",
     "text": [
      "[t-SNE] Computing 91 nearest neighbors...\n",
      "[t-SNE] Indexed 2000 samples in 0.020s...\n",
      "[t-SNE] Computed neighbors for 2000 samples in 1.630s...\n",
      "[t-SNE] Computed conditional probabilities for sample 1000 / 2000\n",
      "[t-SNE] Computed conditional probabilities for sample 2000 / 2000\n",
      "[t-SNE] Mean sigma: 0.235868\n",
      "[t-SNE] KL divergence after 250 iterations with early exaggeration: 74.345825\n",
      "[t-SNE] KL divergence after 300 iterations: 1.978215\n"
     ]
    }
   ],
   "source": [
    "tsne = TSNE(n_components=2, n_iter=300, verbose=1, random_state=42)\n",
    "tsne_vectors = tsne.fit_transform(vectors)"
   ]
  },
  {
   "cell_type": "code",
   "execution_count": 25,
   "metadata": {},
   "outputs": [],
   "source": [
    "reduced_df = pd.DataFrame(tsne_vectors, columns=['dim_1', 'dim_2'])\n",
    "reduced_df['words'] = list(embeddings.wv.vocab.keys())[:2000]"
   ]
  },
  {
   "cell_type": "code",
   "execution_count": 26,
   "metadata": {},
   "outputs": [
    {
     "data": {
      "text/html": [
       "\n",
       "    <div class=\"bk-root\">\n",
       "        <a href=\"https://bokeh.pydata.org\" target=\"_blank\" class=\"bk-logo bk-logo-small bk-logo-notebook\"></a>\n",
       "        <span id=\"1114\">Loading BokehJS ...</span>\n",
       "    </div>"
      ]
     },
     "metadata": {},
     "output_type": "display_data"
    },
    {
     "data": {
      "application/javascript": [
       "\n",
       "(function(root) {\n",
       "  function now() {\n",
       "    return new Date();\n",
       "  }\n",
       "\n",
       "  var force = true;\n",
       "\n",
       "  if (typeof (root._bokeh_onload_callbacks) === \"undefined\" || force === true) {\n",
       "    root._bokeh_onload_callbacks = [];\n",
       "    root._bokeh_is_loading = undefined;\n",
       "  }\n",
       "\n",
       "  var JS_MIME_TYPE = 'application/javascript';\n",
       "  var HTML_MIME_TYPE = 'text/html';\n",
       "  var EXEC_MIME_TYPE = 'application/vnd.bokehjs_exec.v0+json';\n",
       "  var CLASS_NAME = 'output_bokeh rendered_html';\n",
       "\n",
       "  /**\n",
       "   * Render data to the DOM node\n",
       "   */\n",
       "  function render(props, node) {\n",
       "    var script = document.createElement(\"script\");\n",
       "    node.appendChild(script);\n",
       "  }\n",
       "\n",
       "  /**\n",
       "   * Handle when an output is cleared or removed\n",
       "   */\n",
       "  function handleClearOutput(event, handle) {\n",
       "    var cell = handle.cell;\n",
       "\n",
       "    var id = cell.output_area._bokeh_element_id;\n",
       "    var server_id = cell.output_area._bokeh_server_id;\n",
       "    // Clean up Bokeh references\n",
       "    if (id != null && id in Bokeh.index) {\n",
       "      Bokeh.index[id].model.document.clear();\n",
       "      delete Bokeh.index[id];\n",
       "    }\n",
       "\n",
       "    if (server_id !== undefined) {\n",
       "      // Clean up Bokeh references\n",
       "      var cmd = \"from bokeh.io.state import curstate; print(curstate().uuid_to_server['\" + server_id + \"'].get_sessions()[0].document.roots[0]._id)\";\n",
       "      cell.notebook.kernel.execute(cmd, {\n",
       "        iopub: {\n",
       "          output: function(msg) {\n",
       "            var id = msg.content.text.trim();\n",
       "            if (id in Bokeh.index) {\n",
       "              Bokeh.index[id].model.document.clear();\n",
       "              delete Bokeh.index[id];\n",
       "            }\n",
       "          }\n",
       "        }\n",
       "      });\n",
       "      // Destroy server and session\n",
       "      var cmd = \"import bokeh.io.notebook as ion; ion.destroy_server('\" + server_id + \"')\";\n",
       "      cell.notebook.kernel.execute(cmd);\n",
       "    }\n",
       "  }\n",
       "\n",
       "  /**\n",
       "   * Handle when a new output is added\n",
       "   */\n",
       "  function handleAddOutput(event, handle) {\n",
       "    var output_area = handle.output_area;\n",
       "    var output = handle.output;\n",
       "\n",
       "    // limit handleAddOutput to display_data with EXEC_MIME_TYPE content only\n",
       "    if ((output.output_type != \"display_data\") || (!output.data.hasOwnProperty(EXEC_MIME_TYPE))) {\n",
       "      return\n",
       "    }\n",
       "\n",
       "    var toinsert = output_area.element.find(\".\" + CLASS_NAME.split(' ')[0]);\n",
       "\n",
       "    if (output.metadata[EXEC_MIME_TYPE][\"id\"] !== undefined) {\n",
       "      toinsert[toinsert.length - 1].firstChild.textContent = output.data[JS_MIME_TYPE];\n",
       "      // store reference to embed id on output_area\n",
       "      output_area._bokeh_element_id = output.metadata[EXEC_MIME_TYPE][\"id\"];\n",
       "    }\n",
       "    if (output.metadata[EXEC_MIME_TYPE][\"server_id\"] !== undefined) {\n",
       "      var bk_div = document.createElement(\"div\");\n",
       "      bk_div.innerHTML = output.data[HTML_MIME_TYPE];\n",
       "      var script_attrs = bk_div.children[0].attributes;\n",
       "      for (var i = 0; i < script_attrs.length; i++) {\n",
       "        toinsert[toinsert.length - 1].firstChild.setAttribute(script_attrs[i].name, script_attrs[i].value);\n",
       "      }\n",
       "      // store reference to server id on output_area\n",
       "      output_area._bokeh_server_id = output.metadata[EXEC_MIME_TYPE][\"server_id\"];\n",
       "    }\n",
       "  }\n",
       "\n",
       "  function register_renderer(events, OutputArea) {\n",
       "\n",
       "    function append_mime(data, metadata, element) {\n",
       "      // create a DOM node to render to\n",
       "      var toinsert = this.create_output_subarea(\n",
       "        metadata,\n",
       "        CLASS_NAME,\n",
       "        EXEC_MIME_TYPE\n",
       "      );\n",
       "      this.keyboard_manager.register_events(toinsert);\n",
       "      // Render to node\n",
       "      var props = {data: data, metadata: metadata[EXEC_MIME_TYPE]};\n",
       "      render(props, toinsert[toinsert.length - 1]);\n",
       "      element.append(toinsert);\n",
       "      return toinsert\n",
       "    }\n",
       "\n",
       "    /* Handle when an output is cleared or removed */\n",
       "    events.on('clear_output.CodeCell', handleClearOutput);\n",
       "    events.on('delete.Cell', handleClearOutput);\n",
       "\n",
       "    /* Handle when a new output is added */\n",
       "    events.on('output_added.OutputArea', handleAddOutput);\n",
       "\n",
       "    /**\n",
       "     * Register the mime type and append_mime function with output_area\n",
       "     */\n",
       "    OutputArea.prototype.register_mime_type(EXEC_MIME_TYPE, append_mime, {\n",
       "      /* Is output safe? */\n",
       "      safe: true,\n",
       "      /* Index of renderer in `output_area.display_order` */\n",
       "      index: 0\n",
       "    });\n",
       "  }\n",
       "\n",
       "  // register the mime type if in Jupyter Notebook environment and previously unregistered\n",
       "  if (root.Jupyter !== undefined) {\n",
       "    var events = require('base/js/events');\n",
       "    var OutputArea = require('notebook/js/outputarea').OutputArea;\n",
       "\n",
       "    if (OutputArea.prototype.mime_types().indexOf(EXEC_MIME_TYPE) == -1) {\n",
       "      register_renderer(events, OutputArea);\n",
       "    }\n",
       "  }\n",
       "\n",
       "  \n",
       "  if (typeof (root._bokeh_timeout) === \"undefined\" || force === true) {\n",
       "    root._bokeh_timeout = Date.now() + 5000;\n",
       "    root._bokeh_failed_load = false;\n",
       "  }\n",
       "\n",
       "  var NB_LOAD_WARNING = {'data': {'text/html':\n",
       "     \"<div style='background-color: #fdd'>\\n\"+\n",
       "     \"<p>\\n\"+\n",
       "     \"BokehJS does not appear to have successfully loaded. If loading BokehJS from CDN, this \\n\"+\n",
       "     \"may be due to a slow or bad network connection. Possible fixes:\\n\"+\n",
       "     \"</p>\\n\"+\n",
       "     \"<ul>\\n\"+\n",
       "     \"<li>re-rerun `output_notebook()` to attempt to load from CDN again, or</li>\\n\"+\n",
       "     \"<li>use INLINE resources instead, as so:</li>\\n\"+\n",
       "     \"</ul>\\n\"+\n",
       "     \"<code>\\n\"+\n",
       "     \"from bokeh.resources import INLINE\\n\"+\n",
       "     \"output_notebook(resources=INLINE)\\n\"+\n",
       "     \"</code>\\n\"+\n",
       "     \"</div>\"}};\n",
       "\n",
       "  function display_loaded() {\n",
       "    var el = document.getElementById(\"1114\");\n",
       "    if (el != null) {\n",
       "      el.textContent = \"BokehJS is loading...\";\n",
       "    }\n",
       "    if (root.Bokeh !== undefined) {\n",
       "      if (el != null) {\n",
       "        el.textContent = \"BokehJS \" + root.Bokeh.version + \" successfully loaded.\";\n",
       "      }\n",
       "    } else if (Date.now() < root._bokeh_timeout) {\n",
       "      setTimeout(display_loaded, 100)\n",
       "    }\n",
       "  }\n",
       "\n",
       "\n",
       "  function run_callbacks() {\n",
       "    try {\n",
       "      root._bokeh_onload_callbacks.forEach(function(callback) { callback() });\n",
       "    }\n",
       "    finally {\n",
       "      delete root._bokeh_onload_callbacks\n",
       "    }\n",
       "    console.info(\"Bokeh: all callbacks have finished\");\n",
       "  }\n",
       "\n",
       "  function load_libs(js_urls, callback) {\n",
       "    root._bokeh_onload_callbacks.push(callback);\n",
       "    if (root._bokeh_is_loading > 0) {\n",
       "      console.log(\"Bokeh: BokehJS is being loaded, scheduling callback at\", now());\n",
       "      return null;\n",
       "    }\n",
       "    if (js_urls == null || js_urls.length === 0) {\n",
       "      run_callbacks();\n",
       "      return null;\n",
       "    }\n",
       "    console.log(\"Bokeh: BokehJS not loaded, scheduling load and callback at\", now());\n",
       "    root._bokeh_is_loading = js_urls.length;\n",
       "    for (var i = 0; i < js_urls.length; i++) {\n",
       "      var url = js_urls[i];\n",
       "      var s = document.createElement('script');\n",
       "      s.src = url;\n",
       "      s.async = false;\n",
       "      s.onreadystatechange = s.onload = function() {\n",
       "        root._bokeh_is_loading--;\n",
       "        if (root._bokeh_is_loading === 0) {\n",
       "          console.log(\"Bokeh: all BokehJS libraries loaded\");\n",
       "          run_callbacks()\n",
       "        }\n",
       "      };\n",
       "      s.onerror = function() {\n",
       "        console.warn(\"failed to load library \" + url);\n",
       "      };\n",
       "      console.log(\"Bokeh: injecting script tag for BokehJS library: \", url);\n",
       "      document.getElementsByTagName(\"head\")[0].appendChild(s);\n",
       "    }\n",
       "  };var element = document.getElementById(\"1114\");\n",
       "  if (element == null) {\n",
       "    console.log(\"Bokeh: ERROR: autoload.js configured with elementid '1114' but no matching script tag was found. \")\n",
       "    return false;\n",
       "  }\n",
       "\n",
       "  var js_urls = [\"https://cdn.pydata.org/bokeh/release/bokeh-1.0.3.min.js\", \"https://cdn.pydata.org/bokeh/release/bokeh-widgets-1.0.3.min.js\", \"https://cdn.pydata.org/bokeh/release/bokeh-tables-1.0.3.min.js\", \"https://cdn.pydata.org/bokeh/release/bokeh-gl-1.0.3.min.js\"];\n",
       "\n",
       "  var inline_js = [\n",
       "    function(Bokeh) {\n",
       "      Bokeh.set_log_level(\"info\");\n",
       "    },\n",
       "    \n",
       "    function(Bokeh) {\n",
       "      \n",
       "    },\n",
       "    function(Bokeh) {\n",
       "      console.log(\"Bokeh: injecting CSS: https://cdn.pydata.org/bokeh/release/bokeh-1.0.3.min.css\");\n",
       "      Bokeh.embed.inject_css(\"https://cdn.pydata.org/bokeh/release/bokeh-1.0.3.min.css\");\n",
       "      console.log(\"Bokeh: injecting CSS: https://cdn.pydata.org/bokeh/release/bokeh-widgets-1.0.3.min.css\");\n",
       "      Bokeh.embed.inject_css(\"https://cdn.pydata.org/bokeh/release/bokeh-widgets-1.0.3.min.css\");\n",
       "      console.log(\"Bokeh: injecting CSS: https://cdn.pydata.org/bokeh/release/bokeh-tables-1.0.3.min.css\");\n",
       "      Bokeh.embed.inject_css(\"https://cdn.pydata.org/bokeh/release/bokeh-tables-1.0.3.min.css\");\n",
       "    }\n",
       "  ];\n",
       "\n",
       "  function run_inline_js() {\n",
       "    \n",
       "    if ((root.Bokeh !== undefined) || (force === true)) {\n",
       "      for (var i = 0; i < inline_js.length; i++) {\n",
       "        inline_js[i].call(root, root.Bokeh);\n",
       "      }if (force === true) {\n",
       "        display_loaded();\n",
       "      }} else if (Date.now() < root._bokeh_timeout) {\n",
       "      setTimeout(run_inline_js, 100);\n",
       "    } else if (!root._bokeh_failed_load) {\n",
       "      console.log(\"Bokeh: BokehJS failed to load within specified timeout.\");\n",
       "      root._bokeh_failed_load = true;\n",
       "    } else if (force !== true) {\n",
       "      var cell = $(document.getElementById(\"1114\")).parents('.cell').data().cell;\n",
       "      cell.output_area.append_execute_result(NB_LOAD_WARNING)\n",
       "    }\n",
       "\n",
       "  }\n",
       "\n",
       "  if (root._bokeh_is_loading === 0) {\n",
       "    console.log(\"Bokeh: BokehJS loaded, going straight to plotting\");\n",
       "    run_inline_js();\n",
       "  } else {\n",
       "    load_libs(js_urls, function() {\n",
       "      console.log(\"Bokeh: BokehJS plotting callback run at\", now());\n",
       "      run_inline_js();\n",
       "    });\n",
       "  }\n",
       "}(window));"
      ],
      "application/vnd.bokehjs_load.v0+json": "\n(function(root) {\n  function now() {\n    return new Date();\n  }\n\n  var force = true;\n\n  if (typeof (root._bokeh_onload_callbacks) === \"undefined\" || force === true) {\n    root._bokeh_onload_callbacks = [];\n    root._bokeh_is_loading = undefined;\n  }\n\n  \n\n  \n  if (typeof (root._bokeh_timeout) === \"undefined\" || force === true) {\n    root._bokeh_timeout = Date.now() + 5000;\n    root._bokeh_failed_load = false;\n  }\n\n  var NB_LOAD_WARNING = {'data': {'text/html':\n     \"<div style='background-color: #fdd'>\\n\"+\n     \"<p>\\n\"+\n     \"BokehJS does not appear to have successfully loaded. If loading BokehJS from CDN, this \\n\"+\n     \"may be due to a slow or bad network connection. Possible fixes:\\n\"+\n     \"</p>\\n\"+\n     \"<ul>\\n\"+\n     \"<li>re-rerun `output_notebook()` to attempt to load from CDN again, or</li>\\n\"+\n     \"<li>use INLINE resources instead, as so:</li>\\n\"+\n     \"</ul>\\n\"+\n     \"<code>\\n\"+\n     \"from bokeh.resources import INLINE\\n\"+\n     \"output_notebook(resources=INLINE)\\n\"+\n     \"</code>\\n\"+\n     \"</div>\"}};\n\n  function display_loaded() {\n    var el = document.getElementById(\"1114\");\n    if (el != null) {\n      el.textContent = \"BokehJS is loading...\";\n    }\n    if (root.Bokeh !== undefined) {\n      if (el != null) {\n        el.textContent = \"BokehJS \" + root.Bokeh.version + \" successfully loaded.\";\n      }\n    } else if (Date.now() < root._bokeh_timeout) {\n      setTimeout(display_loaded, 100)\n    }\n  }\n\n\n  function run_callbacks() {\n    try {\n      root._bokeh_onload_callbacks.forEach(function(callback) { callback() });\n    }\n    finally {\n      delete root._bokeh_onload_callbacks\n    }\n    console.info(\"Bokeh: all callbacks have finished\");\n  }\n\n  function load_libs(js_urls, callback) {\n    root._bokeh_onload_callbacks.push(callback);\n    if (root._bokeh_is_loading > 0) {\n      console.log(\"Bokeh: BokehJS is being loaded, scheduling callback at\", now());\n      return null;\n    }\n    if (js_urls == null || js_urls.length === 0) {\n      run_callbacks();\n      return null;\n    }\n    console.log(\"Bokeh: BokehJS not loaded, scheduling load and callback at\", now());\n    root._bokeh_is_loading = js_urls.length;\n    for (var i = 0; i < js_urls.length; i++) {\n      var url = js_urls[i];\n      var s = document.createElement('script');\n      s.src = url;\n      s.async = false;\n      s.onreadystatechange = s.onload = function() {\n        root._bokeh_is_loading--;\n        if (root._bokeh_is_loading === 0) {\n          console.log(\"Bokeh: all BokehJS libraries loaded\");\n          run_callbacks()\n        }\n      };\n      s.onerror = function() {\n        console.warn(\"failed to load library \" + url);\n      };\n      console.log(\"Bokeh: injecting script tag for BokehJS library: \", url);\n      document.getElementsByTagName(\"head\")[0].appendChild(s);\n    }\n  };var element = document.getElementById(\"1114\");\n  if (element == null) {\n    console.log(\"Bokeh: ERROR: autoload.js configured with elementid '1114' but no matching script tag was found. \")\n    return false;\n  }\n\n  var js_urls = [\"https://cdn.pydata.org/bokeh/release/bokeh-1.0.3.min.js\", \"https://cdn.pydata.org/bokeh/release/bokeh-widgets-1.0.3.min.js\", \"https://cdn.pydata.org/bokeh/release/bokeh-tables-1.0.3.min.js\", \"https://cdn.pydata.org/bokeh/release/bokeh-gl-1.0.3.min.js\"];\n\n  var inline_js = [\n    function(Bokeh) {\n      Bokeh.set_log_level(\"info\");\n    },\n    \n    function(Bokeh) {\n      \n    },\n    function(Bokeh) {\n      console.log(\"Bokeh: injecting CSS: https://cdn.pydata.org/bokeh/release/bokeh-1.0.3.min.css\");\n      Bokeh.embed.inject_css(\"https://cdn.pydata.org/bokeh/release/bokeh-1.0.3.min.css\");\n      console.log(\"Bokeh: injecting CSS: https://cdn.pydata.org/bokeh/release/bokeh-widgets-1.0.3.min.css\");\n      Bokeh.embed.inject_css(\"https://cdn.pydata.org/bokeh/release/bokeh-widgets-1.0.3.min.css\");\n      console.log(\"Bokeh: injecting CSS: https://cdn.pydata.org/bokeh/release/bokeh-tables-1.0.3.min.css\");\n      Bokeh.embed.inject_css(\"https://cdn.pydata.org/bokeh/release/bokeh-tables-1.0.3.min.css\");\n    }\n  ];\n\n  function run_inline_js() {\n    \n    if ((root.Bokeh !== undefined) || (force === true)) {\n      for (var i = 0; i < inline_js.length; i++) {\n        inline_js[i].call(root, root.Bokeh);\n      }if (force === true) {\n        display_loaded();\n      }} else if (Date.now() < root._bokeh_timeout) {\n      setTimeout(run_inline_js, 100);\n    } else if (!root._bokeh_failed_load) {\n      console.log(\"Bokeh: BokehJS failed to load within specified timeout.\");\n      root._bokeh_failed_load = true;\n    } else if (force !== true) {\n      var cell = $(document.getElementById(\"1114\")).parents('.cell').data().cell;\n      cell.output_area.append_execute_result(NB_LOAD_WARNING)\n    }\n\n  }\n\n  if (root._bokeh_is_loading === 0) {\n    console.log(\"Bokeh: BokehJS loaded, going straight to plotting\");\n    run_inline_js();\n  } else {\n    load_libs(js_urls, function() {\n      console.log(\"Bokeh: BokehJS plotting callback run at\", now());\n      run_inline_js();\n    });\n  }\n}(window));"
     },
     "metadata": {},
     "output_type": "display_data"
    },
    {
     "data": {
      "text/html": [
       "\n",
       "\n",
       "\n",
       "\n",
       "\n",
       "\n",
       "  <div class=\"bk-root\" id=\"3f940872-f688-4104-aec5-938ada466f06\" data-root-id=\"1115\"></div>\n"
      ]
     },
     "metadata": {},
     "output_type": "display_data"
    },
    {
     "data": {
      "application/javascript": [
       "(function(root) {\n",
       "  function embed_document(root) {\n",
       "    \n",
       "  var docs_json = {\"338a92ec-1842-4b0b-8aca-42e148ddbee7\":{\"roots\":{\"references\":[{\"attributes\":{\"below\":[{\"id\":\"1124\",\"type\":\"LinearAxis\"}],\"left\":[{\"id\":\"1129\",\"type\":\"LinearAxis\"}],\"plot_width\":700,\"renderers\":[{\"id\":\"1124\",\"type\":\"LinearAxis\"},{\"id\":\"1128\",\"type\":\"Grid\"},{\"id\":\"1129\",\"type\":\"LinearAxis\"},{\"id\":\"1133\",\"type\":\"Grid\"},{\"id\":\"1142\",\"type\":\"BoxAnnotation\"},{\"id\":\"1153\",\"type\":\"GlyphRenderer\"}],\"title\":{\"id\":\"1155\",\"type\":\"Title\"},\"toolbar\":{\"id\":\"1140\",\"type\":\"Toolbar\"},\"x_range\":{\"id\":\"1116\",\"type\":\"DataRange1d\"},\"x_scale\":{\"id\":\"1120\",\"type\":\"LinearScale\"},\"y_range\":{\"id\":\"1118\",\"type\":\"DataRange1d\"},\"y_scale\":{\"id\":\"1122\",\"type\":\"LinearScale\"}},\"id\":\"1115\",\"subtype\":\"Figure\",\"type\":\"Plot\"},{\"attributes\":{},\"id\":\"1134\",\"type\":\"PanTool\"},{\"attributes\":{\"callback\":null},\"id\":\"1116\",\"type\":\"DataRange1d\"},{\"attributes\":{},\"id\":\"1135\",\"type\":\"WheelZoomTool\"},{\"attributes\":{\"overlay\":{\"id\":\"1142\",\"type\":\"BoxAnnotation\"}},\"id\":\"1136\",\"type\":\"BoxZoomTool\"},{\"attributes\":{\"callback\":null,\"tooltips\":[[\"word\",\"@words\"]]},\"id\":\"1138\",\"type\":\"HoverTool\"},{\"attributes\":{\"formatter\":{\"id\":\"1158\",\"type\":\"BasicTickFormatter\"},\"plot\":{\"id\":\"1115\",\"subtype\":\"Figure\",\"type\":\"Plot\"},\"ticker\":{\"id\":\"1125\",\"type\":\"BasicTicker\"}},\"id\":\"1124\",\"type\":\"LinearAxis\"},{\"attributes\":{},\"id\":\"1139\",\"type\":\"SaveTool\"},{\"attributes\":{},\"id\":\"1122\",\"type\":\"LinearScale\"},{\"attributes\":{},\"id\":\"1120\",\"type\":\"LinearScale\"},{\"attributes\":{},\"id\":\"1137\",\"type\":\"ResetTool\"},{\"attributes\":{\"active_drag\":\"auto\",\"active_inspect\":\"auto\",\"active_multi\":null,\"active_scroll\":\"auto\",\"active_tap\":\"auto\",\"tools\":[{\"id\":\"1134\",\"type\":\"PanTool\"},{\"id\":\"1135\",\"type\":\"WheelZoomTool\"},{\"id\":\"1136\",\"type\":\"BoxZoomTool\"},{\"id\":\"1137\",\"type\":\"ResetTool\"},{\"id\":\"1138\",\"type\":\"HoverTool\"},{\"id\":\"1139\",\"type\":\"SaveTool\"}]},\"id\":\"1140\",\"type\":\"Toolbar\"},{\"attributes\":{\"bottom_units\":\"screen\",\"fill_alpha\":{\"value\":0.5},\"fill_color\":{\"value\":\"lightgrey\"},\"left_units\":\"screen\",\"level\":\"overlay\",\"line_alpha\":{\"value\":1.0},\"line_color\":{\"value\":\"black\"},\"line_dash\":[4,4],\"line_width\":{\"value\":2},\"plot\":null,\"render_mode\":\"css\",\"right_units\":\"screen\",\"top_units\":\"screen\"},\"id\":\"1142\",\"type\":\"BoxAnnotation\"},{\"attributes\":{},\"id\":\"1125\",\"type\":\"BasicTicker\"},{\"attributes\":{\"formatter\":{\"id\":\"1160\",\"type\":\"BasicTickFormatter\"},\"plot\":{\"id\":\"1115\",\"subtype\":\"Figure\",\"type\":\"Plot\"},\"ticker\":{\"id\":\"1130\",\"type\":\"BasicTicker\"}},\"id\":\"1129\",\"type\":\"LinearAxis\"},{\"attributes\":{\"fill_alpha\":{\"value\":0.1},\"fill_color\":{\"value\":\"#1f77b4\"},\"line_alpha\":{\"value\":0.1},\"line_color\":{\"value\":\"#1f77b4\"},\"x\":{\"field\":\"dim_1\"},\"y\":{\"field\":\"dim_2\"}},\"id\":\"1152\",\"type\":\"Scatter\"},{\"attributes\":{\"plot\":{\"id\":\"1115\",\"subtype\":\"Figure\",\"type\":\"Plot\"},\"ticker\":{\"id\":\"1125\",\"type\":\"BasicTicker\"}},\"id\":\"1128\",\"type\":\"Grid\"},{\"attributes\":{},\"id\":\"1130\",\"type\":\"BasicTicker\"},{\"attributes\":{\"fill_color\":{\"value\":\"#1f77b4\"},\"line_color\":{\"value\":\"#1f77b4\"},\"x\":{\"field\":\"dim_1\"},\"y\":{\"field\":\"dim_2\"}},\"id\":\"1151\",\"type\":\"Scatter\"},{\"attributes\":{\"data_source\":{\"id\":\"1149\",\"type\":\"ColumnDataSource\"},\"glyph\":{\"id\":\"1151\",\"type\":\"Scatter\"},\"hover_glyph\":null,\"muted_glyph\":null,\"nonselection_glyph\":{\"id\":\"1152\",\"type\":\"Scatter\"},\"selection_glyph\":null,\"view\":{\"id\":\"1154\",\"type\":\"CDSView\"}},\"id\":\"1153\",\"type\":\"GlyphRenderer\"},{\"attributes\":{\"source\":{\"id\":\"1149\",\"type\":\"ColumnDataSource\"}},\"id\":\"1154\",\"type\":\"CDSView\"},{\"attributes\":{\"dimension\":1,\"plot\":{\"id\":\"1115\",\"subtype\":\"Figure\",\"type\":\"Plot\"},\"ticker\":{\"id\":\"1130\",\"type\":\"BasicTicker\"}},\"id\":\"1133\",\"type\":\"Grid\"},{\"attributes\":{\"plot\":null,\"text\":\"\"},\"id\":\"1155\",\"type\":\"Title\"},{\"attributes\":{},\"id\":\"1160\",\"type\":\"BasicTickFormatter\"},{\"attributes\":{\"callback\":null},\"id\":\"1118\",\"type\":\"DataRange1d\"},{\"attributes\":{},\"id\":\"1161\",\"type\":\"Selection\"},{\"attributes\":{},\"id\":\"1162\",\"type\":\"UnionRenderers\"},{\"attributes\":{\"callback\":null,\"data\":{\"dim_1\":{\"__ndarray__\":\"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\",\"dtype\":\"float32\",\"shape\":[2000]},\"dim_2\":{\"__ndarray__\":\"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\",\"dtype\":\"float32\",\"shape\":[2000]},\"index\":[0,1,2,3,4,5,6,7,8,9,10,11,12,13,14,15,16,17,18,19,20,21,22,23,24,25,26,27,28,29,30,31,32,33,34,35,36,37,38,39,40,41,42,43,44,45,46,47,48,49,50,51,52,53,54,55,56,57,58,59,60,61,62,63,64,65,66,67,68,69,70,71,72,73,74,75,76,77,78,79,80,81,82,83,84,85,86,87,88,89,90,91,92,93,94,95,96,97,98,99,100,101,102,103,104,105,106,107,108,109,110,111,112,113,114,115,116,117,118,119,120,121,122,123,124,125,126,127,128,129,130,131,132,133,134,135,136,137,138,139,140,141,142,143,144,145,146,147,148,149,150,151,152,153,154,155,156,157,158,159,160,161,162,163,164,165,166,167,168,169,170,171,172,173,174,175,176,177,178,179,180,181,182,183,184,185,186,187,188,189,190,191,192,193,194,195,196,197,198,199,200,201,202,203,204,205,206,207,208,209,210,211,212,213,214,215,216,217,218,219,220,221,222,223,224,225,226,227,228,229,230,231,232,233,234,235,236,237,238,239,240,241,242,243,244,245,246,247,248,249,250,251,252,253,254,255,256,257,258,259,260,261,262,263,264,265,266,267,268,269,270,271,272,273,274,275,276,277,278,279,280,281,282,283,284,285,286,287,288,289,290,291,292,293,294,295,296,297,298,299,300,301,302,303,304,305,306,307,308,309,310,311,312,313,314,315,316,317,318,319,320,321,322,323,324,325,326,327,328,329,330,331,332,333,334,335,336,337,338,339,340,341,342,343,344,345,346,347,348,349,350,351,352,353,354,355,356,357,358,359,360,361,362,363,364,365,366,367,368,369,370,371,372,373,374,375,376,377,378,379,380,381,382,383,384,385,386,387,388,389,390,391,392,393,394,395,396,397,398,399,400,401,402,403,404,405,406,407,408,409,410,411,412,413,414,415,416,417,418,419,420,421,422,423,424,425,426,427,428,429,430,431,432,433,434,435,436,437,438,439,440,441,442,443,444,445,446,447,448,449,450,451,452,453,454,455,456,457,458,459,460,461,462,463,464,465,466,467,468,469,470,471,472,473,474,475,476,477,478,479,480,481,482,483,484,485,486,487,488,489,490,491,492,493,494,495,496,497,498,499,500,501,502,503,504,505,506,507,508,509,510,511,512,513,514,515,516,517,518,519,520,521,522,523,524,525,526,527,528,529,530,531,532,533,534,535,536,537,538,539,540,541,542,543,544,545,546,547,548,549,550,551,552,553,554,555,556,557,558,559,560,561,562,563,564,565,566,567,568,569,570,571,572,573,574,575,576,577,578,579,580,581,582,583,584,585,586,587,588,589,590,591,592,593,594,595,596,597,598,599,600,601,602,603,604,605,606,607,608,609,610,611,612,613,614,615,616,617,618,619,620,621,622,623,624,625,626,627,628,629,630,631,632,633,634,635,636,637,638,639,640,641,642,643,644,645,646,647,648,649,650,651,652,653,654,655,656,657,658,659,660,661,662,663,664,665,666,667,668,669,670,671,672,673,674,675,676,677,678,679,680,681,682,683,684,685,686,687,688,689,690,691,692,693,694,695,696,697,698,699,700,701,702,703,704,705,706,707,708,709,710,711,712,713,714,715,716,717,718,719,720,721,722,723,724,725,726,727,728,729,730,731,732,733,734,735,736,737,738,739,740,741,742,743,744,745,746,747,748,749,750,751,752,753,754,755,756,757,758,759,760,761,762,763,764,765,766,767,768,769,770,771,772,773,774,775,776,777,778,779,780,781,782,783,784,785,786,787,788,789,790,791,792,793,794,795,796,797,798,799,800,801,802,803,804,805,806,807,808,809,810,811,812,813,814,815,816,817,818,819,820,821,822,823,824,825,826,827,828,829,830,831,832,833,834,835,836,837,838,839,840,841,842,843,844,845,846,847,848,849,850,851,852,853,854,855,856,857,858,859,860,861,862,863,864,865,866,867,868,869,870,871,872,873,874,875,876,877,878,879,880,881,882,883,884,885,886,887,888,889,890,891,892,893,894,895,896,897,898,899,900,901,902,903,904,905,906,907,908,909,910,911,912,913,914,915,916,917,918,919,920,921,922,923,924,925,926,927,928,929,930,931,932,933,934,935,936,937,938,939,940,941,942,943,944,945,946,947,948,949,950,951,952,953,954,955,956,957,958,959,960,961,962,963,964,965,966,967,968,969,970,971,972,973,974,975,976,977,978,979,980,981,982,983,984,985,986,987,988,989,990,991,992,993,994,995,996,997,998,999,1000,1001,1002,1003,1004,1005,1006,1007,1008,1009,1010,1011,1012,1013,1014,1015,1016,1017,1018,1019,1020,1021,1022,1023,1024,1025,1026,1027,1028,1029,1030,1031,1032,1033,1034,1035,1036,1037,1038,1039,1040,1041,1042,1043,1044,1045,1046,1047,1048,1049,1050,1051,1052,1053,1054,1055,1056,1057,1058,1059,1060,1061,1062,1063,1064,1065,1066,1067,1068,1069,1070,1071,1072,1073,1074,1075,1076,1077,1078,1079,1080,1081,1082,1083,1084,1085,1086,1087,1088,1089,1090,1091,1092,1093,1094,1095,1096,1097,1098,1099,1100,1101,1102,1103,1104,1105,1106,1107,1108,1109,1110,1111,1112,1113,1114,1115,1116,1117,1118,1119,1120,1121,1122,1123,1124,1125,1126,1127,1128,1129,1130,1131,1132,1133,1134,1135,1136,1137,1138,1139,1140,1141,1142,1143,1144,1145,1146,1147,1148,1149,1150,1151,1152,1153,1154,1155,1156,1157,1158,1159,1160,1161,1162,1163,1164,1165,1166,1167,1168,1169,1170,1171,1172,1173,1174,1175,1176,1177,1178,1179,1180,1181,1182,1183,1184,1185,1186,1187,1188,1189,1190,1191,1192,1193,1194,1195,1196,1197,1198,1199,1200,1201,1202,1203,1204,1205,1206,1207,1208,1209,1210,1211,1212,1213,1214,1215,1216,1217,1218,1219,1220,1221,1222,1223,1224,1225,1226,1227,1228,1229,1230,1231,1232,1233,1234,1235,1236,1237,1238,1239,1240,1241,1242,1243,1244,1245,1246,1247,1248,1249,1250,1251,1252,1253,1254,1255,1256,1257,1258,1259,1260,1261,1262,1263,1264,1265,1266,1267,1268,1269,1270,1271,1272,1273,1274,1275,1276,1277,1278,1279,1280,1281,1282,1283,1284,1285,1286,1287,1288,1289,1290,1291,1292,1293,1294,1295,1296,1297,1298,1299,1300,1301,1302,1303,1304,1305,1306,1307,1308,1309,1310,1311,1312,1313,1314,1315,1316,1317,1318,1319,1320,1321,1322,1323,1324,1325,1326,1327,1328,1329,1330,1331,1332,1333,1334,1335,1336,1337,1338,1339,1340,1341,1342,1343,1344,1345,1346,1347,1348,1349,1350,1351,1352,1353,1354,1355,1356,1357,1358,1359,1360,1361,1362,1363,1364,1365,1366,1367,1368,1369,1370,1371,1372,1373,1374,1375,1376,1377,1378,1379,1380,1381,1382,1383,1384,1385,1386,1387,1388,1389,1390,1391,1392,1393,1394,1395,1396,1397,1398,1399,1400,1401,1402,1403,1404,1405,1406,1407,1408,1409,1410,1411,1412,1413,1414,1415,1416,1417,1418,1419,1420,1421,1422,1423,1424,1425,1426,1427,1428,1429,1430,1431,1432,1433,1434,1435,1436,1437,1438,1439,1440,1441,1442,1443,1444,1445,1446,1447,1448,1449,1450,1451,1452,1453,1454,1455,1456,1457,1458,1459,1460,1461,1462,1463,1464,1465,1466,1467,1468,1469,1470,1471,1472,1473,1474,1475,1476,1477,1478,1479,1480,1481,1482,1483,1484,1485,1486,1487,1488,1489,1490,1491,1492,1493,1494,1495,1496,1497,1498,1499,1500,1501,1502,1503,1504,1505,1506,1507,1508,1509,1510,1511,1512,1513,1514,1515,1516,1517,1518,1519,1520,1521,1522,1523,1524,1525,1526,1527,1528,1529,1530,1531,1532,1533,1534,1535,1536,1537,1538,1539,1540,1541,1542,1543,1544,1545,1546,1547,1548,1549,1550,1551,1552,1553,1554,1555,1556,1557,1558,1559,1560,1561,1562,1563,1564,1565,1566,1567,1568,1569,1570,1571,1572,1573,1574,1575,1576,1577,1578,1579,1580,1581,1582,1583,1584,1585,1586,1587,1588,1589,1590,1591,1592,1593,1594,1595,1596,1597,1598,1599,1600,1601,1602,1603,1604,1605,1606,1607,1608,1609,1610,1611,1612,1613,1614,1615,1616,1617,1618,1619,1620,1621,1622,1623,1624,1625,1626,1627,1628,1629,1630,1631,1632,1633,1634,1635,1636,1637,1638,1639,1640,1641,1642,1643,1644,1645,1646,1647,1648,1649,1650,1651,1652,1653,1654,1655,1656,1657,1658,1659,1660,1661,1662,1663,1664,1665,1666,1667,1668,1669,1670,1671,1672,1673,1674,1675,1676,1677,1678,1679,1680,1681,1682,1683,1684,1685,1686,1687,1688,1689,1690,1691,1692,1693,1694,1695,1696,1697,1698,1699,1700,1701,1702,1703,1704,1705,1706,1707,1708,1709,1710,1711,1712,1713,1714,1715,1716,1717,1718,1719,1720,1721,1722,1723,1724,1725,1726,1727,1728,1729,1730,1731,1732,1733,1734,1735,1736,1737,1738,1739,1740,1741,1742,1743,1744,1745,1746,1747,1748,1749,1750,1751,1752,1753,1754,1755,1756,1757,1758,1759,1760,1761,1762,1763,1764,1765,1766,1767,1768,1769,1770,1771,1772,1773,1774,1775,1776,1777,1778,1779,1780,1781,1782,1783,1784,1785,1786,1787,1788,1789,1790,1791,1792,1793,1794,1795,1796,1797,1798,1799,1800,1801,1802,1803,1804,1805,1806,1807,1808,1809,1810,1811,1812,1813,1814,1815,1816,1817,1818,1819,1820,1821,1822,1823,1824,1825,1826,1827,1828,1829,1830,1831,1832,1833,1834,1835,1836,1837,1838,1839,1840,1841,1842,1843,1844,1845,1846,1847,1848,1849,1850,1851,1852,1853,1854,1855,1856,1857,1858,1859,1860,1861,1862,1863,1864,1865,1866,1867,1868,1869,1870,1871,1872,1873,1874,1875,1876,1877,1878,1879,1880,1881,1882,1883,1884,1885,1886,1887,1888,1889,1890,1891,1892,1893,1894,1895,1896,1897,1898,1899,1900,1901,1902,1903,1904,1905,1906,1907,1908,1909,1910,1911,1912,1913,1914,1915,1916,1917,1918,1919,1920,1921,1922,1923,1924,1925,1926,1927,1928,1929,1930,1931,1932,1933,1934,1935,1936,1937,1938,1939,1940,1941,1942,1943,1944,1945,1946,1947,1948,1949,1950,1951,1952,1953,1954,1955,1956,1957,1958,1959,1960,1961,1962,1963,1964,1965,1966,1967,1968,1969,1970,1971,1972,1973,1974,1975,1976,1977,1978,1979,1980,1981,1982,1983,1984,1985,1986,1987,1988,1989,1990,1991,1992,1993,1994,1995,1996,1997,1998,1999],\"words\":[\"i\",\"fall\",\"in\",\"love\",\"with\",\"my\",\"girl\",\"friend\",\"came\",\"over\",\"to\",\"watch\",\"critical\",\"role\",\".\",\"thought\",\"that\",\"was\",\"out\",\"of\",\"cream\",\"for\",\"coffee\",\",\",\"but\",\"lo\",\"and\",\"there\",\"remained\",\"a\",\"can\",\"the\",\"back\",\"pantry\",\"!\",\"discovered\",\"new\",\"software\",\"will\",\"help\",\"me\",\"develop\",\"an\",\"android\",\"app\",\"faster\",\"than\",\"originally\",\"found\",\"source\",\"income\",\"snuggled\",\"bed\",\"daughter\",\"last\",\"night\",\"she\",\"looked\",\"at\",\"said\",\"``\",\"you\",\"''\",\"went\",\"shopping\",\"passed\",\"test\",\"commercial\",\"driver\",\"license\",\"9\",\"month\",\"old\",\"son\",\"kept\",\"hiding\",\"his\",\"face\",\"underneath\",\"blanket\",\"laughing\",\"when\",\"he\",\"pulled\",\"it\",\"down\",\"discussed\",\"latest\",\"episode\",\"bates\",\"motel\",\"'ve\",\"been\",\"living\",\"middle\",\"us\",\"school\",\"'m\",\"from\",\"california\",\"one\",\"happiest\",\"times\",\"past\",\"three\",\"months\",\"visiting\",\"beach\",\"first\",\"time\",\"year\",\"weather\",\"kind\",\"cold\",\"windy\",\"sky\",\"gray\",\"waves\",\"strong\",\"could\",\"just\",\"toes\",\"wet\",\"sand\",\"let\",\"small\",\"wave\",\"lap\",\"up\",\"against\",\"taking\",\"seat\",\"after\",\"hours\",\"sorting\",\"files\",\"having\",\"nothing\",\"significant\",\"do\",\"hour\",\"work\",\"nephew\",\"tells\",\"mom\",\"how\",\"proud\",\"cool\",\"am\",\"not\",\"around\",\"party\",\"friends\",\"enjoyed\",\"lot\",\"completed\",\"show\",\"class\",\"super\",\"scared\",\"teacher\",\"gave\",\"compliments\",\"no\",\"else\",\"got\",\"felt\",\"really\",\"good\",\"about\",\"myself\",\"brother\",\"marriage\",\"able\",\"go\",\"on\",\"spontaneous\",\"trip\",\"great\",\"our\",\"favorite\",\"vacation\",\"destination\",\"twitch\",\"streaming\",\"so\",\"make\",\"money\",\"doing\",\"sunshine\",\"finally\",\"getting\",\"some\",\"decent\",\"here\",\"purchased\",\"vehicle\",\"would\",\"growing\",\"family\",\"solved\",\"complex\",\"problem\",\"project\",\"team\",\"members\",\"manager\",\"praised\",\"happy\",\"watching\",\"play\",\"park\",\"yesterday\",\"once\",\"asked\",\"who\",\"called\",\"wedding\",\"anniversary\",\"does\",\"feel\",\"celebrate\",\"day\",\"?\",\"what\",\"still\",\"puzzles\",\"this\",\"hope\",\"we\",\"all\",\"know\",\"shared\",\"is\",\"halfway\",\"have\",\"decided\",\"share\",\"puzzle\",\"word\",\"very\",\"inspired\",\"finding\",\"schedule\",\"take\",\"nap\",\"rest\",\"has\",\"made\",\"only\",\"sophomore\",\"musician\",\"high\",\"professional\",\"gig\",\"(\",\"community\",\"theater\",\"orchestra\",\"pit\",\")\",\"based\",\"director\",\"seeing\",\"him\",\"event\",\"birthday\",\"get\",\"massage\",\"free\",\"ghost\",\"adventures\",\"had\",\"episodes\",\"week\",\"spent\",\"catching\",\"evening\",\"dinner\",\"whole\",\"together\",\"sit\",\"meal\",\"movie\",\"mturk\",\"job\",\"mnc\",\"company\",\"they\",\"salary\",\"by\",\"hand\",\"many\",\"problems\",\"parents\",\"makes\",\"coming\",\"home\",\"long\",\"always\",\"travel\",\"see\",\"seen\",\"graduated\",\"basic\",\"military\",\"training\",\"air\",\"force\",\"ba\",\"meant\",\"online\",\"owned\",\"big\",\"dad\",\"'s\",\"highly\",\"style\",\"woke\",\"morning\",\"friday\",\"beautiful\",\"sunny\",\"as\",\"well\",\"bought\",\"little\",\"flying\",\"dragon\",\"pet\",\"thing\",\"follows\",\"avatar\",\"gaiaonline\",\"bathtub\",\"slowly\",\"submitted\",\"order\",\"maintenance\",\"workers\",\"fixed\",\"today\",\"quickly\",\"upgrade\",\"clash\",\"clans\",\"pretty\",\"brought\",\"chops\",\"cooked\",\"wife\",\"more\",\"anything\",\"turned\",\"her\",\"special\",\"too\",\"mine\",\"nominated\",\"watched\",\"worth\",\"remembering\",\"farmer\",\"market\",\"lovely\",\"gift\",\"father\",\"took\",\"hot\",\"bath\",\"off\",\"stresses\",\"most\",\"important\",\"enjoy\",\"your\",\"life\",\"-\",\"be\",\"matters\",\"way\",\"playing\",\"smash\",\"bros\",\"tournament\",\"played\",\"best\",\"players\",\"did\",\"n't\",\"win\",\"performance\",\"remember\",\"message\",\"before\",\"start\",\"second\",\":\",\"arrived\",\"spring\",\"break\",\"ran\",\"least\",\"30\",\"minutes\",\"treadmill\",\"unfortunately\",\"grandma\",\"house\",\"z\",\"shop\",\"then\",\"things\",\"gifts\",\"which\",\"selected\",\"blissful\",\"ive\",\"saving\",\"purse\",\"loved\",\"enough\",\"buy\",\"gone\",\"saw\",\"grabbed\",\"absolutely\",\"2\",\"1/2\",\"yr\",\"grandson\",\"pair\",\"sun\",\"glasses\",\"promptly\",\"put\",\"them\",\"husband\",\"hollywood\",\"replied\",\"girlfriend\",\"paints\",\"painting\",\"instagram\",\"laundry\",\"without\",\"ask\",\"hawaii\",\"sister\",\"married\",\"insisted\",\"apples\",\"uncle\",\"unwell\",\"proceeded\",\"meet\",\"delicious\",\"ever\",\"are\",\"two\",\"types\",\"people\",\"world\",\"those\",\"choose\",\"unhappy\",\"contrary\",\"popular\",\"belief\",\"happiness\",\"come\",\"fame\",\"fortune\",\"other\",\"or\",\"material\",\"possessions\",\"rather\",\"comes\",\"within\",\"richest\",\"person\",\"miserable\",\"while\",\"slums\",\"third\",\"country\",\"content\",\"plenty\",\"amongst\",\"both\",\"groups\",\"because\",\"themselves\",\"maintain\",\"positive\",\"outlook\",\"remain\",\"peace\",\"picked\",\"jury\",\"duty\",\"picnic\",\"walking\",\"outside\",\"exercising\",\"hanging\",\"kids\",\"weekend\",\"joy\",\"previous\",\"fun\",\"group\",\"working\",\"several\",\"stress\",\"propose\",\"accept\",\"moment\",\"present\",\"card\",\"also\",\"picture\",\"return\",\"their\",\"spoke\",\"phone\",\"&\",\"received\",\"form\",\"boss\",\"successful\",\"completion\",\"stock\",\"updating\",\"task\",\"won\",\"award\",\"article\",\"wrote\",\"football\",\"confirmation\",\"follow\",\"interview\",\"hoping\",\"move\",\"city\",\"few\",\"ago\",\"told\",\"were\",\"approved\",\"apartment\",\"nice\",\"place\",\"reached\",\"office\",\"easily\",\"traffic\",\"road\",\"cards\",\"humanity\",\"laughter\",\"among\",\"colleagues\",\"foster\",\"puppy\",\"used\",\"pad\",\"indicating\",\"trained\",\"email\",\"confirm\",\"bug\",\"report\",\"sure\",\"car\",\"need\",\"brakes\",\"instead\",\"cleaned\",\"store\",\"afternoon\",\"lucky\",\"penny\",\"luck\",\"realized\",\"coupon\",\"half\",\"meat\",\"raise\",\"appreciated\",\"$\",\"50\",\"record\",\"dollar\",\"hourly\",\"became\",\"pregnant\",\"attended\",\"annual\",\"function\",\"certification\",\"exam\",\"pending\",\"clear\",\"cleared\",\"wonderful\",\"nearly\",\"65\",\"degrees\",\"jacket\",\"roll\",\"windows\",\"eat\",\"oatmeal\",\"uninterrupted\",\"cuddling\",\"dogs\",\"couch\",\"tv\",\"granddaughter\",\"softball\",\"exercise\",\"left\",\"note\",\"included\",\"drawing\",\"short\",\"tell\",\"much\",\"ordinary\",\"unexpected\",\"sweet\",\"opinion\",\"returning\",\"cycle\",\"meeting\",\"street\",\"bull\",\"standing\",\"center\",\"click\",\"bell\",\"walk\",\"corner\",\"forget\",\"looking\",\"cd\",\"wanted\",\"stumbled\",\"upon\",\"renewed\",\"library\",\"check\",\"books\",\"cost\",\"finalized\",\"adoption\",\"dead\",\"body\",\"opened\",\"eyes\",\"smiles\",\"planning\",\"psychology\",\"student\",\"weeks\",\"university\",\"academic\",\"research\",\"presentation\",\"helped\",\"customer\",\"genuinely\",\"appreciative\",\"enjoyable\",\"running\",\"race\",\"bunch\",\"local\",\"athletes\",\"season\",\"catch\",\"everyone\",\"itself\",\"paycheck\",\"courage\",\"into\",\"away\",\"deal\",\"bread\",\"dog\",\"collar\",\"stay\",\"yard\",\"finished\",\"assignment\",\"college\",\"finishing\",\"graduate\",\"accepted\",\"want\",\"hidden\",\"figures\",\"sold\",\"item\",\"ebay\",\"tasty\",\"banana\",\"cookout\",\"chocolate\",\"milkshake\",\"ate\",\"visited\",\"since\",\"immediate\",\"lives\",\"town\",\"attending\",\"photography\",\"course\",\"understand\",\"camera\",\"better\",\"pictures\",\"denied\",\"hired\",\"attorney\",\"paid\",\"court\",\"fee\",\"invited\",\"room\",\"already\",\"christmas\",\"tree\",\"april\",\"fools\",\"band\",\"nyc\",\"years\",\"eve\",\"offer\",\"applied\",\"never\",\"respond\",\"scheduled\",\"meetup\",\"roommates\",\"unc\",\"national\",\"title\",\"game\",\"shirt\",\"color\",\"signed\",\"paper\",\"parcel\",\"hands\",\"itching\",\"open\",\"packet\",\"curiosity\",\"knew\",\"bounds\",\"ripped\",\"sent\",\"mumbai\",\"letter\",\"along\",\"thanks\",\"certificate\",\"restaurant\",\"area\",\"mother\",\"achieved\",\"fitness\",\"goal\",\"towards\",\"going\",\"baptized\",\"celebrated\",\"40th\",\"march\",\"video\",\"lunch\",\"nintendo\",\"switch\",\"bonus\",\"sleep\",\"waking\",\"early\",\"relax\",\"worry\",\"any\",\"environment\",\"energy\",\";\",\"gourmet\",\"hamburgers\",\"mac\",\"cheese\",\"give\",\"something\",\"liked\",\"gas\",\"electric\",\"bill\",\"lower\",\"complete\",\"mile\",\"jog\",\"gym\",\"sitting\",\"beer\",\"deck\",\"full\",\"panoramic\",\"1000\",\"piece\",\"las\",\"vegas\",\"started\",\"alone\",\"brothers\",\"span\",\"almost\",\"10\",\"sons\",\"hilarious\",\"marching\",\"cuisine\",\"daughters\",\"moments\",\"delighted\",\"successfully\",\"personal\",\"loan\",\"bank\",\"truly\",\"blessing\",\"such\",\"perfect\",\"timing\",\"another\",\"where\",\"age\",\"state\",\"mind\",\"think\",\"count\",\"blessings\",\"games\",\"tablet\",\"6\",\"often\",\"chance\",\"listened\",\"podcast\",\"warm\",\"winter\",\"enjoying\",\"nature\",\"every\",\"matter\",\"happened\",\"prior\",\"longtime\",\"8\",\"built\",\"outdoor\",\"patio\",\"emotional\",\"behavior\",\"birth\",\"acceptance\",\"baby\",\"7\",\"elder\",\"surprise\",\"look\",\"excited\",\"expressed\",\"kissing\",\"sibling\",\"run\",\"scanning\",\"gun\",\"posting\",\"mail\",\"making\",\"pleasurable\",\"learned\",\"skill\",\"easier\",\"advance\",\"career\",\"opportunity\",\"injured\",\"vet\",\"save\",\"its\",\"awesome\",\"final\",\"ocean\",\"water\",\"calm\",\"relaxing\",\"experience\",\"lounge\",\"man\",\"lady\",\"top\",\"shelf\",\"grocery\",\"everyday\",\"product\",\"fifty\",\"percent\",\"retail\",\"price\",\"notice\",\"leadership\",\"association\",\"through\",\"planned\",\"goodbye\",\"gathering\",\"moving\",\"meowed\",\"cat\",\"due\",\"find\",\"hits\",\"earn\",\"10.00\",\"grand\",\"tonight\",\"lost\",\"lbs\",\"weight\",\"freeze\",\"resort\",\"swimming\",\"pool\",\"bowling\",\"food\",\"spend\",\"days\",\"scale\",\"right\",\"direction\",\"baked\",\"cake\",\"trade\",\"program\",\"forth\",\"figure\",\"crawled\",\"mower\",\"battery\",\"actually\",\"juice\",\"engine\",\"increase\",\"maximum\",\"squat\",\"ordered\",\"thank\",\"february\",\"23rd\",\"2017\",\"delivered\",\"male\",\"child\",\"heard\",\"crying\",\"voice\",\"worked\",\"synthesizer\",\"track\",\"song\",\"currently\",\"ending\",\"fantastic\",\"homework\",\"herself\",\"asking\",\"egyptian\",\"traditional\",\"set\",\"aside\",\"cultural\",\"conflicts\",\"bit\",\"heart\",\"operation\",\"laugh\",\"daily\",\"burger\",\"mcdonald\",\"dollars\",\"ground\",\"later\",\"20\",\"niece\",\"facebook\",\"connection\",\"interact\",\"done\",\"volunteering\",\"missed\",\"being\",\"silly\",\"telling\",\"funny\",\"jokes\",\"stories\",\"boy\",\"questions\",\"parade\",\"leaving\",\"couple\",\"miles\",\"downtown\",\"smile\",\"dealing\",\"anxiety\",\"tries\",\"difficult\",\"hard\",\"results\",\"output\",\"result\",\"dream\",\"like\",\"hiking\",\"boyfriend\",\"mini\",\"hike\",\"scenery\",\"stunning\",\"must\",\"needed\",\"minor\",\"repairs\",\"reasonable\",\"24\",\"extremely\",\"own\",\"quality\",\"gaming\",\"laughs\",\"returned\",\"workout\",\"routines\",\"met\",\"cup\",\"tea\",\"talked\",\"issues\",\"god\",\"teaching\",\"credit\",\"grandparents\",\"again\",\"holidays\",\"breakfast\",\"ready\",\"send\",\"cute\",\"say\",\"care\",\"temple\",\"meditation\",\"boots\",\"16th\",\"throwing\",\"these\",\"main\",\"private\",\"site\",\"use\",\"activated\",\"global\",\"likely\",\"hometown\",\"trash\",\"position\",\"shocked\",\"distinction\",\"legs\",\"floor\",\"feeling\",\"bottom\",\"lacrosse\",\"loves\",\"hang\",\"talk\",\"film\",\"zootopia\",\"beating\",\"level\",\"stuck\",\"elated\",\"far\",\"distance\",\"playoffs\",\"between\",\"favourite\",\"match\",\"quit\",\"visit\",\"awhile\",\"riding\",\"sports\",\"bike\",\"recently\",\"key\",\"lime\",\"cocktail\",\"tastiest\",\"drinks\",\"lake\",\"rode\",\"drinking\",\"homeless\",\"sex\",\"tinder\",\"fly\",\"overseas\",\"ill\",\"gets\",\"lonely\",\"gon\",\"na\",\"now\",\"sick\",\"sometimes\",\"plays\",\"sleeps\",\"sits\",\"computer\",\"sticking\",\"paw\",\"if\",\"type\",\"hole\",\"sunday\",\"aquarium\",\"events\",\"fish\",\"sea\",\"buying\",\"toys\",\"...\",\"hug\",\"leg\",\"texted\",\"text\",\"conversation\",\"appreciation\",\"pregnancy\",\"holiday\",\"package\",\"contest\",\"skinny\",\"jeans\",\"dubai\",\"chocolates\",\"yoga\",\"camp\",\"conducted\",\"organisation\",\"provides\",\"refreshing\",\"session\",\"permanent\",\"ed\",\"given\",\"increment\",\"5000\",\"rupees\",\"saturday\",\"talking\",\"majority\",\"fruits\",\"vegetables\",\"thankful\",\"eating\",\"enchiladas\",\"mainly\",\"conformation\",\"biggest\",\"splurged\",\"premium\",\"grounds\",\"supermarket\",\"added\",\"snapchat\",\"retired\",\"officer\",\"options\",\"chat\",\"plans\",\"kicking\",\"ball\",\"incentive\",\"current\",\"date\",\"guy\",\"book\",\"fair\",\"available\",\"refrigerator\",\"promotion\",\"nowadays\",\"fuzzy\",\"concept\",\"mean\",\"different\",\"part\",\"challenge\",\"science\",\"identify\",\"concepts\",\"applicable\",\"split\",\"components\",\"related\",\"well-being\",\"flourishing\",\"author\",\"defines\",\"contentment\",\"[\",\"]\",\"commentators\",\"focus\",\"difference\",\"hedonistic\",\"tradition\",\"seeking\",\"pleasant\",\"avoiding\",\"unpleasant\",\"experiences\",\"eudaimonic\",\"deeply\",\"satisfying\",\"mission\",\"im\",\"someone\",\"shes\",\"6years.whenever\",\"yes\",\"may\",\"sounds\",\"weird\",\"true\",\"studied\",\"twice\",\"during\",\"therapy\",\"friendly\",\"clinic\",\"slight\",\"breeze\",\"apart\",\"100\",\"scratch\",\"ticket\",\"shed\",\"build\",\"government\",\"..\",\"pleasure\",\"yearly\",\"checkup\",\"fit\",\"pants\",\"previously\",\"tight\",\"hubby\",\"treat\",\"groceries\",\"foods\",\"climate\",\"near\",\"sad\",\"rain\",\"300\",\"scratch-off\",\"lottery\",\"sharing\",\"pleasures\",\"o\",\"same\",\"extreme\",\"lasted\",\"seconds\",\"memory\",\"celebrating\",\"born\",\"4\",\"pranks\",\"reddit\",\"dvr\",\"hospital\",\"bills\",\"property\",\"listen\",\"album\",\"charge\",\"gender\",\"reveal\",\"teach\",\"v\",\"sound\",\"fiancee\",\"building\",\"castle\",\"reading\",\"cares\",\"close\",\"photo\",\"grad\",\"engagement\",\"evaluation\",\"hotel\",\"cinema\",\"'ll\",\"forever\",\"hop\",\"cuddle\",\"romantic\",\"candy\",\"cuddled\",\"trick\",\"kitchen\",\"apparently\",\"rid\",\"flea\",\"suffering\",\"reach\",\"solution\",\"addressed\",\"garden\",\"severe\",\"hair\",\"cut\",\"youngest\",\"sushi\",\"commission\",\"artwork\",\"sale\",\"invigorating\",\"customers\",\"expressing\",\"interest\",\"changed\",\"convenient\",\"offered\",\"prayers\",\"newly\",\"constructed\",\"worship\",\"youtube\",\"abandoned\",\"rescued\",\"streets\",\"taken\",\"placed\",\"loving\",\"owners\",\"steak\",\"hammock\",\"weed\",\"space\",\"museum\",\"news\",\"assignments\",\"singer\",\"post\",\"fridays\",\"monthly\",\"outlet\",\"american\",\"professionals\",\"mix\",\"network\",\"22\",\"23\",\"common\",\"individual\",\"black\",\"become\",\"social\",\"atmosphere\",\"exchanging\",\"useful\",\"information\",\"spread\",\"rapidly\",\"chapters\",\"39\",\"cities\",\"across\",\"north\",\"america\",\"seven\",\"countries\",\"including\",\"austin\",\"boston\",\"charlotte\",\"charleston\",\"chicago\",\"cincinnati\",\"cleveland\",\"detroit\",\"fort\",\"hong\",\"kong\",\"houston\",\"indianapolis\",\"jackson\",\"kansas\",\"los\",\"angeles\",\"london\",\"miami\",\"nashville\",\"orleans\",\"york\",\"orlando\",\"philadelphia\",\"phoenix\",\"pittsburgh\",\"raleigh\",\"rio\",\"de\",\"san\",\"antonio\",\"diego\",\"francisco\",\"st.\",\"louis\",\"south\",\"bend\",\"syracuse\",\"tokyo\",\"toronto\",\"washington\",\"d.c\",\"bench\",\"pressed\",\"225\",\"hit\",\"max\",\"pr\",\"pizza\",\"colleague\",\"tomorrow\",\"topic\",\"suggestions\",\"essay\",\"involving\",\"journals\",\"'d\",\"suggested\",\"responded\",\"sort\",\"remark\",\"knowing\",\"unique\",\"random\",\"struck\",\"gold\",\"showed\",\"knows\",\"amused\",\"even\",\"mental\",\"defined\",\"emotions\",\"ranging\",\"intense\",\"1\",\"states\",\"reflect\",\"judgements\",\"overall\",\"variety\",\"biological\",\"psychological\",\"economic\",\"religious\",\"philosophical\",\"approaches\",\"striven\",\"define\",\"sources\",\"various\",\"economics\",\"employing\",\"scientific\",\"method\",\"might\",\"attained\",\"stepping\",\"pounds\",\"errands\",\"diligently\",\"studying\",\"act\",\"resident\",\"champion\",\"wrestling\",\"easter\",\"wished\",\"though\",\"reminded\",\"tennis\",\"using\",\"disability\",\"trailer\",\"aka\",\"mobile\",\"regardless\",\"happens\",\"security\",\"leave\",\"cook\",\"dinners\",\"occasionally\",\"girls\",\"seemed\",\"weddings\",\"occasion\",\"classmates\",\"dating\",\"website\",\"attractive\",\"represented\",\"clothes\",\"thinking\",\"1.\",\"thrilled\",\"till\",\"fell\",\"amazing\",\"greatly\",\"improving\",\"fishing\",\"cousin\",\"promoted\",\"senior\",\"management\",\"coworkers\",\"budget\",\"ended\",\"investment\",\"involved\",\"purchasing\",\"account\",\"everything\",\"ok\",\"booked\",\"flight\",\"keep\",\"relatives\",\"celebration\",\"otherwise\",\"busy\",\"pork\",\"guacamole\",\"bowl\",\"total\",\"stone\",\"sisters\",\"plan\",\"didnt\",\"honor\",\"tax\",\"winning\",\"prize\",\"dumb\",\"crane\",\"head\",\"mechanical\",\"department\",\"200\",\"meter\",\"fastest\",\"airplane\",\"frequently\",\"thrill\",\"landing\",\"soon\",\"list\",\"war\",\"ex-girlfriend\",\"allowing\",\"disney\",\"land\",\"toilet\",\"lock\",\"train\",\"kid\",\"cured\",\"health\",\"weighed\",\"self\",\"5\",\"3\",\"concert\",\"partner\",\"spouse\",\"french\",\"sunset\",\"mountain\",\"volunteered\",\"olympics\",\"helping\",\"others\",\"comfort\",\"safety\",\"heroes\",\"drafted\",\"closely\",\"traveled\",\"texas\",\"bachelor\",\"siblings\",\"table\",\"deadlift\",\"caught\",\"amazon\",\"1st\",\"associate\",\"diner\",\"waffles\",\"fried\",\"chicken\",\"bacon\",\"maple\",\"syrup\",\"forward\",\"sense\",\"accomplishment\",\"escape\",\"concerns\",\"golf\",\"individually\",\"m\",\"story\",\"barley\",\"end\",\"tap\",\"collect\",\"reality\",\"joined\",\"dota\",\"giftcard\",\"valve\",\"bored\",\"learnt\",\"status\",\"lots\",\"flowers\",\"whim\",\"plane\",\"join\",\"upcoming\",\"walked\",\"door\",\"sentences\",\"memorial\",\"service\",\"hearing\",\"aunt\",\"greatest\",\"babbling\",\"listening\",\"noticed\",\"speak\",\"offsite\",\"stimulating\",\"discussions\",\"summer\",\"hill\",\"station\",\"figuring\",\"twenty\",\"bucks\",\"believe\",\"owner\",\"delivery\",\"messed\",\"donut\",\"snack\",\"hurts\",\"dawn\",\"sunrise\",\"reason\",\"point\",\"anyone\",\"especially\",\"earlier\",\"anticipated\",\"incredibly\",\"raining\",\"smelled\",\"dirt\",\"smell\",\"unexpectedly\",\"batch\",\"brownies\",\"freezer\",\"empty\",\"goat\",\"ass\",\"graduation\",\"announcements\",\"relief\",\"secluded\",\"wondering\",\"began\",\"coding\",\"struggling\",\"database\",\"saturdays\",\"crossword\",\"surprised\",\"thai\",\"items\",\"clean\",\"fix\",\"completing\",\"updates\",\"call\",\"excellent\",\"insurance\",\"rate\",\"vividly\",\"regarding\",\"success\",\"board\",\"awarded\",\"scholarship\",\"indeed\",\"achieving\",\"quite\",\"chennai\",\"lover\",\"kiss\",\"fav\",\"fairly\",\"tickets\",\"wildflowers\",\"ice-cream\",\"bad\",\"neighbor\",\"forced\",\"pineapple\",\"99\",\"cents\",\"3rd\",\"photoshoot\",\"afterwards\",\"quiet\",\"chinese\",\"tour\",\"try\",\"shape\",\"cooking\",\"rice\",\"pudding\",\"incredible\",\"label\",\"flavor\",\"client\",\"satisfied\",\"mentioned\",\"pro\",\"known\",\"until\",\"ex\",\"picky\",\"spending\",\"stuff\",\"calls\",\"decision\",\"live\",\"following\",\"dave\",\"debt\",\"next\",\"mortgage\",\"progress\",\"taught\",\"swim\",\"speech\",\"exceptionally\",\"wanting\",\"stupid\",\"paying\",\"monday\",\"fired\",\"unemployment\",\"overcame\",\"major\",\"relationship\",\"dissertation\",\"george\",\"pen\",\"costly\",\"wallet\",\"turns\",\"acquired\",\"large\",\"efforts\",\"nail\",\"recipe\",\"failed\",\"correctly\",\"songs\",\"iron\",\"pleased\",\"choosing\",\"sat\",\"labrador\",\"breeder\",\"puppies\",\"picking\",\"buffet\",\"--\",\"lyrics\",\"albums\",\"15\",\"checkout\",\"loyalty\",\"personality\",\"refund\",\"doctor\",\"whom\",\"arguing\",\"marry\",\"june\",\"culture\",\"groom\",\"presents\",\"bride\",\"rules\",\"should\",\"giving\",\"nervous\",\"screw\",\"manage\",\"handle\",\"preparation\",\"stage\",\"improvement\",\"purpose\",\"balcony\",\"suddenly\",\"chasing\",\"each\",\"worried\",\"signs\",\"singles\",\"player\",\"ton\",\"peaceful\",\"co-worker\",\"feelings\",\"kissed\",\"cash\",\"anywhere\",\"law\",\"custard\",\"slept\",\"alarm\",\"staring\",\"future\",\"cheered\",\"attend\",\"beef\",\"surgery\",\"internet\",\"single\",\"lyric\",\"chord\",\"jail\",\"bringing\",\"rescue\",\"adopt\",\"survey\",\"happy..and\",\"forgot\",\"theatre\",\"entire\",\"plate\",\"trampoline\",\"pho\",\"thesis\",\"lab\",\"mentor\",\"brushed\",\"famous\",\"trumpet\",\"loss\",\"milestone\",\"pile\",\"paperwork\",\"desk\",\"oldest\",\"period\",\"betta\",\"burrito\",\"stranger\",\"line\",\"transaction\",\"lifting\",\"starting\",\"lean\",\"six\",\"pack\",\"cloths\",\"basketball\",\"root\",\"plastic\",\"model\",\"looks\",\"staying\",\"commute\",\"serious\",\"accidents\",\"roads\",\"means\",\"35\",\"learning\",\"brings\",\"excitement\",\"breaks\",\"memories\",\"cherish\",\"celebrations\",\"younger\",\"cousins\",\"sheer\",\"waste\",\"wake\",\"everybody\",\"possible\",\"minute\",\"precious\",\"preparing\",\"snacks\",\"journey\",\"putting\",\"thrilling\",\"'\",\"travelled\",\"drive\",\"filled\",\"ourselves\",\"mum\",\"fruit\",\"travelling\",\"cracked\",\"front\",\"waited\",\"arrange\",\"entry\",\"hurdle\",\"booking\",\"crossed\",\"inside\",\"managed\",\"spot\",\"settled\",\"interesting\",\"rides\",\"counter\",\"ride\",\"named\",\"cars\",\"striking\",\"wheel\",\"scary\",\"'the\",\"roller\",\"coaster\",\"mouth\",\"sliding\",\"height\",\"screaming\"]},\"selected\":{\"id\":\"1161\",\"type\":\"Selection\"},\"selection_policy\":{\"id\":\"1162\",\"type\":\"UnionRenderers\"}},\"id\":\"1149\",\"type\":\"ColumnDataSource\"},{\"attributes\":{},\"id\":\"1158\",\"type\":\"BasicTickFormatter\"}],\"root_ids\":[\"1115\"]},\"title\":\"Bokeh Application\",\"version\":\"1.0.3\"}};\n",
       "  var render_items = [{\"docid\":\"338a92ec-1842-4b0b-8aca-42e148ddbee7\",\"roots\":{\"1115\":\"3f940872-f688-4104-aec5-938ada466f06\"}}];\n",
       "  root.Bokeh.embed.embed_items_notebook(docs_json, render_items);\n",
       "\n",
       "  }\n",
       "  if (root.Bokeh !== undefined) {\n",
       "    embed_document(root);\n",
       "  } else {\n",
       "    var attempts = 0;\n",
       "    var timer = setInterval(function(root) {\n",
       "      if (root.Bokeh !== undefined) {\n",
       "        embed_document(root);\n",
       "        clearInterval(timer);\n",
       "      }\n",
       "      attempts++;\n",
       "      if (attempts > 100) {\n",
       "        console.log(\"Bokeh: ERROR: Unable to run BokehJS code because BokehJS library is missing\");\n",
       "        clearInterval(timer);\n",
       "      }\n",
       "    }, 10, root)\n",
       "  }\n",
       "})(window);"
      ],
      "application/vnd.bokehjs_exec.v0+json": ""
     },
     "metadata": {
      "application/vnd.bokehjs_exec.v0+json": {
       "id": "1115"
      }
     },
     "output_type": "display_data"
    }
   ],
   "source": [
    "output_notebook()\n",
    "b_figure = bp.figure(plot_width=700, plot_height=600,\n",
    "                     tools='pan, wheel_zoom, box_zoom, reset, hover, previewsave')\n",
    "b_figure.scatter(x='dim_1', y='dim_2', source=reduced_df)\n",
    "hovertool = b_figure.select(dict(type=HoverTool))\n",
    "hovertool.tooltips={'word': '@words'}\n",
    "show(b_figure)"
   ]
  },
  {
   "cell_type": "markdown",
   "metadata": {},
   "source": [
    "t-SNE usually does a better job showing more separated clusters, while PCA just bunched everything up in the middle in this example. However, performance is dataset dependent and it never hurts to try both."
   ]
  },
  {
   "cell_type": "markdown",
   "metadata": {},
   "source": [
    "## Dense networks\n",
    "---\n",
    "For our first model, we'll try a very common approach to binary sentiment classification, for which we first need to calculate the `Tf-Idf` score of each word in our corpus. Tf-idf stands for 'Term frequency - inverse document frequency'. If you haven't heard of it, all it does is assign a weight to each word based on the frequency of its appearance in a corpus. Words that appear often, like 'the', 'when' and 'very' will have a low score and the rarer ones, like 'tremendous', 'undergraduate' and 'publication', which might actually help us classify a sentence, will have a higher score. This is a simple heuristic in order to better understand our data. It is corpus specific and we can train one for the embedding vectors we generated. The `TfidfVectorizer` class from `sklearn` makes quick work of it and we can fit one to our vectors as follows."
   ]
  },
  {
   "cell_type": "code",
   "execution_count": 27,
   "metadata": {},
   "outputs": [],
   "source": [
    "gen_tfidf = TfidfVectorizer(analyzer=lambda x: x, min_df=3)\n",
    "matrix = gen_tfidf.fit_transform([sentence.words for sentence in vector_train_corpus])\n",
    "tfidf_map = dict(zip(gen_tfidf.get_feature_names(), gen_tfidf.idf_))"
   ]
  },
  {
   "cell_type": "code",
   "execution_count": 28,
   "metadata": {},
   "outputs": [
    {
     "data": {
      "text/plain": [
       "8403"
      ]
     },
     "execution_count": 28,
     "metadata": {},
     "output_type": "execute_result"
    }
   ],
   "source": [
    "len(tfidf_map)"
   ]
  },
  {
   "cell_type": "markdown",
   "metadata": {},
   "source": [
    "The `min_df` parameter is a threshold for the minimum frequency. In this case, we do not want to track the `tf-idf` score of a word that appears less than thrice in our corpus.\n",
    "<br>\n",
    "<br>\n",
    "Now, for every `response` object, we will create a vector of size 200 (the same dimension as our embedding vector). This is our sentence-level embedding.\n",
    "We will take the average of the embedding vectors of each token in each response and weight it by the `tf-idf` score of each word. The embedding for the sentence \"I went out for dinner\" can be calculated as follows.\n",
    "\n",
    "![title](images/encoding2.jpg)\n",
    "\n",
    "The `encode_sentence` function adds up the vector of each token in a sentence, weighted by the tf-idf score and generates a vector of length 200 for each response."
   ]
  },
  {
   "cell_type": "code",
   "execution_count": 29,
   "metadata": {},
   "outputs": [],
   "source": [
    "def encode_sentence(tokens, emb_size):\n",
    "    _vector = np.zeros((1, emb_size))\n",
    "    length = 0\n",
    "    for word in tokens:\n",
    "        try:\n",
    "            _vector += embeddings.wv[word].reshape((1, emb_size)) * tfidf_map[word]\n",
    "            length += 1\n",
    "        except KeyError:\n",
    "            continue\n",
    "        break\n",
    "    \n",
    "    if length > 0:\n",
    "        _vector /= length\n",
    "        \n",
    "    return _vector"
   ]
  },
  {
   "cell_type": "code",
   "execution_count": 30,
   "metadata": {},
   "outputs": [],
   "source": [
    "x_train = scale(np.concatenate([encode_sentence(ele, 200) for ele in map(lambda x: x.words, vector_train_corpus)]))\n",
    "x_val = scale(np.concatenate([encode_sentence(ele, 200) for ele in map(lambda x: x.words, vector_val_corpus)]))"
   ]
  },
  {
   "cell_type": "code",
   "execution_count": 31,
   "metadata": {},
   "outputs": [
    {
     "name": "stdout",
     "output_type": "stream",
     "text": [
      "(46172, 200) (8149, 200)\n"
     ]
    }
   ],
   "source": [
    "print(x_train.shape, x_val.shape)"
   ]
  },
  {
   "cell_type": "markdown",
   "metadata": {},
   "source": [
    "Let's build a simple two layer dense net. This is just to check if we have done everything correctly up to this point.\n",
    "<br>\n",
    "Let's call this our zero'th model. Dense-net on sequential data without transformations is a joke anyway right?"
   ]
  },
  {
   "cell_type": "code",
   "execution_count": 32,
   "metadata": {
    "scrolled": true
   },
   "outputs": [
    {
     "name": "stdout",
     "output_type": "stream",
     "text": [
      "_________________________________________________________________\n",
      "Layer (type)                 Output Shape              Param #   \n",
      "=================================================================\n",
      "dense_1 (Dense)              (None, 32)                6432      \n",
      "_________________________________________________________________\n",
      "dense_2 (Dense)              (None, 7)                 231       \n",
      "=================================================================\n",
      "Total params: 6,663\n",
      "Trainable params: 6,663\n",
      "Non-trainable params: 0\n",
      "_________________________________________________________________\n"
     ]
    }
   ],
   "source": [
    "model = Sequential()\n",
    "model.add(Dense(32, activation='relu', input_dim=200))\n",
    "model.add(Dense(7, activation='softmax'))\n",
    "model.compile(optimizer=Adam(lr=1e-3, decay=1e-6),\n",
    "              loss='categorical_crossentropy',\n",
    "              metrics=['accuracy'])\n",
    "model.summary()"
   ]
  },
  {
   "cell_type": "code",
   "execution_count": 33,
   "metadata": {
    "scrolled": true
   },
   "outputs": [
    {
     "name": "stdout",
     "output_type": "stream",
     "text": [
      "Epoch 1/10\n",
      "46172/46172 [==============================] - 11s 227us/step - loss: 1.4622 - acc: 0.4588\n",
      "Epoch 2/10\n",
      "46172/46172 [==============================] - 7s 147us/step - loss: 1.4200 - acc: 0.4668\n",
      "Epoch 3/10\n",
      "46172/46172 [==============================] - 7s 156us/step - loss: 1.4133 - acc: 0.4703\n",
      "Epoch 4/10\n",
      "46172/46172 [==============================] - 7s 160us/step - loss: 1.4108 - acc: 0.4697\n",
      "Epoch 5/10\n",
      "46172/46172 [==============================] - 7s 150us/step - loss: 1.4083 - acc: 0.4702\n",
      "Epoch 6/10\n",
      "46172/46172 [==============================] - 7s 144us/step - loss: 1.4064 - acc: 0.4709\n",
      "Epoch 7/10\n",
      "46172/46172 [==============================] - 7s 148us/step - loss: 1.4053 - acc: 0.4709\n",
      "Epoch 8/10\n",
      "46172/46172 [==============================] - 7s 147us/step - loss: 1.4040 - acc: 0.4715\n",
      "Epoch 9/10\n",
      "46172/46172 [==============================] - 7s 153us/step - loss: 1.4034 - acc: 0.4722\n",
      "Epoch 10/10\n",
      "46172/46172 [==============================] - 7s 147us/step - loss: 1.4025 - acc: 0.4734\n"
     ]
    },
    {
     "data": {
      "text/plain": [
       "<keras.callbacks.History at 0x2328338b080>"
      ]
     },
     "execution_count": 33,
     "metadata": {},
     "output_type": "execute_result"
    }
   ],
   "source": [
    "model.fit(x_train, y_train, epochs=10, verbose=1)"
   ]
  },
  {
   "cell_type": "code",
   "execution_count": 34,
   "metadata": {},
   "outputs": [
    {
     "name": "stdout",
     "output_type": "stream",
     "text": [
      "8149/8149 [==============================] - 0s 54us/step\n"
     ]
    },
    {
     "data": {
      "text/plain": [
       "[1.416706955510424, 0.4626334520158102]"
      ]
     },
     "execution_count": 34,
     "metadata": {},
     "output_type": "execute_result"
    }
   ],
   "source": [
    "score = model.evaluate(x_val, y_val, verbose=1)\n",
    "score"
   ]
  },
  {
   "cell_type": "markdown",
   "metadata": {},
   "source": [
    "We get a loss of 1.41 and a validation accuracy of 0.46. This exact same model manages to get a validation score of about 0.8 on binary sentiment analysis, but given the difference in complexity, hopefully you weren't expecting much.\n",
    "<br>\n",
    "<br>\n",
    "Throwing in another dense layer doesn't help either."
   ]
  },
  {
   "cell_type": "code",
   "execution_count": 35,
   "metadata": {},
   "outputs": [
    {
     "name": "stdout",
     "output_type": "stream",
     "text": [
      "_________________________________________________________________\n",
      "Layer (type)                 Output Shape              Param #   \n",
      "=================================================================\n",
      "dense_3 (Dense)              (None, 256)               51456     \n",
      "_________________________________________________________________\n",
      "dense_4 (Dense)              (None, 64)                16448     \n",
      "_________________________________________________________________\n",
      "dense_5 (Dense)              (None, 7)                 455       \n",
      "=================================================================\n",
      "Total params: 68,359\n",
      "Trainable params: 68,359\n",
      "Non-trainable params: 0\n",
      "_________________________________________________________________\n"
     ]
    }
   ],
   "source": [
    "model = Sequential()\n",
    "model.add(Dense(256, activation='relu', input_dim=200))\n",
    "model.add(Dense(64, activation='relu'))\n",
    "model.add(Dense(7, activation='softmax'))\n",
    "model.compile(optimizer=Adam(lr=1e-3),\n",
    "              loss='categorical_crossentropy',\n",
    "              metrics=['accuracy'])\n",
    "model.summary()"
   ]
  },
  {
   "cell_type": "code",
   "execution_count": 36,
   "metadata": {
    "scrolled": true
   },
   "outputs": [
    {
     "name": "stdout",
     "output_type": "stream",
     "text": [
      "Epoch 1/10\n",
      "46172/46172 [==============================] - 9s 186us/step - loss: 1.4439 - acc: 0.4631\n",
      "Epoch 2/10\n",
      "46172/46172 [==============================] - 8s 170us/step - loss: 1.4160 - acc: 0.4689\n",
      "Epoch 3/10\n",
      "46172/46172 [==============================] - 7s 162us/step - loss: 1.4100 - acc: 0.4718\n",
      "Epoch 4/10\n",
      "46172/46172 [==============================] - 7s 160us/step - loss: 1.4069 - acc: 0.4715\n",
      "Epoch 5/10\n",
      "46172/46172 [==============================] - 7s 160us/step - loss: 1.4056 - acc: 0.4708\n",
      "Epoch 6/10\n",
      "46172/46172 [==============================] - 7s 161us/step - loss: 1.4032 - acc: 0.4737\n",
      "Epoch 7/10\n",
      "46172/46172 [==============================] - 8s 164us/step - loss: 1.4007 - acc: 0.4736\n",
      "Epoch 8/10\n",
      "46172/46172 [==============================] - 7s 159us/step - loss: 1.3989 - acc: 0.4726\n",
      "Epoch 9/10\n",
      "46172/46172 [==============================] - 8s 165us/step - loss: 1.3976 - acc: 0.4752\n",
      "Epoch 10/10\n",
      "46172/46172 [==============================] - 7s 160us/step - loss: 1.3966 - acc: 0.4747\n"
     ]
    },
    {
     "data": {
      "text/plain": [
       "<keras.callbacks.History at 0x232836535c0>"
      ]
     },
     "execution_count": 36,
     "metadata": {},
     "output_type": "execute_result"
    }
   ],
   "source": [
    "model.fit(x_train, y_train, epochs=10, verbose=1)"
   ]
  },
  {
   "cell_type": "code",
   "execution_count": 37,
   "metadata": {},
   "outputs": [
    {
     "name": "stdout",
     "output_type": "stream",
     "text": [
      "8149/8149 [==============================] - 1s 61us/step\n"
     ]
    },
    {
     "data": {
      "text/plain": [
       "[1.4088160779845103, 0.4665603141855471]"
      ]
     },
     "execution_count": 37,
     "metadata": {},
     "output_type": "execute_result"
    }
   ],
   "source": [
    "score = model.evaluate(x_val, y_val, verbose=1)\n",
    "score"
   ]
  },
  {
   "cell_type": "markdown",
   "metadata": {},
   "source": [
    "Unsurprisingly, the results are still pretty bad, as dense layers can not capture temporal correlations. \n",
    "<br>\n",
    "## Recurrent networks\n",
    "---\n",
    "A recurrent network using LSTM or GRU cells will surely solve the problem, but upon reading the documentation of `keras.layers.LSTM` you'll realize it expects an input batch shape of `(batch_size, timesteps, data_dim)`. Obviously it would want some data along the dimension of time as well, but our encoded vectors have a shape of `(batch_size, data_dim)`.\n",
    "<br>\n",
    "For our case, `timesteps` refers to the tokens. Instead of averaging out the vectors of each response, we want to keep them as they are.\n",
    "To fit our RNN, we can create a new way of encoding our tokens. We will ignore the tf-idf scores altogether and expect the LSTM to find out whatever useful features it needs for itself over the epochs.\n",
    "<br>\n",
    "<br>\n",
    "There is just _one_ more problem. LSTMs expect same sized inputs for each sample, i.e it wants all the sentences to have exactly the same number of words, which we will call the _sequence length_.\n",
    "<br>\n",
    "To see what we're working with, here's a scatter-plot of the distribution of token lengths in our training set."
   ]
  },
  {
   "cell_type": "code",
   "execution_count": 38,
   "metadata": {
    "scrolled": true
   },
   "outputs": [
    {
     "data": {
      "image/png": "[encoded data removed]",
      "text/plain": [
       "<Figure size 432x288 with 1 Axes>"
      ]
     },
     "metadata": {
      "needs_background": "light"
     },
     "output_type": "display_data"
    }
   ],
   "source": [
    "lengths = [len(token) for token in df_train.tokens]\n",
    "    \n",
    "plt.scatter(lengths, range(len(lengths)), alpha=0.2);"
   ]
  },
  {
   "cell_type": "code",
   "execution_count": 39,
   "metadata": {},
   "outputs": [
    {
     "name": "stdout",
     "output_type": "stream",
     "text": [
      "20.543121372260245 1349\n"
     ]
    }
   ],
   "source": [
    "print(np.mean(lengths), np.max(lengths))"
   ]
  },
  {
   "cell_type": "markdown",
   "metadata": {},
   "source": [
    "The longest response was found out to be 1349 words long but the mean length was about 21 words.\n",
    "You can do broadly two things here, set the sequence length equal to the number of words in the longest response you have found, but you don't know how long the longest response in the test set might be and you might have to truncate anyway, or keep your sequence length close to the mean but just enough to not lose much data. We'll see better ways of handling long responses later. Once we decide our sequence length, longer responses will be truncated and shorter responses will be padded with a vector of zeros (or a vector of the means along the transverse axis, but zeros work just fine).\n",
    "<br>\n",
    "For now, I'll use a sequence length of 80. No specific reason."
   ]
  },
  {
   "cell_type": "code",
   "execution_count": 41,
   "metadata": {},
   "outputs": [],
   "source": [
    "def encode_sentence_lstm(tokens, emb_size):\n",
    "    vec = np.zeros((80, 200))\n",
    "    for i, word in enumerate(tokens):\n",
    "        if i > 79:\n",
    "            break\n",
    "        try:\n",
    "            vec[i] = embeddings.wv[word].reshape((1, emb_size))\n",
    "        except KeyError:\n",
    "            continue\n",
    "    return vec"
   ]
  },
  {
   "cell_type": "code",
   "execution_count": 42,
   "metadata": {},
   "outputs": [
    {
     "data": {
      "text/plain": [
       "(46172, 80, 200)"
      ]
     },
     "execution_count": 42,
     "metadata": {},
     "output_type": "execute_result"
    }
   ],
   "source": [
    "x_train = np.array([encode_sentence_lstm(ele, 200) for ele in map(lambda x: x.words, vector_train_corpus)])\n",
    "x_train.shape"
   ]
  },
  {
   "cell_type": "code",
   "execution_count": 43,
   "metadata": {},
   "outputs": [
    {
     "data": {
      "text/plain": [
       "(8149, 80, 200)"
      ]
     },
     "execution_count": 43,
     "metadata": {},
     "output_type": "execute_result"
    }
   ],
   "source": [
    "x_val = np.array([encode_sentence_lstm(ele, 200) for ele in map(lambda x: x.words, vector_val_corpus)])\n",
    "x_val.shape"
   ]
  },
  {
   "cell_type": "markdown",
   "metadata": {},
   "source": [
    "We're done here.\n",
    "<br>\n",
    "Finally we can build our first recurrent neural network. I'll use the `CuDNNLSTM` class, which is astronomically faster than the `LSTM` class if you're on a GPU.\n",
    "`LSTM` is so much slower that I don't have the patience to benchmark it for you.\n",
    "<br>\n",
    "Additionally, let's use the functional API of keras instead of the `.add` syntax for a change. It is a lot more flexible."
   ]
  },
  {
   "cell_type": "markdown",
   "metadata": {},
   "source": [
    "This is our __actual__ baseline model."
   ]
  },
  {
   "cell_type": "code",
   "execution_count": 44,
   "metadata": {},
   "outputs": [],
   "source": [
    "input_tensor = Input(shape=(80, 200))\n",
    "x = CuDNNLSTM(256, return_sequences=False)(input_tensor)\n",
    "x = Dense(64, activation='relu')(x)\n",
    "output_tensor = Dense(7, activation='softmax')(x)\n",
    "model = Model(inputs=[input_tensor], outputs=[output_tensor])"
   ]
  },
  {
   "cell_type": "code",
   "execution_count": 45,
   "metadata": {
    "scrolled": true
   },
   "outputs": [
    {
     "name": "stdout",
     "output_type": "stream",
     "text": [
      "_________________________________________________________________\n",
      "Layer (type)                 Output Shape              Param #   \n",
      "=================================================================\n",
      "input_1 (InputLayer)         (None, 80, 200)           0         \n",
      "_________________________________________________________________\n",
      "cu_dnnlstm_1 (CuDNNLSTM)     (None, 256)               468992    \n",
      "_________________________________________________________________\n",
      "dense_6 (Dense)              (None, 64)                16448     \n",
      "_________________________________________________________________\n",
      "dense_7 (Dense)              (None, 7)                 455       \n",
      "=================================================================\n",
      "Total params: 485,895\n",
      "Trainable params: 485,895\n",
      "Non-trainable params: 0\n",
      "_________________________________________________________________\n"
     ]
    }
   ],
   "source": [
    "model.compile(optimizer=Adam(lr=1e-3),\n",
    "              loss='categorical_crossentropy',\n",
    "              metrics=['accuracy'])\n",
    "model.summary()"
   ]
  },
  {
   "cell_type": "code",
   "execution_count": 46,
   "metadata": {
    "scrolled": true
   },
   "outputs": [
    {
     "name": "stdout",
     "output_type": "stream",
     "text": [
      "Epoch 1/10\n",
      "46172/46172 [==============================] - 26s 569us/step - loss: 1.2906 - acc: 0.4826\n",
      "Epoch 2/10\n",
      "46172/46172 [==============================] - 22s 473us/step - loss: 0.5472 - acc: 0.8190\n",
      "Epoch 3/10\n",
      "46172/46172 [==============================] - 22s 479us/step - loss: 0.4366 - acc: 0.8509\n",
      "Epoch 4/10\n",
      "46172/46172 [==============================] - 22s 475us/step - loss: 0.3636 - acc: 0.8730\n",
      "Epoch 5/10\n",
      "46172/46172 [==============================] - 22s 483us/step - loss: 0.3125 - acc: 0.8912\n",
      "Epoch 6/10\n",
      "46172/46172 [==============================] - 22s 486us/step - loss: 0.2601 - acc: 0.9081\n",
      "Epoch 7/10\n",
      "46172/46172 [==============================] - 22s 477us/step - loss: 0.2140 - acc: 0.9248\n",
      "Epoch 8/10\n",
      "46172/46172 [==============================] - 22s 471us/step - loss: 0.1681 - acc: 0.9424\n",
      "Epoch 9/10\n",
      "46172/46172 [==============================] - 22s 470us/step - loss: 0.1320 - acc: 0.9553\n",
      "Epoch 10/10\n",
      "46172/46172 [==============================] - 22s 469us/step - loss: 0.1029 - acc: 0.9658\n"
     ]
    },
    {
     "data": {
      "text/plain": [
       "<keras.callbacks.History at 0x232835f80b8>"
      ]
     },
     "execution_count": 46,
     "metadata": {},
     "output_type": "execute_result"
    }
   ],
   "source": [
    "model.fit(x_train, y_train, epochs=10, verbose=1)"
   ]
  },
  {
   "cell_type": "code",
   "execution_count": 47,
   "metadata": {},
   "outputs": [
    {
     "name": "stdout",
     "output_type": "stream",
     "text": [
      "8149/8149 [==============================] - 2s 261us/step\n"
     ]
    },
    {
     "data": {
      "text/plain": [
       "[0.571527066326153, 0.8551969567037445]"
      ]
     },
     "execution_count": 47,
     "metadata": {},
     "output_type": "execute_result"
    }
   ],
   "source": [
    "score = model.evaluate(x_val, y_val, verbose=1)\n",
    "score"
   ]
  },
  {
   "cell_type": "markdown",
   "metadata": {},
   "source": [
    "The loss now is 0.57 and the validation accuracy is 0.855, which is a great improvement, just as we expected.\n",
    "<br>\n",
    "<br>\n",
    "### keras.layers.Bidirectional\n",
    "In the current state, our model can just remember the past. It might benefit from a bit of context, maybe read a full phrase before sending an output to the next layer.\n",
    "<br>\n",
    "For example, \"It was hilarious to see\" and \"It was hilarious to see how bad it was\" mean very different things.\n",
    "<br>\n",
    "A bidirectional recurrent neural network (BRNN) overcomes this difficulty by propagating once in the forward direction and once in the backward direction and weighting them appropriately.\n",
    "I don't expect the score to increase much, as sentiment analysis doesn't really need this structure. Machine translation or handwriting recognition can make better use of bidirectional layers, but it never hurts to try. In keras, you can just call `Bidirectional` with your existing layer.\n",
    "<br>\n",
    "However, Bidirectional LSTMs tend to overfit a bit, so I'll validate after each epoch, just to measure how much impact a bidirectional layer can potentially have. It's a bit unfair to the previous models, but there won't be much improvement anyway."
   ]
  },
  {
   "cell_type": "code",
   "execution_count": 48,
   "metadata": {},
   "outputs": [],
   "source": [
    "input_tensor = Input(shape=(80, 200))\n",
    "x = Bidirectional(CuDNNLSTM(256, return_sequences=False))(input_tensor)\n",
    "x = Dense(64, activation='relu')(x)\n",
    "output_tensor = Dense(7, activation='softmax')(x)\n",
    "model = Model(inputs=[input_tensor], outputs=[output_tensor])"
   ]
  },
  {
   "cell_type": "code",
   "execution_count": 49,
   "metadata": {},
   "outputs": [
    {
     "name": "stdout",
     "output_type": "stream",
     "text": [
      "_________________________________________________________________\n",
      "Layer (type)                 Output Shape              Param #   \n",
      "=================================================================\n",
      "input_2 (InputLayer)         (None, 80, 200)           0         \n",
      "_________________________________________________________________\n",
      "bidirectional_1 (Bidirection (None, 512)               937984    \n",
      "_________________________________________________________________\n",
      "dense_8 (Dense)              (None, 64)                32832     \n",
      "_________________________________________________________________\n",
      "dense_9 (Dense)              (None, 7)                 455       \n",
      "=================================================================\n",
      "Total params: 971,271\n",
      "Trainable params: 971,271\n",
      "Non-trainable params: 0\n",
      "_________________________________________________________________\n"
     ]
    }
   ],
   "source": [
    "model.compile(optimizer=Adam(lr=1e-3),\n",
    "              loss='categorical_crossentropy',\n",
    "              metrics=['accuracy'])\n",
    "model.summary()"
   ]
  },
  {
   "cell_type": "code",
   "execution_count": 50,
   "metadata": {
    "scrolled": true
   },
   "outputs": [
    {
     "name": "stdout",
     "output_type": "stream",
     "text": [
      "Train on 46172 samples, validate on 8149 samples\n",
      "Epoch 1/10\n",
      "46172/46172 [==============================] - 32s 683us/step - loss: 0.5449 - acc: 0.8107 - val_loss: 0.4574 - val_acc: 0.8346\n",
      "Epoch 2/10\n",
      "46172/46172 [==============================] - 31s 667us/step - loss: 0.3964 - acc: 0.8574 - val_loss: 0.4080 - val_acc: 0.8537\n",
      "Epoch 3/10\n",
      "46172/46172 [==============================] - 31s 669us/step - loss: 0.3319 - acc: 0.8791 - val_loss: 0.4106 - val_acc: 0.8515\n",
      "Epoch 4/10\n",
      "46172/46172 [==============================] - 31s 668us/step - loss: 0.2779 - acc: 0.8982 - val_loss: 0.4111 - val_acc: 0.8604\n",
      "Epoch 5/10\n",
      "46172/46172 [==============================] - 31s 672us/step - loss: 0.2406 - acc: 0.9100 - val_loss: 0.4262 - val_acc: 0.8640\n",
      "Epoch 6/10\n",
      "46172/46172 [==============================] - 33s 704us/step - loss: 0.1720 - acc: 0.9350 - val_loss: 0.4547 - val_acc: 0.8569\n",
      "Epoch 7/10\n",
      "46172/46172 [==============================] - 31s 682us/step - loss: 0.1349 - acc: 0.9505 - val_loss: 0.5029 - val_acc: 0.8604\n",
      "Epoch 8/10\n",
      "46172/46172 [==============================] - 31s 670us/step - loss: 0.1018 - acc: 0.9624 - val_loss: 0.5760 - val_acc: 0.8562\n",
      "Epoch 9/10\n",
      "46172/46172 [==============================] - 31s 669us/step - loss: 0.0800 - acc: 0.9713 - val_loss: 0.6163 - val_acc: 0.8578\n",
      "Epoch 10/10\n",
      "46172/46172 [==============================] - 31s 668us/step - loss: 0.0654 - acc: 0.9763 - val_loss: 0.6862 - val_acc: 0.8573\n"
     ]
    },
    {
     "data": {
      "text/plain": [
       "<keras.callbacks.History at 0x23291a057f0>"
      ]
     },
     "execution_count": 50,
     "metadata": {},
     "output_type": "execute_result"
    }
   ],
   "source": [
    "model.fit(x_train, y_train, validation_data=(x_val, y_val), epochs=10, verbose=1)"
   ]
  },
  {
   "cell_type": "markdown",
   "metadata": {},
   "source": [
    "The best validation accuracy was 0.8640 at the end of epoch 5, a 1% improvement. It's not much, but we'll take it."
   ]
  },
  {
   "cell_type": "markdown",
   "metadata": {},
   "source": [
    "### keras.layers.Embedding\n",
    "---\n",
    "There is a slightly less stupid way of doing this. We can just add a keras `Embedding` layer and skip dealing with gensim altogether. All the document-tagging, vector-building and training will be taken care of by keras. \n",
    "We can skip tokenization as well, as the `Tokenizer` class in keras tokenizes everything in the way `Embedding` likes. You can rerun this notebook upto the preprocessing section, so that your dataframe looks like this"
   ]
  },
  {
   "cell_type": "code",
   "execution_count": 11,
   "metadata": {},
   "outputs": [
    {
     "data": {
      "text/html": [
       "<div>\n",
       "<style scoped>\n",
       "    .dataframe tbody tr th:only-of-type {\n",
       "        vertical-align: middle;\n",
       "    }\n",
       "\n",
       "    .dataframe tbody tr th {\n",
       "        vertical-align: top;\n",
       "    }\n",
       "\n",
       "    .dataframe thead th {\n",
       "        text-align: right;\n",
       "    }\n",
       "</style>\n",
       "<table border=\"1\" class=\"dataframe\">\n",
       "  <thead>\n",
       "    <tr style=\"text-align: right;\">\n",
       "      <th></th>\n",
       "      <th>id</th>\n",
       "      <th>period</th>\n",
       "      <th>response</th>\n",
       "    </tr>\n",
       "  </thead>\n",
       "  <tbody>\n",
       "    <tr>\n",
       "      <th>0</th>\n",
       "      <td>69658</td>\n",
       "      <td>3m</td>\n",
       "      <td>getting praised for how i do my job from my boss</td>\n",
       "    </tr>\n",
       "    <tr>\n",
       "      <th>1</th>\n",
       "      <td>42174</td>\n",
       "      <td>24h</td>\n",
       "      <td>i put freshly laundered sheets on my bed, took...</td>\n",
       "    </tr>\n",
       "    <tr>\n",
       "      <th>2</th>\n",
       "      <td>29234</td>\n",
       "      <td>24h</td>\n",
       "      <td>having sex with my wife</td>\n",
       "    </tr>\n",
       "    <tr>\n",
       "      <th>3</th>\n",
       "      <td>62384</td>\n",
       "      <td>3m</td>\n",
       "      <td>i hate to admit it, but of the things that mad...</td>\n",
       "    </tr>\n",
       "    <tr>\n",
       "      <th>4</th>\n",
       "      <td>33806</td>\n",
       "      <td>24h</td>\n",
       "      <td>i saw my partner smile at our brain injury sup...</td>\n",
       "    </tr>\n",
       "  </tbody>\n",
       "</table>\n",
       "</div>"
      ],
      "text/plain": [
       "      id period                                           response\n",
       "0  69658     3m   getting praised for how i do my job from my boss\n",
       "1  42174    24h  i put freshly laundered sheets on my bed, took...\n",
       "2  29234    24h                           having sex with my wife \n",
       "3  62384     3m  i hate to admit it, but of the things that mad...\n",
       "4  33806    24h  i saw my partner smile at our brain injury sup..."
      ]
     },
     "execution_count": 11,
     "metadata": {},
     "output_type": "execute_result"
    }
   ],
   "source": [
    "df.head()"
   ]
  },
  {
   "cell_type": "markdown",
   "metadata": {},
   "source": [
    "Shuffle the data"
   ]
  },
  {
   "cell_type": "code",
   "execution_count": 12,
   "metadata": {},
   "outputs": [],
   "source": [
    "df_train, df_val, y_train, y_val = train_test_split(df, y, test_size=0.15, random_state=42)"
   ]
  },
  {
   "cell_type": "code",
   "execution_count": 13,
   "metadata": {},
   "outputs": [],
   "source": [
    "t = Tokenizer()\n",
    "t.fit_on_texts(df_train.response)\n",
    "vocab_size = len(t.word_index) + 1"
   ]
  },
  {
   "cell_type": "code",
   "execution_count": 14,
   "metadata": {},
   "outputs": [
    {
     "data": {
      "text/plain": [
       "19142"
      ]
     },
     "execution_count": 14,
     "metadata": {},
     "output_type": "execute_result"
    }
   ],
   "source": [
    "vocab_size"
   ]
  },
  {
   "cell_type": "code",
   "execution_count": 15,
   "metadata": {},
   "outputs": [
    {
     "data": {
      "text/plain": [
       "46172"
      ]
     },
     "execution_count": 15,
     "metadata": {},
     "output_type": "execute_result"
    }
   ],
   "source": [
    "encoded_train_set = t.texts_to_sequences(df_train.response)\n",
    "len(encoded_train_set)"
   ]
  },
  {
   "cell_type": "code",
   "execution_count": 16,
   "metadata": {},
   "outputs": [
    {
     "data": {
      "text/html": [
       "<div>\n",
       "<style scoped>\n",
       "    .dataframe tbody tr th:only-of-type {\n",
       "        vertical-align: middle;\n",
       "    }\n",
       "\n",
       "    .dataframe tbody tr th {\n",
       "        vertical-align: top;\n",
       "    }\n",
       "\n",
       "    .dataframe thead th {\n",
       "        text-align: right;\n",
       "    }\n",
       "</style>\n",
       "<table border=\"1\" class=\"dataframe\">\n",
       "  <thead>\n",
       "    <tr style=\"text-align: right;\">\n",
       "      <th></th>\n",
       "      <th>id</th>\n",
       "      <th>period</th>\n",
       "      <th>tokens</th>\n",
       "    </tr>\n",
       "  </thead>\n",
       "  <tbody>\n",
       "    <tr>\n",
       "      <th>26164</th>\n",
       "      <td>33229</td>\n",
       "      <td>24h</td>\n",
       "      <td>[1, 1087, 9, 154, 12, 2, 272, 39]</td>\n",
       "    </tr>\n",
       "    <tr>\n",
       "      <th>39039</th>\n",
       "      <td>34026</td>\n",
       "      <td>24h</td>\n",
       "      <td>[2, 39, 78, 108, 5, 235, 2887, 1515]</td>\n",
       "    </tr>\n",
       "    <tr>\n",
       "      <th>43093</th>\n",
       "      <td>35623</td>\n",
       "      <td>24h</td>\n",
       "      <td>[1, 251, 13, 1, 7, 28, 11, 397, 8, 297, 64, 56...</td>\n",
       "    </tr>\n",
       "    <tr>\n",
       "      <th>3161</th>\n",
       "      <td>58661</td>\n",
       "      <td>3m</td>\n",
       "      <td>[1, 636, 3, 27, 1538, 11303, 13, 133, 219, 10,...</td>\n",
       "    </tr>\n",
       "    <tr>\n",
       "      <th>29640</th>\n",
       "      <td>59683</td>\n",
       "      <td>3m</td>\n",
       "      <td>[1, 65, 33, 8604, 3849, 11, 1088]</td>\n",
       "    </tr>\n",
       "  </tbody>\n",
       "</table>\n",
       "</div>"
      ],
      "text/plain": [
       "          id period                                             tokens\n",
       "26164  33229    24h                  [1, 1087, 9, 154, 12, 2, 272, 39]\n",
       "39039  34026    24h               [2, 39, 78, 108, 5, 235, 2887, 1515]\n",
       "43093  35623    24h  [1, 251, 13, 1, 7, 28, 11, 397, 8, 297, 64, 56...\n",
       "3161   58661     3m  [1, 636, 3, 27, 1538, 11303, 13, 133, 219, 10,...\n",
       "29640  59683     3m                  [1, 65, 33, 8604, 3849, 11, 1088]"
      ]
     },
     "execution_count": 16,
     "metadata": {},
     "output_type": "execute_result"
    }
   ],
   "source": [
    "df_train['tokens'] = encoded_train_set\n",
    "df_train.drop(['response'], axis=1, inplace=True)\n",
    "df_train.head()"
   ]
  },
  {
   "cell_type": "code",
   "execution_count": 17,
   "metadata": {},
   "outputs": [
    {
     "data": {
      "text/plain": [
       "array([[0, 0, 1, 0, 0, 0, 0],\n",
       "       [0, 0, 1, 0, 0, 0, 0],\n",
       "       [0, 0, 0, 1, 0, 0, 0],\n",
       "       [1, 0, 0, 0, 0, 0, 0],\n",
       "       [1, 0, 0, 0, 0, 0, 0]], dtype=int8)"
      ]
     },
     "execution_count": 17,
     "metadata": {},
     "output_type": "execute_result"
    }
   ],
   "source": [
    "y_train[:5]"
   ]
  },
  {
   "cell_type": "markdown",
   "metadata": {},
   "source": [
    "These are our new tokens, which are obviously not all the same length, so we'll quickly pad them with zeros.\n",
    "`pad_sequences` is a handy function to do just this."
   ]
  },
  {
   "cell_type": "code",
   "execution_count": 18,
   "metadata": {},
   "outputs": [],
   "source": [
    "SEQ_LEN = 80\n",
    "padded_train = pad_sequences(encoded_train_set, maxlen=SEQ_LEN, padding='post')"
   ]
  },
  {
   "cell_type": "code",
   "execution_count": 19,
   "metadata": {},
   "outputs": [
    {
     "data": {
      "text/html": [
       "<div>\n",
       "<style scoped>\n",
       "    .dataframe tbody tr th:only-of-type {\n",
       "        vertical-align: middle;\n",
       "    }\n",
       "\n",
       "    .dataframe tbody tr th {\n",
       "        vertical-align: top;\n",
       "    }\n",
       "\n",
       "    .dataframe thead th {\n",
       "        text-align: right;\n",
       "    }\n",
       "</style>\n",
       "<table border=\"1\" class=\"dataframe\">\n",
       "  <thead>\n",
       "    <tr style=\"text-align: right;\">\n",
       "      <th></th>\n",
       "      <th>id</th>\n",
       "      <th>period</th>\n",
       "      <th>tokens</th>\n",
       "    </tr>\n",
       "  </thead>\n",
       "  <tbody>\n",
       "    <tr>\n",
       "      <th>26164</th>\n",
       "      <td>33229</td>\n",
       "      <td>24h</td>\n",
       "      <td>[1, 1087, 9, 154, 12, 2, 272, 39, 0, 0, 0, 0, ...</td>\n",
       "    </tr>\n",
       "    <tr>\n",
       "      <th>39039</th>\n",
       "      <td>34026</td>\n",
       "      <td>24h</td>\n",
       "      <td>[2, 39, 78, 108, 5, 235, 2887, 1515, 0, 0, 0, ...</td>\n",
       "    </tr>\n",
       "    <tr>\n",
       "      <th>43093</th>\n",
       "      <td>35623</td>\n",
       "      <td>24h</td>\n",
       "      <td>[1, 251, 13, 1, 7, 28, 11, 397, 8, 297, 64, 56...</td>\n",
       "    </tr>\n",
       "    <tr>\n",
       "      <th>3161</th>\n",
       "      <td>58661</td>\n",
       "      <td>3m</td>\n",
       "      <td>[1, 636, 3, 27, 1538, 11303, 13, 133, 219, 10,...</td>\n",
       "    </tr>\n",
       "    <tr>\n",
       "      <th>29640</th>\n",
       "      <td>59683</td>\n",
       "      <td>3m</td>\n",
       "      <td>[1, 65, 33, 8604, 3849, 11, 1088, 0, 0, 0, 0, ...</td>\n",
       "    </tr>\n",
       "  </tbody>\n",
       "</table>\n",
       "</div>"
      ],
      "text/plain": [
       "          id period                                             tokens\n",
       "26164  33229    24h  [1, 1087, 9, 154, 12, 2, 272, 39, 0, 0, 0, 0, ...\n",
       "39039  34026    24h  [2, 39, 78, 108, 5, 235, 2887, 1515, 0, 0, 0, ...\n",
       "43093  35623    24h  [1, 251, 13, 1, 7, 28, 11, 397, 8, 297, 64, 56...\n",
       "3161   58661     3m  [1, 636, 3, 27, 1538, 11303, 13, 133, 219, 10,...\n",
       "29640  59683     3m  [1, 65, 33, 8604, 3849, 11, 1088, 0, 0, 0, 0, ..."
      ]
     },
     "execution_count": 19,
     "metadata": {},
     "output_type": "execute_result"
    }
   ],
   "source": [
    "train_docs = [list(doc) for doc in padded_train]\n",
    "df_train['tokens'] = train_docs\n",
    "df_train.head()"
   ]
  },
  {
   "cell_type": "markdown",
   "metadata": {},
   "source": [
    "We'll be using this two layer RNN extensively to benchmark different approaches. The `Embedding` layer takes in a vocabulary size, the length of each word-vector, the input sequence length and a boolean that tells it whether it should train itself. We set this to false if we're using embeddings from someone else, unless we're transfer-learning, or training from scratch."
   ]
  },
  {
   "cell_type": "code",
   "execution_count": 20,
   "metadata": {},
   "outputs": [],
   "source": [
    "input_tensor = Input(shape=(SEQ_LEN,), dtype='int32')\n",
    "e = Embedding(vocab_size, 300, input_length=SEQ_LEN, trainable=True)(input_tensor)\n",
    "x = Bidirectional(CuDNNLSTM(128, return_sequences=True))(e)\n",
    "x = Bidirectional(CuDNNLSTM(64, return_sequences=False))(x)\n",
    "x = Dense(64, activation='relu')(x)\n",
    "output_tensor = Dense(7, activation='softmax')(x)\n",
    "model = Model(input_tensor, output_tensor)"
   ]
  },
  {
   "cell_type": "code",
   "execution_count": 21,
   "metadata": {},
   "outputs": [
    {
     "name": "stdout",
     "output_type": "stream",
     "text": [
      "_________________________________________________________________\n",
      "Layer (type)                 Output Shape              Param #   \n",
      "=================================================================\n",
      "input_1 (InputLayer)         (None, 80)                0         \n",
      "_________________________________________________________________\n",
      "embedding_1 (Embedding)      (None, 80, 300)           5742600   \n",
      "_________________________________________________________________\n",
      "bidirectional_1 (Bidirection (None, 80, 256)           440320    \n",
      "_________________________________________________________________\n",
      "bidirectional_2 (Bidirection (None, 128)               164864    \n",
      "_________________________________________________________________\n",
      "dense_1 (Dense)              (None, 64)                8256      \n",
      "_________________________________________________________________\n",
      "dense_2 (Dense)              (None, 7)                 455       \n",
      "=================================================================\n",
      "Total params: 6,356,495\n",
      "Trainable params: 6,356,495\n",
      "Non-trainable params: 0\n",
      "_________________________________________________________________\n"
     ]
    }
   ],
   "source": [
    "model.compile(optimizer=Adam(lr=1e-3),\n",
    "              loss='categorical_crossentropy',\n",
    "              metrics=['accuracy'])\n",
    "model.summary()"
   ]
  },
  {
   "cell_type": "markdown",
   "metadata": {},
   "source": [
    "`df_train.tokens` returns a list, but we need a numpy array of numpy arrays as our training set"
   ]
  },
  {
   "cell_type": "code",
   "execution_count": 22,
   "metadata": {},
   "outputs": [
    {
     "data": {
      "text/plain": [
       "(46172, 80)"
      ]
     },
     "execution_count": 22,
     "metadata": {},
     "output_type": "execute_result"
    }
   ],
   "source": [
    "x_train = np.array([np.array(token) for token in df_train.tokens])\n",
    "x_train.shape"
   ]
  },
  {
   "cell_type": "code",
   "execution_count": 23,
   "metadata": {
    "scrolled": true
   },
   "outputs": [
    {
     "name": "stdout",
     "output_type": "stream",
     "text": [
      "Epoch 1/10\n",
      "46172/46172 [==============================] - 45s 979us/step - loss: 0.4815 - acc: 0.8307\n",
      "Epoch 2/10\n",
      "46172/46172 [==============================] - 40s 858us/step - loss: 0.1881 - acc: 0.9336\n",
      "Epoch 3/10\n",
      "46172/46172 [==============================] - 42s 908us/step - loss: 0.1137 - acc: 0.9602\n",
      "Epoch 4/10\n",
      "46172/46172 [==============================] - 40s 864us/step - loss: 0.0762 - acc: 0.9731\n",
      "Epoch 5/10\n",
      "46172/46172 [==============================] - 39s 855us/step - loss: 0.0572 - acc: 0.9800\n",
      "Epoch 6/10\n",
      "46172/46172 [==============================] - 41s 885us/step - loss: 0.0435 - acc: 0.9844\n",
      "Epoch 7/10\n",
      "46172/46172 [==============================] - 40s 858us/step - loss: 0.0359 - acc: 0.9876\n",
      "Epoch 8/10\n",
      "46172/46172 [==============================] - 40s 875us/step - loss: 0.0312 - acc: 0.9894\n",
      "Epoch 9/10\n",
      "46172/46172 [==============================] - 41s 889us/step - loss: 0.0221 - acc: 0.9922\n",
      "Epoch 10/10\n",
      "46172/46172 [==============================] - 42s 900us/step - loss: 0.0203 - acc: 0.9933\n"
     ]
    },
    {
     "data": {
      "text/plain": [
       "<keras.callbacks.History at 0x18c2bd46908>"
      ]
     },
     "execution_count": 23,
     "metadata": {},
     "output_type": "execute_result"
    }
   ],
   "source": [
    "model.fit(x_train, y_train, epochs=10, verbose=1)"
   ]
  },
  {
   "cell_type": "code",
   "execution_count": 24,
   "metadata": {},
   "outputs": [
    {
     "data": {
      "text/plain": [
       "8149"
      ]
     },
     "execution_count": 24,
     "metadata": {},
     "output_type": "execute_result"
    }
   ],
   "source": [
    "encoded_val_set = t.texts_to_sequences(df_val.response)\n",
    "len(encoded_val_set)"
   ]
  },
  {
   "cell_type": "code",
   "execution_count": 25,
   "metadata": {},
   "outputs": [
    {
     "data": {
      "text/html": [
       "<div>\n",
       "<style scoped>\n",
       "    .dataframe tbody tr th:only-of-type {\n",
       "        vertical-align: middle;\n",
       "    }\n",
       "\n",
       "    .dataframe tbody tr th {\n",
       "        vertical-align: top;\n",
       "    }\n",
       "\n",
       "    .dataframe thead th {\n",
       "        text-align: right;\n",
       "    }\n",
       "</style>\n",
       "<table border=\"1\" class=\"dataframe\">\n",
       "  <thead>\n",
       "    <tr style=\"text-align: right;\">\n",
       "      <th></th>\n",
       "      <th>id</th>\n",
       "      <th>period</th>\n",
       "      <th>response</th>\n",
       "      <th>tokens</th>\n",
       "    </tr>\n",
       "  </thead>\n",
       "  <tbody>\n",
       "    <tr>\n",
       "      <th>3419</th>\n",
       "      <td>37301</td>\n",
       "      <td>24h</td>\n",
       "      <td>my son got to play in a big soccer game after ...</td>\n",
       "      <td>[2, 73, 17, 5, 190, 9, 3, 173, 737, 107, 43, 1...</td>\n",
       "    </tr>\n",
       "    <tr>\n",
       "      <th>18762</th>\n",
       "      <td>85992</td>\n",
       "      <td>3m</td>\n",
       "      <td>i got to go to sleep early yesterday.</td>\n",
       "      <td>[1, 17, 5, 82, 5, 270, 262, 68, 0, 0, 0, 0, 0,...</td>\n",
       "    </tr>\n",
       "    <tr>\n",
       "      <th>16492</th>\n",
       "      <td>50424</td>\n",
       "      <td>24h</td>\n",
       "      <td>i saw my dad were waiting for me with a glass ...</td>\n",
       "      <td>[1, 131, 2, 281, 87, 344, 8, 10, 12, 3, 1414, ...</td>\n",
       "    </tr>\n",
       "    <tr>\n",
       "      <th>21122</th>\n",
       "      <td>45067</td>\n",
       "      <td>24h</td>\n",
       "      <td>i found a really good deal at the grocery outl...</td>\n",
       "      <td>[1, 65, 3, 46, 40, 509, 20, 6, 569, 5654, 254,...</td>\n",
       "    </tr>\n",
       "    <tr>\n",
       "      <th>32679</th>\n",
       "      <td>56965</td>\n",
       "      <td>24h</td>\n",
       "      <td>today i saw a tv show about the band kiss, i w...</td>\n",
       "      <td>[51, 1, 131, 3, 301, 237, 54, 6, 718, 892, 1, ...</td>\n",
       "    </tr>\n",
       "  </tbody>\n",
       "</table>\n",
       "</div>"
      ],
      "text/plain": [
       "          id period                                           response  \\\n",
       "3419   37301    24h  my son got to play in a big soccer game after ...   \n",
       "18762  85992     3m              i got to go to sleep early yesterday.   \n",
       "16492  50424    24h  i saw my dad were waiting for me with a glass ...   \n",
       "21122  45067    24h  i found a really good deal at the grocery outl...   \n",
       "32679  56965    24h  today i saw a tv show about the band kiss, i w...   \n",
       "\n",
       "                                                  tokens  \n",
       "3419   [2, 73, 17, 5, 190, 9, 3, 173, 737, 107, 43, 1...  \n",
       "18762  [1, 17, 5, 82, 5, 270, 262, 68, 0, 0, 0, 0, 0,...  \n",
       "16492  [1, 131, 2, 281, 87, 344, 8, 10, 12, 3, 1414, ...  \n",
       "21122  [1, 65, 3, 46, 40, 509, 20, 6, 569, 5654, 254,...  \n",
       "32679  [51, 1, 131, 3, 301, 237, 54, 6, 718, 892, 1, ...  "
      ]
     },
     "execution_count": 25,
     "metadata": {},
     "output_type": "execute_result"
    }
   ],
   "source": [
    "df_val['tokens'] = encoded_val_set\n",
    "padded_val = pad_sequences(encoded_val_set, maxlen=SEQ_LEN, padding='post')\n",
    "val_vectors = [list(doc) for doc in padded_val]\n",
    "df_val.tokens = val_vectors\n",
    "df_val.head()"
   ]
  },
  {
   "cell_type": "code",
   "execution_count": 26,
   "metadata": {},
   "outputs": [
    {
     "name": "stdout",
     "output_type": "stream",
     "text": [
      "(8149, 80) (8149, 7)\n"
     ]
    }
   ],
   "source": [
    "x_val = np.array([np.array(token) for token in df_val.tokens])\n",
    "print(x_val.shape, y_val.shape)"
   ]
  },
  {
   "cell_type": "code",
   "execution_count": 27,
   "metadata": {},
   "outputs": [
    {
     "name": "stdout",
     "output_type": "stream",
     "text": [
      "8149/8149 [==============================] - 3s 341us/step\n"
     ]
    },
    {
     "data": {
      "text/plain": [
       "[0.47125363304474144, 0.8988832985788697]"
      ]
     },
     "execution_count": 27,
     "metadata": {},
     "output_type": "execute_result"
    }
   ],
   "source": [
    "score = model.evaluate(x_val, y_val, verbose=1)\n",
    "score"
   ]
  },
  {
   "cell_type": "markdown",
   "metadata": {},
   "source": [
    "Our validation score is good. With half the work, we managed to get a slightly better model than the previous one, or is it because we have two LSTM layers this time? The influences are compounded and it might not work out so well for the test set.\n",
    "<br>\n",
    "There is just one problem. If you train your own embeddings on a dataset this small, you're likely to not generalize well on the test set. Your real world accuracy might plummet further if you plan to use that model in production.\n",
    "<br>\n",
    "To prevent this, you need to train on a larger dataset, but the 6 million parameters will soon be 6 billion parameters. Besides, it might not be easy to collect more data if you're solving a problem for a company."
   ]
  },
  {
   "cell_type": "markdown",
   "metadata": {},
   "source": [
    "## Pre-trained embeddings\n",
    "---\n",
    "Let's face it. Nobody trains their own embeddings nowadays, unless your model needs to understand domain-specific language. If you take somebody's model, tweak it and call it your own, you'll have better results in less time.\n",
    "<br>\n",
    "Using pre-trained models is part of transfer learning, where you try to create a ripoff of a great model to suit your dataset.\n",
    "More specifically, there are two very commonly used open source embeddings that will outperform self-trained embeddings 95 out of 100 times. There's nothing special about it, they're just high dimensional vectors trained on huge datasets, on hardware more powerful than anything you'll ever own, and they give _the best_ results for most NLP tasks.\n",
    "<br>\n",
    "(Spoiler: No they don't. _Even_ better embeddings were released last year. We'll get to that.)"
   ]
  },
  {
   "cell_type": "markdown",
   "metadata": {},
   "source": [
    "### GloVe\n",
    "**Glo**bal **Ve**ctors for word representation is a suite of word embeddings trained on a billion tokens with a vocabulary of 400 thousand words. These embeddings can be downloaded [here](https://nlp.stanford.edu/projects/glove/)\n",
    "<br>\n",
    "From here onwards, we will use the keras `Embedding` layer as it is easier to work with. We'll also use the keras `Tokenizer` class as it works well with `Embedding`.\n",
    "<br>\n",
    "There is a major difference between `keras.preprocessing.text.Tokenizer` and `nltk.word_tokenize`. `Tokenizer` returns a list of numbers, assigned according to frequency, instead of a list of words and internally maintains a vocabulary dictionary that maps words to numbers. Restart your kernel and rerun upto the preprocessing section if you're running out of memory."
   ]
  },
  {
   "cell_type": "markdown",
   "metadata": {},
   "source": [
    "Now is a good time to split our dataset into training and validation sets. We shouldn't be training the tokenizer on data we aren't allowed to see"
   ]
  },
  {
   "cell_type": "code",
   "execution_count": 11,
   "metadata": {},
   "outputs": [],
   "source": [
    "df_train, df_val, y_train, y_val = train_test_split(df, y, test_size=0.15, random_state=42)"
   ]
  },
  {
   "cell_type": "code",
   "execution_count": 12,
   "metadata": {},
   "outputs": [],
   "source": [
    "t = Tokenizer()\n",
    "t.fit_on_texts(df_train.response)\n",
    "vocab_size = len(t.word_index) + 1"
   ]
  },
  {
   "cell_type": "code",
   "execution_count": 13,
   "metadata": {},
   "outputs": [
    {
     "data": {
      "text/plain": [
       "19142"
      ]
     },
     "execution_count": 13,
     "metadata": {},
     "output_type": "execute_result"
    }
   ],
   "source": [
    "vocab_size"
   ]
  },
  {
   "cell_type": "code",
   "execution_count": 14,
   "metadata": {},
   "outputs": [
    {
     "data": {
      "text/plain": [
       "46172"
      ]
     },
     "execution_count": 14,
     "metadata": {},
     "output_type": "execute_result"
    }
   ],
   "source": [
    "encoded_train_set = t.texts_to_sequences(df_train.response)\n",
    "len(encoded_train_set)"
   ]
  },
  {
   "cell_type": "code",
   "execution_count": 15,
   "metadata": {},
   "outputs": [
    {
     "data": {
      "text/html": [
       "<div>\n",
       "<style scoped>\n",
       "    .dataframe tbody tr th:only-of-type {\n",
       "        vertical-align: middle;\n",
       "    }\n",
       "\n",
       "    .dataframe tbody tr th {\n",
       "        vertical-align: top;\n",
       "    }\n",
       "\n",
       "    .dataframe thead th {\n",
       "        text-align: right;\n",
       "    }\n",
       "</style>\n",
       "<table border=\"1\" class=\"dataframe\">\n",
       "  <thead>\n",
       "    <tr style=\"text-align: right;\">\n",
       "      <th></th>\n",
       "      <th>id</th>\n",
       "      <th>period</th>\n",
       "      <th>tokens</th>\n",
       "    </tr>\n",
       "  </thead>\n",
       "  <tbody>\n",
       "    <tr>\n",
       "      <th>26164</th>\n",
       "      <td>33229</td>\n",
       "      <td>24h</td>\n",
       "      <td>[1, 1087, 9, 154, 12, 2, 272, 39]</td>\n",
       "    </tr>\n",
       "    <tr>\n",
       "      <th>39039</th>\n",
       "      <td>34026</td>\n",
       "      <td>24h</td>\n",
       "      <td>[2, 39, 78, 108, 5, 235, 2887, 1515]</td>\n",
       "    </tr>\n",
       "    <tr>\n",
       "      <th>43093</th>\n",
       "      <td>35623</td>\n",
       "      <td>24h</td>\n",
       "      <td>[1, 251, 13, 1, 7, 28, 11, 397, 8, 297, 64, 56...</td>\n",
       "    </tr>\n",
       "    <tr>\n",
       "      <th>3161</th>\n",
       "      <td>58661</td>\n",
       "      <td>3m</td>\n",
       "      <td>[1, 636, 3, 27, 1538, 11303, 13, 133, 219, 10,...</td>\n",
       "    </tr>\n",
       "    <tr>\n",
       "      <th>29640</th>\n",
       "      <td>59683</td>\n",
       "      <td>3m</td>\n",
       "      <td>[1, 65, 33, 8604, 3849, 11, 1088]</td>\n",
       "    </tr>\n",
       "  </tbody>\n",
       "</table>\n",
       "</div>"
      ],
      "text/plain": [
       "          id period                                             tokens\n",
       "26164  33229    24h                  [1, 1087, 9, 154, 12, 2, 272, 39]\n",
       "39039  34026    24h               [2, 39, 78, 108, 5, 235, 2887, 1515]\n",
       "43093  35623    24h  [1, 251, 13, 1, 7, 28, 11, 397, 8, 297, 64, 56...\n",
       "3161   58661     3m  [1, 636, 3, 27, 1538, 11303, 13, 133, 219, 10,...\n",
       "29640  59683     3m                  [1, 65, 33, 8604, 3849, 11, 1088]"
      ]
     },
     "execution_count": 15,
     "metadata": {},
     "output_type": "execute_result"
    }
   ],
   "source": [
    "df_train['tokens'] = encoded_train_set\n",
    "df_train.drop(['response'], axis=1, inplace=True)\n",
    "df_train.head()"
   ]
  },
  {
   "cell_type": "code",
   "execution_count": 16,
   "metadata": {},
   "outputs": [
    {
     "data": {
      "text/plain": [
       "array([[0, 0, 1, 0, 0, 0, 0],\n",
       "       [0, 0, 1, 0, 0, 0, 0],\n",
       "       [0, 0, 0, 1, 0, 0, 0],\n",
       "       [1, 0, 0, 0, 0, 0, 0],\n",
       "       [1, 0, 0, 0, 0, 0, 0]], dtype=int8)"
      ]
     },
     "execution_count": 16,
     "metadata": {},
     "output_type": "execute_result"
    }
   ],
   "source": [
    "y_train[:5]"
   ]
  },
  {
   "cell_type": "markdown",
   "metadata": {},
   "source": [
    "We'll `pad_sequences` just like last time."
   ]
  },
  {
   "cell_type": "code",
   "execution_count": 17,
   "metadata": {},
   "outputs": [],
   "source": [
    "SEQ_LEN = 80\n",
    "padded_train = pad_sequences(encoded_train_set, maxlen=SEQ_LEN, padding='post')"
   ]
  },
  {
   "cell_type": "code",
   "execution_count": 18,
   "metadata": {},
   "outputs": [
    {
     "data": {
      "text/html": [
       "<div>\n",
       "<style scoped>\n",
       "    .dataframe tbody tr th:only-of-type {\n",
       "        vertical-align: middle;\n",
       "    }\n",
       "\n",
       "    .dataframe tbody tr th {\n",
       "        vertical-align: top;\n",
       "    }\n",
       "\n",
       "    .dataframe thead th {\n",
       "        text-align: right;\n",
       "    }\n",
       "</style>\n",
       "<table border=\"1\" class=\"dataframe\">\n",
       "  <thead>\n",
       "    <tr style=\"text-align: right;\">\n",
       "      <th></th>\n",
       "      <th>id</th>\n",
       "      <th>period</th>\n",
       "      <th>tokens</th>\n",
       "    </tr>\n",
       "  </thead>\n",
       "  <tbody>\n",
       "    <tr>\n",
       "      <th>26164</th>\n",
       "      <td>33229</td>\n",
       "      <td>24h</td>\n",
       "      <td>[1, 1087, 9, 154, 12, 2, 272, 39, 0, 0, 0, 0, ...</td>\n",
       "    </tr>\n",
       "    <tr>\n",
       "      <th>39039</th>\n",
       "      <td>34026</td>\n",
       "      <td>24h</td>\n",
       "      <td>[2, 39, 78, 108, 5, 235, 2887, 1515, 0, 0, 0, ...</td>\n",
       "    </tr>\n",
       "    <tr>\n",
       "      <th>43093</th>\n",
       "      <td>35623</td>\n",
       "      <td>24h</td>\n",
       "      <td>[1, 251, 13, 1, 7, 28, 11, 397, 8, 297, 64, 56...</td>\n",
       "    </tr>\n",
       "    <tr>\n",
       "      <th>3161</th>\n",
       "      <td>58661</td>\n",
       "      <td>3m</td>\n",
       "      <td>[1, 636, 3, 27, 1538, 11303, 13, 133, 219, 10,...</td>\n",
       "    </tr>\n",
       "    <tr>\n",
       "      <th>29640</th>\n",
       "      <td>59683</td>\n",
       "      <td>3m</td>\n",
       "      <td>[1, 65, 33, 8604, 3849, 11, 1088, 0, 0, 0, 0, ...</td>\n",
       "    </tr>\n",
       "  </tbody>\n",
       "</table>\n",
       "</div>"
      ],
      "text/plain": [
       "          id period                                             tokens\n",
       "26164  33229    24h  [1, 1087, 9, 154, 12, 2, 272, 39, 0, 0, 0, 0, ...\n",
       "39039  34026    24h  [2, 39, 78, 108, 5, 235, 2887, 1515, 0, 0, 0, ...\n",
       "43093  35623    24h  [1, 251, 13, 1, 7, 28, 11, 397, 8, 297, 64, 56...\n",
       "3161   58661     3m  [1, 636, 3, 27, 1538, 11303, 13, 133, 219, 10,...\n",
       "29640  59683     3m  [1, 65, 33, 8604, 3849, 11, 1088, 0, 0, 0, 0, ..."
      ]
     },
     "execution_count": 18,
     "metadata": {},
     "output_type": "execute_result"
    }
   ],
   "source": [
    "train_docs = [list(doc) for doc in padded_train]\n",
    "df_train['tokens'] = train_docs\n",
    "df_train.head()"
   ]
  },
  {
   "cell_type": "markdown",
   "metadata": {},
   "source": [
    "We'll use `gensim` to generate a dictionary of embeddings from the downloaded data, however the file you downloaded isn't in the format `gensim` likes. Thankfully, there's a workaround for this by gensim themselves. The `glove2word2vec` function converts the file into set of vectors. We'll save this file in the same directory as the original."
   ]
  },
  {
   "cell_type": "code",
   "execution_count": 19,
   "metadata": {},
   "outputs": [
    {
     "data": {
      "text/plain": [
       "(400000, 300)"
      ]
     },
     "execution_count": 19,
     "metadata": {},
     "output_type": "execute_result"
    }
   ],
   "source": [
    "glove_input = 'D:/Datasets/embeddings/GloVe-6B/glove.6B.300d.txt'\n",
    "word2vec_output = 'D:/Datasets/embeddings/GloVe-6B/glove.6B.300d.txt.word2vec'\n",
    "glove2word2vec(glove_input, word2vec_output)"
   ]
  },
  {
   "cell_type": "code",
   "execution_count": 20,
   "metadata": {},
   "outputs": [],
   "source": [
    "embedding_index = gensim.models.KeyedVectors.load_word2vec_format('D:/Datasets/embeddings/GloVe-6B/glove.6B.300d.txt.word2vec', binary=False)"
   ]
  },
  {
   "cell_type": "markdown",
   "metadata": {},
   "source": [
    "We just want embeddings for words that are actually in our corpus. Filter out the unwanted words and count the number of words that we don't have embeddings for."
   ]
  },
  {
   "cell_type": "code",
   "execution_count": 21,
   "metadata": {},
   "outputs": [
    {
     "data": {
      "text/plain": [
       "1877"
      ]
     },
     "execution_count": 21,
     "metadata": {},
     "output_type": "execute_result"
    }
   ],
   "source": [
    "embedding_matrix = np.zeros((vocab_size, 300))\n",
    "count = 0\n",
    "\n",
    "for word, i in t.word_index.items():\n",
    "    try:\n",
    "        embedding_vector = embedding_index[word]\n",
    "        embedding_matrix[i] = embedding_vector\n",
    "    except KeyError:\n",
    "        count += 1\n",
    "        \n",
    "count"
   ]
  },
  {
   "cell_type": "code",
   "execution_count": 22,
   "metadata": {},
   "outputs": [
    {
     "data": {
      "text/plain": [
       "(19142, 300)"
      ]
     },
     "execution_count": 22,
     "metadata": {},
     "output_type": "execute_result"
    }
   ],
   "source": [
    "embedding_matrix.shape"
   ]
  },
  {
   "cell_type": "markdown",
   "metadata": {},
   "source": [
    "We still don't have everything we need.\n",
    "For multi class classification, tracking the accuracy is often misleading, especially if you have a class weight imbalance. You can trivially get 90% accuracy on a dataset that has 90 positive samples and 10 negative samples by just predicting the mode, but the model will be pretty useless. We should instead track the __F1 score__ as well. If you know what _precision_ and _recall_ is, you probably know what an _f1-score_ is.\n",
    "<br>\n",
    "<br>\n",
    "__Precision__ measures how many positive-predicted samples were actually positive.\n",
    "<br>\n",
    "__Recall__ measures how many actual positive samples were predicted to be positive.\n",
    "<br>\n",
    "<br>\n",
    "The _F1 score_ is the harmonic mean of the two, which serves as a great metric for tracking your model's progress.\n",
    "<br>\n",
    "<br>\n",
    "Unfortunately, the native f1-score metrics of keras was removed in version 2.0, so we have to write our own. Keras accuracy metrics expect vectors of target classes and predicted classes."
   ]
  },
  {
   "cell_type": "code",
   "execution_count": 2,
   "metadata": {},
   "outputs": [],
   "source": [
    "def recall(y_true, y_pred):\n",
    "    true_pos = K.sum(K.round(K.clip(y_true * y_pred, 0, 1)))\n",
    "    possible_pos = K.sum(K.round(K.clip(y_true, 0, 1)))\n",
    "    _recall = true_pos / (possible_pos + K.epsilon())\n",
    "    return _recall\n",
    "    \n",
    "def precision(y_true, y_pred):\n",
    "    true_pos = K.sum(K.round(K.clip(y_true * y_pred, 0, 1)))\n",
    "    predicted_pos = K.sum(K.round(K.clip(y_pred, 0, 1)))\n",
    "    _precision = true_pos / (predicted_pos + K.epsilon())\n",
    "    return _precision\n",
    "\n",
    "def f1(y_true, y_pred):    \n",
    "    p = precision(y_true, y_pred)\n",
    "    r = recall(y_true, y_pred)\n",
    "    return 2 * ((p * r) / (p + r + K.epsilon()))"
   ]
  },
  {
   "cell_type": "markdown",
   "metadata": {},
   "source": [
    "We can finally build our model using the `Embedding` class. The weights will be initialized using the `emb_matrix` and `trainable` will be set to False. Setting `trainable` to True usually gives slightly better results at the expense of ~6 million more trainable variables (corpus dependent). Suit yourself."
   ]
  },
  {
   "cell_type": "markdown",
   "metadata": {},
   "source": [
    "As an aside, I will intentionally leave out GRUs throughout this notebook as LSTMs almost always work better in practice. But you can try them out yourself. Just replace `LSTM` with `GRU`, or `CuDNNLSTM` with `CuDNNGRU` if you're on a GPU."
   ]
  },
  {
   "cell_type": "code",
   "execution_count": 24,
   "metadata": {},
   "outputs": [],
   "source": [
    "input_tensor = Input(shape=(SEQ_LEN,), dtype='int32')\n",
    "e = Embedding(vocab_size, 300, weights=[embedding_matrix], input_length=SEQ_LEN, trainable=False)(input_tensor)\n",
    "x = Bidirectional(CuDNNLSTM(128, return_sequences=True))(e)\n",
    "x = Bidirectional(CuDNNLSTM(64, return_sequences=False))(x)\n",
    "x = Dense(64, activation='relu')(x)\n",
    "output_tensor = Dense(7, activation='softmax')(x)\n",
    "model = Model(input_tensor, output_tensor)"
   ]
  },
  {
   "cell_type": "code",
   "execution_count": 25,
   "metadata": {},
   "outputs": [
    {
     "name": "stdout",
     "output_type": "stream",
     "text": [
      "_________________________________________________________________\n",
      "Layer (type)                 Output Shape              Param #   \n",
      "=================================================================\n",
      "input_1 (InputLayer)         (None, 80)                0         \n",
      "_________________________________________________________________\n",
      "embedding_1 (Embedding)      (None, 80, 300)           5742600   \n",
      "_________________________________________________________________\n",
      "bidirectional_1 (Bidirection (None, 80, 256)           440320    \n",
      "_________________________________________________________________\n",
      "bidirectional_2 (Bidirection (None, 128)               164864    \n",
      "_________________________________________________________________\n",
      "dense_1 (Dense)              (None, 64)                8256      \n",
      "_________________________________________________________________\n",
      "dense_2 (Dense)              (None, 7)                 455       \n",
      "=================================================================\n",
      "Total params: 6,356,495\n",
      "Trainable params: 613,895\n",
      "Non-trainable params: 5,742,600\n",
      "_________________________________________________________________\n"
     ]
    }
   ],
   "source": [
    "model.compile(optimizer=Adam(lr=1e-3),\n",
    "              loss='categorical_crossentropy',\n",
    "              metrics=['accuracy', f1])\n",
    "model.summary()"
   ]
  },
  {
   "cell_type": "markdown",
   "metadata": {},
   "source": [
    "`df_train.tokens` returns a list, but we need a numpy array of numpy arrays as our training set"
   ]
  },
  {
   "cell_type": "code",
   "execution_count": 26,
   "metadata": {},
   "outputs": [
    {
     "data": {
      "text/plain": [
       "(46172, 80)"
      ]
     },
     "execution_count": 26,
     "metadata": {},
     "output_type": "execute_result"
    }
   ],
   "source": [
    "x_train = np.array([np.array(token) for token in df_train.tokens])\n",
    "x_train.shape"
   ]
  },
  {
   "cell_type": "code",
   "execution_count": 27,
   "metadata": {
    "scrolled": true
   },
   "outputs": [
    {
     "name": "stdout",
     "output_type": "stream",
     "text": [
      "Epoch 1/10\n",
      "46172/46172 [==============================] - 46s 992us/step - loss: 0.5379 - acc: 0.8149 - f1: 0.8076\n",
      "Epoch 2/10\n",
      "46172/46172 [==============================] - 41s 889us/step - loss: 0.3644 - acc: 0.8686 - f1: 0.8674\n",
      "Epoch 3/10\n",
      "46172/46172 [==============================] - 42s 911us/step - loss: 0.2963 - acc: 0.8905 - f1: 0.8908\n",
      "Epoch 4/10\n",
      "46172/46172 [==============================] - 44s 953us/step - loss: 0.2369 - acc: 0.9129 - f1: 0.9121- ETA: 1s - loss: 0.2380 - acc: 0.9124 - f1:  - ETA: 0s - loss: 0.2370 - acc: 0.9129 - f1\n",
      "Epoch 5/10\n",
      "46172/46172 [==============================] - 42s 914us/step - loss: 0.1790 - acc: 0.9338 - f1: 0.9343\n",
      "Epoch 6/10\n",
      "46172/46172 [==============================] - 41s 878us/step - loss: 0.1295 - acc: 0.9527 - f1: 0.9530s - loss: 0.1\n",
      "Epoch 7/10\n",
      "46172/46172 [==============================] - 42s 912us/step - loss: 0.0890 - acc: 0.9671 - f1: 0.9672\n",
      "Epoch 8/10\n",
      "46172/46172 [==============================] - 40s 871us/step - loss: 0.0649 - acc: 0.9773 - f1: 0.9774\n",
      "Epoch 9/10\n",
      "46172/46172 [==============================] - 41s 894us/step - loss: 0.0486 - acc: 0.9820 - f1: 0.9820\n",
      "Epoch 10/10\n",
      "46172/46172 [==============================] - 41s 897us/step - loss: 0.0378 - acc: 0.9868 - f1: 0.9868\n"
     ]
    },
    {
     "data": {
      "text/plain": [
       "<keras.callbacks.History at 0x18dfbba90f0>"
      ]
     },
     "execution_count": 27,
     "metadata": {},
     "output_type": "execute_result"
    }
   ],
   "source": [
    "model.fit(x_train, y_train, epochs=10, verbose=1)"
   ]
  },
  {
   "cell_type": "markdown",
   "metadata": {},
   "source": [
    "Let's validate our model. We'll go through the exact same preprocessing steps as our training set."
   ]
  },
  {
   "cell_type": "code",
   "execution_count": 28,
   "metadata": {},
   "outputs": [
    {
     "data": {
      "text/plain": [
       "8149"
      ]
     },
     "execution_count": 28,
     "metadata": {},
     "output_type": "execute_result"
    }
   ],
   "source": [
    "encoded_val_set = t.texts_to_sequences(df_val.response)\n",
    "len(encoded_val_set)"
   ]
  },
  {
   "cell_type": "code",
   "execution_count": 29,
   "metadata": {},
   "outputs": [
    {
     "data": {
      "text/html": [
       "<div>\n",
       "<style scoped>\n",
       "    .dataframe tbody tr th:only-of-type {\n",
       "        vertical-align: middle;\n",
       "    }\n",
       "\n",
       "    .dataframe tbody tr th {\n",
       "        vertical-align: top;\n",
       "    }\n",
       "\n",
       "    .dataframe thead th {\n",
       "        text-align: right;\n",
       "    }\n",
       "</style>\n",
       "<table border=\"1\" class=\"dataframe\">\n",
       "  <thead>\n",
       "    <tr style=\"text-align: right;\">\n",
       "      <th></th>\n",
       "      <th>id</th>\n",
       "      <th>period</th>\n",
       "      <th>response</th>\n",
       "      <th>tokens</th>\n",
       "    </tr>\n",
       "  </thead>\n",
       "  <tbody>\n",
       "    <tr>\n",
       "      <th>3419</th>\n",
       "      <td>37301</td>\n",
       "      <td>24h</td>\n",
       "      <td>my son got to play in a big soccer game after ...</td>\n",
       "      <td>[2, 73, 17, 5, 190, 9, 3, 173, 737, 107, 43, 1...</td>\n",
       "    </tr>\n",
       "    <tr>\n",
       "      <th>18762</th>\n",
       "      <td>85992</td>\n",
       "      <td>3m</td>\n",
       "      <td>i got to go to sleep early yesterday.</td>\n",
       "      <td>[1, 17, 5, 82, 5, 270, 262, 68, 0, 0, 0, 0, 0,...</td>\n",
       "    </tr>\n",
       "    <tr>\n",
       "      <th>16492</th>\n",
       "      <td>50424</td>\n",
       "      <td>24h</td>\n",
       "      <td>i saw my dad were waiting for me with a glass ...</td>\n",
       "      <td>[1, 131, 2, 281, 87, 344, 8, 10, 12, 3, 1414, ...</td>\n",
       "    </tr>\n",
       "    <tr>\n",
       "      <th>21122</th>\n",
       "      <td>45067</td>\n",
       "      <td>24h</td>\n",
       "      <td>i found a really good deal at the grocery outl...</td>\n",
       "      <td>[1, 65, 3, 46, 40, 509, 20, 6, 569, 5654, 254,...</td>\n",
       "    </tr>\n",
       "    <tr>\n",
       "      <th>32679</th>\n",
       "      <td>56965</td>\n",
       "      <td>24h</td>\n",
       "      <td>today i saw a tv show about the band kiss, i w...</td>\n",
       "      <td>[51, 1, 131, 3, 301, 237, 54, 6, 718, 892, 1, ...</td>\n",
       "    </tr>\n",
       "  </tbody>\n",
       "</table>\n",
       "</div>"
      ],
      "text/plain": [
       "          id period                                           response  \\\n",
       "3419   37301    24h  my son got to play in a big soccer game after ...   \n",
       "18762  85992     3m              i got to go to sleep early yesterday.   \n",
       "16492  50424    24h  i saw my dad were waiting for me with a glass ...   \n",
       "21122  45067    24h  i found a really good deal at the grocery outl...   \n",
       "32679  56965    24h  today i saw a tv show about the band kiss, i w...   \n",
       "\n",
       "                                                  tokens  \n",
       "3419   [2, 73, 17, 5, 190, 9, 3, 173, 737, 107, 43, 1...  \n",
       "18762  [1, 17, 5, 82, 5, 270, 262, 68, 0, 0, 0, 0, 0,...  \n",
       "16492  [1, 131, 2, 281, 87, 344, 8, 10, 12, 3, 1414, ...  \n",
       "21122  [1, 65, 3, 46, 40, 509, 20, 6, 569, 5654, 254,...  \n",
       "32679  [51, 1, 131, 3, 301, 237, 54, 6, 718, 892, 1, ...  "
      ]
     },
     "execution_count": 29,
     "metadata": {},
     "output_type": "execute_result"
    }
   ],
   "source": [
    "df_val['tokens'] = encoded_val_set\n",
    "padded_val = pad_sequences(encoded_val_set, maxlen=SEQ_LEN, padding='post')\n",
    "val_vectors = [list(doc) for doc in padded_val]\n",
    "df_val.tokens = val_vectors\n",
    "df_val.head()"
   ]
  },
  {
   "cell_type": "code",
   "execution_count": 30,
   "metadata": {},
   "outputs": [
    {
     "name": "stdout",
     "output_type": "stream",
     "text": [
      "(8149, 80) (8149, 7)\n"
     ]
    }
   ],
   "source": [
    "x_val = np.array([np.array(token) for token in df_val.tokens])\n",
    "print(x_val.shape, y_val.shape)"
   ]
  },
  {
   "cell_type": "code",
   "execution_count": 31,
   "metadata": {},
   "outputs": [
    {
     "name": "stdout",
     "output_type": "stream",
     "text": [
      "8149/8149 [==============================] - 3s 388us/step\n"
     ]
    },
    {
     "data": {
      "text/plain": [
       "[0.5425475006672792, 0.8874708553342998, 0.887631649655906]"
      ]
     },
     "execution_count": 31,
     "metadata": {},
     "output_type": "execute_result"
    }
   ],
   "source": [
    "score = model.evaluate(x_val, y_val, verbose=1)\n",
    "score"
   ]
  },
  {
   "cell_type": "markdown",
   "metadata": {},
   "source": [
    "The validation score this time is 0.88, but pre-trained embeddings will almost certainly generalize better to the test set or real world data, and handle anomalies more effectively."
   ]
  },
  {
   "cell_type": "markdown",
   "metadata": {},
   "source": [
    "### Word2Vec\n",
    "Google released their pre-trained Word2Vec embeddings a few years ago. It was trained on the __Google News__ corpus of about 3 billion tokens. You can download the vectors [here](https://drive.google.com/file/d/0B7XkCwpI5KDYNlNUTTlSS21pQmM/edit?usp=sharing)\n",
    "\n",
    "<br>\n",
    "Let's split the dataset."
   ]
  },
  {
   "cell_type": "code",
   "execution_count": 11,
   "metadata": {},
   "outputs": [],
   "source": [
    "df_train, df_val, y_train, y_val = train_test_split(df, y, test_size=0.15, random_state=42)"
   ]
  },
  {
   "cell_type": "code",
   "execution_count": 12,
   "metadata": {},
   "outputs": [],
   "source": [
    "t = Tokenizer()\n",
    "t.fit_on_texts(df_train.response)\n",
    "vocab_size = len(t.word_index) + 1"
   ]
  },
  {
   "cell_type": "code",
   "execution_count": 13,
   "metadata": {},
   "outputs": [
    {
     "data": {
      "text/plain": [
       "19142"
      ]
     },
     "execution_count": 13,
     "metadata": {},
     "output_type": "execute_result"
    }
   ],
   "source": [
    "vocab_size"
   ]
  },
  {
   "cell_type": "code",
   "execution_count": 14,
   "metadata": {},
   "outputs": [
    {
     "data": {
      "text/plain": [
       "46172"
      ]
     },
     "execution_count": 14,
     "metadata": {},
     "output_type": "execute_result"
    }
   ],
   "source": [
    "encoded_train_set = t.texts_to_sequences(df_train.response)\n",
    "len(encoded_train_set)"
   ]
  },
  {
   "cell_type": "code",
   "execution_count": 15,
   "metadata": {},
   "outputs": [
    {
     "data": {
      "text/html": [
       "<div>\n",
       "<style scoped>\n",
       "    .dataframe tbody tr th:only-of-type {\n",
       "        vertical-align: middle;\n",
       "    }\n",
       "\n",
       "    .dataframe tbody tr th {\n",
       "        vertical-align: top;\n",
       "    }\n",
       "\n",
       "    .dataframe thead th {\n",
       "        text-align: right;\n",
       "    }\n",
       "</style>\n",
       "<table border=\"1\" class=\"dataframe\">\n",
       "  <thead>\n",
       "    <tr style=\"text-align: right;\">\n",
       "      <th></th>\n",
       "      <th>id</th>\n",
       "      <th>period</th>\n",
       "      <th>tokens</th>\n",
       "    </tr>\n",
       "  </thead>\n",
       "  <tbody>\n",
       "    <tr>\n",
       "      <th>26164</th>\n",
       "      <td>33229</td>\n",
       "      <td>24h</td>\n",
       "      <td>[1, 1087, 9, 154, 12, 2, 272, 39]</td>\n",
       "    </tr>\n",
       "    <tr>\n",
       "      <th>39039</th>\n",
       "      <td>34026</td>\n",
       "      <td>24h</td>\n",
       "      <td>[2, 39, 78, 108, 5, 235, 2887, 1515]</td>\n",
       "    </tr>\n",
       "    <tr>\n",
       "      <th>43093</th>\n",
       "      <td>35623</td>\n",
       "      <td>24h</td>\n",
       "      <td>[1, 251, 13, 1, 7, 28, 11, 397, 8, 297, 64, 56...</td>\n",
       "    </tr>\n",
       "    <tr>\n",
       "      <th>3161</th>\n",
       "      <td>58661</td>\n",
       "      <td>3m</td>\n",
       "      <td>[1, 636, 3, 27, 1538, 11303, 13, 133, 219, 10,...</td>\n",
       "    </tr>\n",
       "    <tr>\n",
       "      <th>29640</th>\n",
       "      <td>59683</td>\n",
       "      <td>3m</td>\n",
       "      <td>[1, 65, 33, 8604, 3849, 11, 1088]</td>\n",
       "    </tr>\n",
       "  </tbody>\n",
       "</table>\n",
       "</div>"
      ],
      "text/plain": [
       "          id period                                             tokens\n",
       "26164  33229    24h                  [1, 1087, 9, 154, 12, 2, 272, 39]\n",
       "39039  34026    24h               [2, 39, 78, 108, 5, 235, 2887, 1515]\n",
       "43093  35623    24h  [1, 251, 13, 1, 7, 28, 11, 397, 8, 297, 64, 56...\n",
       "3161   58661     3m  [1, 636, 3, 27, 1538, 11303, 13, 133, 219, 10,...\n",
       "29640  59683     3m                  [1, 65, 33, 8604, 3849, 11, 1088]"
      ]
     },
     "execution_count": 15,
     "metadata": {},
     "output_type": "execute_result"
    }
   ],
   "source": [
    "df_train['tokens'] = encoded_train_set\n",
    "df_train.drop(['response'], axis=1, inplace=True)\n",
    "df_train.head()"
   ]
  },
  {
   "cell_type": "code",
   "execution_count": 16,
   "metadata": {},
   "outputs": [
    {
     "data": {
      "text/plain": [
       "array([[0, 0, 1, 0, 0, 0, 0],\n",
       "       [0, 0, 1, 0, 0, 0, 0],\n",
       "       [0, 0, 0, 1, 0, 0, 0],\n",
       "       [1, 0, 0, 0, 0, 0, 0],\n",
       "       [1, 0, 0, 0, 0, 0, 0]], dtype=int8)"
      ]
     },
     "execution_count": 16,
     "metadata": {},
     "output_type": "execute_result"
    }
   ],
   "source": [
    "y_train[:5]"
   ]
  },
  {
   "cell_type": "code",
   "execution_count": 17,
   "metadata": {},
   "outputs": [],
   "source": [
    "SEQ_LEN = 80\n",
    "padded_train = pad_sequences(encoded_train_set, maxlen=SEQ_LEN, padding='post')"
   ]
  },
  {
   "cell_type": "code",
   "execution_count": 18,
   "metadata": {},
   "outputs": [],
   "source": [
    "train_vectors = [list(doc) for doc in padded_train]\n",
    "df_train.tokens = train_vectors"
   ]
  },
  {
   "cell_type": "code",
   "execution_count": 19,
   "metadata": {},
   "outputs": [],
   "source": [
    "lengths = [len(doc) for doc in train_vectors]"
   ]
  },
  {
   "cell_type": "code",
   "execution_count": 20,
   "metadata": {},
   "outputs": [
    {
     "data": {
      "text/plain": [
       "80.0"
      ]
     },
     "execution_count": 20,
     "metadata": {},
     "output_type": "execute_result"
    }
   ],
   "source": [
    "np.mean(lengths)"
   ]
  },
  {
   "cell_type": "markdown",
   "metadata": {},
   "source": [
    "This time, the downloaded file is good enough for `gensim` to import it directly. The model and everything else is exactly the same like above and we'll still be tracking the F1-score."
   ]
  },
  {
   "cell_type": "code",
   "execution_count": 21,
   "metadata": {},
   "outputs": [],
   "source": [
    "embeddings_index = gensim.models.KeyedVectors.load_word2vec_format('D:/Datasets/embeddings/Word2Vec/GoogleNews-vectors-negative300.bin', binary=True)"
   ]
  },
  {
   "cell_type": "code",
   "execution_count": 22,
   "metadata": {},
   "outputs": [
    {
     "data": {
      "text/plain": [
       "2599"
      ]
     },
     "execution_count": 22,
     "metadata": {},
     "output_type": "execute_result"
    }
   ],
   "source": [
    "embedding_matrix = np.zeros((vocab_size, 300))\n",
    "count = 0\n",
    "for word, i in t.word_index.items():\n",
    "    try:\n",
    "        embedding_vector = embeddings_index[word]\n",
    "        embedding_matrix[i] = embedding_vector\n",
    "    except KeyError:\n",
    "        count += 1\n",
    "\n",
    "count"
   ]
  },
  {
   "cell_type": "code",
   "execution_count": 23,
   "metadata": {},
   "outputs": [
    {
     "data": {
      "text/plain": [
       "(19142, 300)"
      ]
     },
     "execution_count": 23,
     "metadata": {},
     "output_type": "execute_result"
    }
   ],
   "source": [
    "embedding_matrix.shape"
   ]
  },
  {
   "cell_type": "code",
   "execution_count": 25,
   "metadata": {},
   "outputs": [],
   "source": [
    "input_tensor = Input(shape=(SEQ_LEN,), dtype='int32')\n",
    "e = Embedding(vocab_size, 300, weights=[embedding_matrix], input_length=SEQ_LEN, trainable=False)(input_tensor)\n",
    "x = Bidirectional(CuDNNLSTM(128, return_sequences=True))(e)\n",
    "x = Bidirectional(CuDNNLSTM(64, return_sequences=False))(x)\n",
    "x = Dense(128, activation='relu')(x)\n",
    "output = Dense(7, activation='softmax')(x)\n",
    "model = Model(input_tensor, output)"
   ]
  },
  {
   "cell_type": "code",
   "execution_count": 26,
   "metadata": {},
   "outputs": [
    {
     "name": "stdout",
     "output_type": "stream",
     "text": [
      "_________________________________________________________________\n",
      "Layer (type)                 Output Shape              Param #   \n",
      "=================================================================\n",
      "input_1 (InputLayer)         (None, 80)                0         \n",
      "_________________________________________________________________\n",
      "embedding_1 (Embedding)      (None, 80, 300)           5742600   \n",
      "_________________________________________________________________\n",
      "bidirectional_1 (Bidirection (None, 80, 256)           440320    \n",
      "_________________________________________________________________\n",
      "bidirectional_2 (Bidirection (None, 128)               164864    \n",
      "_________________________________________________________________\n",
      "dense_1 (Dense)              (None, 128)               16512     \n",
      "_________________________________________________________________\n",
      "dense_2 (Dense)              (None, 7)                 903       \n",
      "=================================================================\n",
      "Total params: 6,365,199\n",
      "Trainable params: 622,599\n",
      "Non-trainable params: 5,742,600\n",
      "_________________________________________________________________\n"
     ]
    }
   ],
   "source": [
    "model.compile(optimizer=Adam(lr=1e-3), loss='categorical_crossentropy', metrics=['accuracy', f1])\n",
    "model.summary()"
   ]
  },
  {
   "cell_type": "code",
   "execution_count": 27,
   "metadata": {},
   "outputs": [
    {
     "data": {
      "text/plain": [
       "(46172, 80)"
      ]
     },
     "execution_count": 27,
     "metadata": {},
     "output_type": "execute_result"
    }
   ],
   "source": [
    "x_train = np.array([np.array(token) for token in df_train.tokens])\n",
    "x_train.shape"
   ]
  },
  {
   "cell_type": "code",
   "execution_count": 28,
   "metadata": {
    "scrolled": true
   },
   "outputs": [
    {
     "name": "stdout",
     "output_type": "stream",
     "text": [
      "Epoch 1/10\n",
      "46172/46172 [==============================] - 48s 1ms/step - loss: 0.5561 - acc: 0.8079 - f1: 0.7987\n",
      "Epoch 2/10\n",
      "46172/46172 [==============================] - 48s 1ms/step - loss: 0.3901 - acc: 0.8600 - f1: 0.8595 0s - loss: 0.3904 - acc: 0.8\n",
      "Epoch 3/10\n",
      "46172/46172 [==============================] - 48s 1ms/step - loss: 0.3390 - acc: 0.8770 - f1: 0.8765A: 13s - loss: 0.3402 - acc: 0.8768 - f1: - ETA:\n",
      "Epoch 4/10\n",
      "46172/46172 [==============================] - 45s 969us/step - loss: 0.3010 - acc: 0.8884 - f1: 0.8879\n",
      "Epoch 5/10\n",
      "46172/46172 [==============================] - 43s 935us/step - loss: 0.2617 - acc: 0.9013 - f1: 0.9012\n",
      "Epoch 6/10\n",
      "46172/46172 [==============================] - 41s 892us/step - loss: 0.2232 - acc: 0.9151 - f1: 0.9156\n",
      "Epoch 7/10\n",
      "46172/46172 [==============================] - 41s 887us/step - loss: 0.1892 - acc: 0.9290 - f1: 0.9289\n",
      "Epoch 8/10\n",
      "46172/46172 [==============================] - 41s 883us/step - loss: 0.1546 - acc: 0.9417 - f1: 0.9422\n",
      "Epoch 9/10\n",
      "46172/46172 [==============================] - 41s 884us/step - loss: 0.1191 - acc: 0.9559 - f1: 0.9556s - loss: 0.1192 - acc: 0.9559 \n",
      "Epoch 10/10\n",
      "46172/46172 [==============================] - 41s 886us/step - loss: 0.0915 - acc: 0.9664 - f1: 0.9667\n"
     ]
    },
    {
     "data": {
      "text/plain": [
       "<keras.callbacks.History at 0x1d0fbff4978>"
      ]
     },
     "execution_count": 28,
     "metadata": {},
     "output_type": "execute_result"
    }
   ],
   "source": [
    "model.fit(x_train, y_train, epochs=10, verbose=1)"
   ]
  },
  {
   "cell_type": "code",
   "execution_count": 29,
   "metadata": {},
   "outputs": [
    {
     "data": {
      "text/plain": [
       "8149"
      ]
     },
     "execution_count": 29,
     "metadata": {},
     "output_type": "execute_result"
    }
   ],
   "source": [
    "encoded_val_set = t.texts_to_sequences(df_val.response)\n",
    "len(encoded_val_set)"
   ]
  },
  {
   "cell_type": "code",
   "execution_count": 30,
   "metadata": {},
   "outputs": [
    {
     "data": {
      "text/html": [
       "<div>\n",
       "<style scoped>\n",
       "    .dataframe tbody tr th:only-of-type {\n",
       "        vertical-align: middle;\n",
       "    }\n",
       "\n",
       "    .dataframe tbody tr th {\n",
       "        vertical-align: top;\n",
       "    }\n",
       "\n",
       "    .dataframe thead th {\n",
       "        text-align: right;\n",
       "    }\n",
       "</style>\n",
       "<table border=\"1\" class=\"dataframe\">\n",
       "  <thead>\n",
       "    <tr style=\"text-align: right;\">\n",
       "      <th></th>\n",
       "      <th>id</th>\n",
       "      <th>period</th>\n",
       "      <th>response</th>\n",
       "      <th>tokens</th>\n",
       "    </tr>\n",
       "  </thead>\n",
       "  <tbody>\n",
       "    <tr>\n",
       "      <th>3419</th>\n",
       "      <td>37301</td>\n",
       "      <td>24h</td>\n",
       "      <td>my son got to play in a big soccer game after ...</td>\n",
       "      <td>[2, 73, 17, 5, 190, 9, 3, 173, 737, 107, 43, 1...</td>\n",
       "    </tr>\n",
       "    <tr>\n",
       "      <th>18762</th>\n",
       "      <td>85992</td>\n",
       "      <td>3m</td>\n",
       "      <td>i got to go to sleep early yesterday.</td>\n",
       "      <td>[1, 17, 5, 82, 5, 270, 262, 68]</td>\n",
       "    </tr>\n",
       "    <tr>\n",
       "      <th>16492</th>\n",
       "      <td>50424</td>\n",
       "      <td>24h</td>\n",
       "      <td>i saw my dad were waiting for me with a glass ...</td>\n",
       "      <td>[1, 131, 2, 281, 87, 344, 8, 10, 12, 3, 1414, ...</td>\n",
       "    </tr>\n",
       "    <tr>\n",
       "      <th>21122</th>\n",
       "      <td>45067</td>\n",
       "      <td>24h</td>\n",
       "      <td>i found a really good deal at the grocery outl...</td>\n",
       "      <td>[1, 65, 3, 46, 40, 509, 20, 6, 569, 5654, 254,...</td>\n",
       "    </tr>\n",
       "    <tr>\n",
       "      <th>32679</th>\n",
       "      <td>56965</td>\n",
       "      <td>24h</td>\n",
       "      <td>today i saw a tv show about the band kiss, i w...</td>\n",
       "      <td>[51, 1, 131, 3, 301, 237, 54, 6, 718, 892, 1, ...</td>\n",
       "    </tr>\n",
       "  </tbody>\n",
       "</table>\n",
       "</div>"
      ],
      "text/plain": [
       "          id period                                           response  \\\n",
       "3419   37301    24h  my son got to play in a big soccer game after ...   \n",
       "18762  85992     3m              i got to go to sleep early yesterday.   \n",
       "16492  50424    24h  i saw my dad were waiting for me with a glass ...   \n",
       "21122  45067    24h  i found a really good deal at the grocery outl...   \n",
       "32679  56965    24h  today i saw a tv show about the band kiss, i w...   \n",
       "\n",
       "                                                  tokens  \n",
       "3419   [2, 73, 17, 5, 190, 9, 3, 173, 737, 107, 43, 1...  \n",
       "18762                    [1, 17, 5, 82, 5, 270, 262, 68]  \n",
       "16492  [1, 131, 2, 281, 87, 344, 8, 10, 12, 3, 1414, ...  \n",
       "21122  [1, 65, 3, 46, 40, 509, 20, 6, 569, 5654, 254,...  \n",
       "32679  [51, 1, 131, 3, 301, 237, 54, 6, 718, 892, 1, ...  "
      ]
     },
     "execution_count": 30,
     "metadata": {},
     "output_type": "execute_result"
    }
   ],
   "source": [
    "df_val['tokens'] = encoded_val_set\n",
    "df_val.head()"
   ]
  },
  {
   "cell_type": "code",
   "execution_count": 31,
   "metadata": {},
   "outputs": [
    {
     "data": {
      "text/html": [
       "<div>\n",
       "<style scoped>\n",
       "    .dataframe tbody tr th:only-of-type {\n",
       "        vertical-align: middle;\n",
       "    }\n",
       "\n",
       "    .dataframe tbody tr th {\n",
       "        vertical-align: top;\n",
       "    }\n",
       "\n",
       "    .dataframe thead th {\n",
       "        text-align: right;\n",
       "    }\n",
       "</style>\n",
       "<table border=\"1\" class=\"dataframe\">\n",
       "  <thead>\n",
       "    <tr style=\"text-align: right;\">\n",
       "      <th></th>\n",
       "      <th>id</th>\n",
       "      <th>period</th>\n",
       "      <th>response</th>\n",
       "      <th>tokens</th>\n",
       "    </tr>\n",
       "  </thead>\n",
       "  <tbody>\n",
       "    <tr>\n",
       "      <th>3419</th>\n",
       "      <td>37301</td>\n",
       "      <td>24h</td>\n",
       "      <td>my son got to play in a big soccer game after ...</td>\n",
       "      <td>[2, 73, 17, 5, 190, 9, 3, 173, 737, 107, 43, 1...</td>\n",
       "    </tr>\n",
       "    <tr>\n",
       "      <th>18762</th>\n",
       "      <td>85992</td>\n",
       "      <td>3m</td>\n",
       "      <td>i got to go to sleep early yesterday.</td>\n",
       "      <td>[1, 17, 5, 82, 5, 270, 262, 68, 0, 0, 0, 0, 0,...</td>\n",
       "    </tr>\n",
       "    <tr>\n",
       "      <th>16492</th>\n",
       "      <td>50424</td>\n",
       "      <td>24h</td>\n",
       "      <td>i saw my dad were waiting for me with a glass ...</td>\n",
       "      <td>[1, 131, 2, 281, 87, 344, 8, 10, 12, 3, 1414, ...</td>\n",
       "    </tr>\n",
       "    <tr>\n",
       "      <th>21122</th>\n",
       "      <td>45067</td>\n",
       "      <td>24h</td>\n",
       "      <td>i found a really good deal at the grocery outl...</td>\n",
       "      <td>[1, 65, 3, 46, 40, 509, 20, 6, 569, 5654, 254,...</td>\n",
       "    </tr>\n",
       "    <tr>\n",
       "      <th>32679</th>\n",
       "      <td>56965</td>\n",
       "      <td>24h</td>\n",
       "      <td>today i saw a tv show about the band kiss, i w...</td>\n",
       "      <td>[51, 1, 131, 3, 301, 237, 54, 6, 718, 892, 1, ...</td>\n",
       "    </tr>\n",
       "  </tbody>\n",
       "</table>\n",
       "</div>"
      ],
      "text/plain": [
       "          id period                                           response  \\\n",
       "3419   37301    24h  my son got to play in a big soccer game after ...   \n",
       "18762  85992     3m              i got to go to sleep early yesterday.   \n",
       "16492  50424    24h  i saw my dad were waiting for me with a glass ...   \n",
       "21122  45067    24h  i found a really good deal at the grocery outl...   \n",
       "32679  56965    24h  today i saw a tv show about the band kiss, i w...   \n",
       "\n",
       "                                                  tokens  \n",
       "3419   [2, 73, 17, 5, 190, 9, 3, 173, 737, 107, 43, 1...  \n",
       "18762  [1, 17, 5, 82, 5, 270, 262, 68, 0, 0, 0, 0, 0,...  \n",
       "16492  [1, 131, 2, 281, 87, 344, 8, 10, 12, 3, 1414, ...  \n",
       "21122  [1, 65, 3, 46, 40, 509, 20, 6, 569, 5654, 254,...  \n",
       "32679  [51, 1, 131, 3, 301, 237, 54, 6, 718, 892, 1, ...  "
      ]
     },
     "execution_count": 31,
     "metadata": {},
     "output_type": "execute_result"
    }
   ],
   "source": [
    "padded_val = pad_sequences(encoded_val_set, maxlen=SEQ_LEN, padding='post')\n",
    "val_vectors = [list(doc) for doc in padded_val]\n",
    "df_val.tokens = val_vectors\n",
    "df_val.head()"
   ]
  },
  {
   "cell_type": "code",
   "execution_count": 32,
   "metadata": {},
   "outputs": [
    {
     "data": {
      "text/plain": [
       "80.0"
      ]
     },
     "execution_count": 32,
     "metadata": {},
     "output_type": "execute_result"
    }
   ],
   "source": [
    "lengths = [len(doc) for doc in val_vectors]\n",
    "np.mean(lengths)"
   ]
  },
  {
   "cell_type": "code",
   "execution_count": 33,
   "metadata": {},
   "outputs": [
    {
     "name": "stdout",
     "output_type": "stream",
     "text": [
      "(8149, 80) (8149, 7)\n"
     ]
    }
   ],
   "source": [
    "x_val = np.array([np.array(token) for token in df_val.tokens])\n",
    "print(x_val.shape, y_val.shape)"
   ]
  },
  {
   "cell_type": "code",
   "execution_count": 34,
   "metadata": {},
   "outputs": [
    {
     "name": "stdout",
     "output_type": "stream",
     "text": [
      "8149/8149 [==============================] - 3s 429us/step\n"
     ]
    },
    {
     "data": {
      "text/plain": [
       "[0.43286853496308475, 0.8793717020639599, 0.8801786997359521]"
      ]
     },
     "execution_count": 34,
     "metadata": {},
     "output_type": "execute_result"
    }
   ],
   "source": [
    "score = model.evaluate(x_val, y_val, verbose=1)\n",
    "score"
   ]
  },
  {
   "cell_type": "markdown",
   "metadata": {},
   "source": [
    "The validation score is 0.879 this time, which is a very small difference from the previous model and we can't objectively say which model is better. Word2Vec is usually slightly better than GloVe on most NLP applications, but this time it wasn't."
   ]
  },
  {
   "cell_type": "markdown",
   "metadata": {},
   "source": [
    "## Debugging\n",
    "\n",
    "Over the last few models, our validation score has parked itself at about 0.88, which leads us to think, is this the best accuracy we can reach? Our training accuracies have almost always surpassed 95%, are we overfitting? Or are we underfitting? Maybe adding more layers interspersed with Dropout layers or other regularization will help?\n",
    "<br>\n",
    "<br>\n",
    "For multi-class classification, if you have flatlined, the answer to these questions is almost always no. This is where you should have a look at your dataset. Plot all charts that you think might be useful and try to gain some insights."
   ]
  },
  {
   "cell_type": "markdown",
   "metadata": {},
   "source": [
    "Maybe plotting the confusion matrix for our last model will help."
   ]
  },
  {
   "cell_type": "code",
   "execution_count": 36,
   "metadata": {},
   "outputs": [
    {
     "name": "stdout",
     "output_type": "stream",
     "text": [
      "8149/8149 [==============================] - 3s 363us/step\n"
     ]
    }
   ],
   "source": [
    "y_pred = model.predict(x_val, verbose=1)"
   ]
  },
  {
   "cell_type": "code",
   "execution_count": 38,
   "metadata": {},
   "outputs": [
    {
     "name": "stdout",
     "output_type": "stream",
     "text": [
      "(8149, 7) (8149, 7)\n"
     ]
    }
   ],
   "source": [
    "print(y_pred.shape, y_val.shape)"
   ]
  },
  {
   "cell_type": "markdown",
   "metadata": {},
   "source": [
    "The confusion matrix can not handle one-hot vectors, let's convert them into integer classes."
   ]
  },
  {
   "cell_type": "code",
   "execution_count": 42,
   "metadata": {},
   "outputs": [],
   "source": [
    "y_pred_class = np.array([np.argmax(x) for x in y_pred])\n",
    "y_val_class = np.array([np.argmax(x) for x in y_val])"
   ]
  },
  {
   "cell_type": "code",
   "execution_count": 44,
   "metadata": {},
   "outputs": [
    {
     "name": "stdout",
     "output_type": "stream",
     "text": [
      "(8149,) (8149,)\n"
     ]
    }
   ],
   "source": [
    "print(y_pred_class.shape, y_val_class.shape)"
   ]
  },
  {
   "cell_type": "code",
   "execution_count": 46,
   "metadata": {},
   "outputs": [],
   "source": [
    "c = confusion_matrix(y_val_class, y_pred_class)\n",
    "classes = [v for k, v in cat_to_label.items()]"
   ]
  },
  {
   "cell_type": "code",
   "execution_count": 47,
   "metadata": {},
   "outputs": [
    {
     "data": {
      "image/png": "[encoded data removed]",
      "text/plain": [
       "<Figure size 1440x1440 with 2 Axes>"
      ]
     },
     "metadata": {
      "needs_background": "light"
     },
     "output_type": "display_data"
    }
   ],
   "source": [
    "plt.figure(figsize=(20, 20))\n",
    "plt.imshow(c, interpolation='nearest', cmap='jet')\n",
    "plt.colorbar()\n",
    "ticks = np.arange(len(classes))\n",
    "plt.xticks(ticks, classes, rotation=45)\n",
    "plt.yticks(ticks, classes)\n",
    "\n",
    "plt.ylabel('True class')\n",
    "plt.xlabel('Predicted class')\n",
    "plt.tight_layout()"
   ]
  },
  {
   "cell_type": "markdown",
   "metadata": {},
   "source": [
    "It classified 'achievement' and 'affection' pretty accurately, was horrible at classifying 'nature' and 'exercise' and pretty bad at everything else. Our model was also somewhat confused between 'achievement' and 'enjoy_the_moment', which, if you think about it, would be the case even for a human sometimes.\n",
    "<br>\n",
    "Right now, our model is basically an affection classifier.\n",
    "The large discrepancy between accuracies of different classes is what stands out and it only means one thing. Class imbalance. Let's plot a pie chart to see how bad it is."
   ]
  },
  {
   "cell_type": "code",
   "execution_count": 48,
   "metadata": {},
   "outputs": [
    {
     "data": {
      "image/png": "[encoded data removed]",
      "text/plain": [
       "<Figure size 504x504 with 1 Axes>"
      ]
     },
     "metadata": {},
     "output_type": "display_data"
    }
   ],
   "source": [
    "plt.figure(figsize=(7, 7))\n",
    "plt.pie(labels.sentiment.value_counts(), labels=classes);"
   ]
  },
  {
   "cell_type": "markdown",
   "metadata": {},
   "source": [
    "Turns out, its pretty bad!"
   ]
  },
  {
   "cell_type": "code",
   "execution_count": 51,
   "metadata": {},
   "outputs": [
    {
     "data": {
      "text/plain": [
       "affection           18817\n",
       "achievement         18250\n",
       "bonding              5930\n",
       "enjoy_the_moment     5839\n",
       "leisure              3809\n",
       "nature               1017\n",
       "exercise              659\n",
       "Name: sentiment, dtype: int64"
      ]
     },
     "execution_count": 51,
     "metadata": {},
     "output_type": "execute_result"
    }
   ],
   "source": [
    "labels.sentiment.value_counts()"
   ]
  },
  {
   "cell_type": "markdown",
   "metadata": {},
   "source": [
    "The smallest class, 'exercise' has about 3.5% the number of samples as the largest class, 'achievement'.\n",
    "<br>\n",
    "Ideally you would want the exact same number of samples for all classes in your training set. In practice, a little variance doesn't hurt.\n",
    "<br>\n",
    "<br>\n",
    "## Sampling\n",
    "To overcome this problem, there are a few things we can do, the first being sampling. To balance our datasets, we can __oversample__ instances of the minority class or __undersample__ instances of the majority class.\n",
    "<br>\n",
    "Both come with their disadvantages however, which are more prominent in datasets with a greater imbalance, like ours.\n",
    "<br>\n",
    "__Oversampling__ the minority overfits the model because of the high duplication, while __undersampling__ might leave crucial information out.\n",
    "A more powerful sampling method __SMOTE__, artificially generates new instances of the minority class by forming combinations of neighboring clusters, but this still doesn't eliminate overfitting.\n",
    "<br>\n",
    "<br>\n",
    "We won't try undersampling, as it would leave our training set with about 4500 samples, which is too small even for binary classification.\n",
    "<br>\n",
    "Let's try oversampling. We'll not make the number of samples exactly equal, but bring it within the same ballpark."
   ]
  },
  {
   "cell_type": "markdown",
   "metadata": {},
   "source": [
    "We'll start afresh"
   ]
  },
  {
   "cell_type": "code",
   "execution_count": 3,
   "metadata": {},
   "outputs": [
    {
     "data": {
      "text/html": [
       "<div>\n",
       "<style scoped>\n",
       "    .dataframe tbody tr th:only-of-type {\n",
       "        vertical-align: middle;\n",
       "    }\n",
       "\n",
       "    .dataframe tbody tr th {\n",
       "        vertical-align: top;\n",
       "    }\n",
       "\n",
       "    .dataframe thead th {\n",
       "        text-align: right;\n",
       "    }\n",
       "</style>\n",
       "<table border=\"1\" class=\"dataframe\">\n",
       "  <thead>\n",
       "    <tr style=\"text-align: right;\">\n",
       "      <th></th>\n",
       "      <th>id</th>\n",
       "      <th>period</th>\n",
       "      <th>response</th>\n",
       "      <th>n</th>\n",
       "      <th>sentiment</th>\n",
       "    </tr>\n",
       "  </thead>\n",
       "  <tbody>\n",
       "    <tr>\n",
       "      <th>0</th>\n",
       "      <td>69658</td>\n",
       "      <td>3m</td>\n",
       "      <td>Getting praised for how i do my job from my boss</td>\n",
       "      <td>1</td>\n",
       "      <td>achievement</td>\n",
       "    </tr>\n",
       "    <tr>\n",
       "      <th>1</th>\n",
       "      <td>42174</td>\n",
       "      <td>24h</td>\n",
       "      <td>I put freshly laundered sheets on my bed, took...</td>\n",
       "      <td>1</td>\n",
       "      <td>enjoy_the_moment</td>\n",
       "    </tr>\n",
       "    <tr>\n",
       "      <th>2</th>\n",
       "      <td>29234</td>\n",
       "      <td>24h</td>\n",
       "      <td>Having sex with my wife</td>\n",
       "      <td>1</td>\n",
       "      <td>affection</td>\n",
       "    </tr>\n",
       "    <tr>\n",
       "      <th>3</th>\n",
       "      <td>62384</td>\n",
       "      <td>3m</td>\n",
       "      <td>I hate to admit it, but of the things that mad...</td>\n",
       "      <td>1</td>\n",
       "      <td>achievement</td>\n",
       "    </tr>\n",
       "    <tr>\n",
       "      <th>4</th>\n",
       "      <td>33806</td>\n",
       "      <td>24h</td>\n",
       "      <td>I saw my partner smile at our brain injury sup...</td>\n",
       "      <td>1</td>\n",
       "      <td>bonding</td>\n",
       "    </tr>\n",
       "  </tbody>\n",
       "</table>\n",
       "</div>"
      ],
      "text/plain": [
       "      id period                                           response  n  \\\n",
       "0  69658     3m   Getting praised for how i do my job from my boss  1   \n",
       "1  42174    24h  I put freshly laundered sheets on my bed, took...  1   \n",
       "2  29234    24h                           Having sex with my wife   1   \n",
       "3  62384     3m  I hate to admit it, but of the things that mad...  1   \n",
       "4  33806    24h  I saw my partner smile at our brain injury sup...  1   \n",
       "\n",
       "          sentiment  \n",
       "0       achievement  \n",
       "1  enjoy_the_moment  \n",
       "2         affection  \n",
       "3       achievement  \n",
       "4           bonding  "
      ]
     },
     "execution_count": 3,
     "metadata": {},
     "output_type": "execute_result"
    }
   ],
   "source": [
    "df = pd.read_csv('D:/Datasets/mc-sent/p_train.csv', low_memory=False)\n",
    "df.head()"
   ]
  },
  {
   "cell_type": "markdown",
   "metadata": {},
   "source": [
    "We need to first split our training and validation sets. Since we normally wouldn't augment our test set, we shouldn't augment our validation set either."
   ]
  },
  {
   "cell_type": "code",
   "execution_count": 4,
   "metadata": {},
   "outputs": [],
   "source": [
    "df, df_val = train_test_split(df, test_size=0.15, random_state=42)"
   ]
  },
  {
   "cell_type": "code",
   "execution_count": 5,
   "metadata": {},
   "outputs": [],
   "source": [
    "labels = df[['id', 'sentiment']]"
   ]
  },
  {
   "cell_type": "code",
   "execution_count": 6,
   "metadata": {},
   "outputs": [
    {
     "data": {
      "text/plain": [
       "['achievement',\n",
       " 'affection',\n",
       " 'bonding',\n",
       " 'enjoy_the_moment',\n",
       " 'exercise',\n",
       " 'leisure',\n",
       " 'nature']"
      ]
     },
     "execution_count": 6,
     "metadata": {},
     "output_type": "execute_result"
    }
   ],
   "source": [
    "classes = sorted(labels.sentiment.unique())\n",
    "classes"
   ]
  },
  {
   "cell_type": "markdown",
   "metadata": {},
   "source": [
    "Let's separate the dataframes by sentiment."
   ]
  },
  {
   "cell_type": "code",
   "execution_count": 7,
   "metadata": {},
   "outputs": [],
   "source": [
    "dfs = []\n",
    "for sentiment in classes:\n",
    "    df_temp = df.where(df.sentiment == sentiment)\n",
    "    df_temp.dropna(axis=0, inplace=True)\n",
    "    dfs.append(df_temp)"
   ]
  },
  {
   "cell_type": "code",
   "execution_count": 8,
   "metadata": {},
   "outputs": [],
   "source": [
    "ls = [len(df) for df in dfs]"
   ]
  },
  {
   "cell_type": "code",
   "execution_count": 9,
   "metadata": {},
   "outputs": [
    {
     "data": {
      "text/html": [
       "<div>\n",
       "<style scoped>\n",
       "    .dataframe tbody tr th:only-of-type {\n",
       "        vertical-align: middle;\n",
       "    }\n",
       "\n",
       "    .dataframe tbody tr th {\n",
       "        vertical-align: top;\n",
       "    }\n",
       "\n",
       "    .dataframe thead th {\n",
       "        text-align: right;\n",
       "    }\n",
       "</style>\n",
       "<table border=\"1\" class=\"dataframe\">\n",
       "  <thead>\n",
       "    <tr style=\"text-align: right;\">\n",
       "      <th></th>\n",
       "      <th>id</th>\n",
       "      <th>period</th>\n",
       "      <th>response</th>\n",
       "      <th>n</th>\n",
       "      <th>sentiment</th>\n",
       "    </tr>\n",
       "  </thead>\n",
       "  <tbody>\n",
       "    <tr>\n",
       "      <th>3161</th>\n",
       "      <td>58661.0</td>\n",
       "      <td>3m</td>\n",
       "      <td>I discovered a new software, Thunkable, that w...</td>\n",
       "      <td>1.0</td>\n",
       "      <td>achievement</td>\n",
       "    </tr>\n",
       "    <tr>\n",
       "      <th>29640</th>\n",
       "      <td>59683.0</td>\n",
       "      <td>3m</td>\n",
       "      <td>I found an alternate source of income.</td>\n",
       "      <td>1.0</td>\n",
       "      <td>achievement</td>\n",
       "    </tr>\n",
       "    <tr>\n",
       "      <th>47087</th>\n",
       "      <td>88253.0</td>\n",
       "      <td>3m</td>\n",
       "      <td>I passed the test for my Commercial Driver Lic...</td>\n",
       "      <td>1.0</td>\n",
       "      <td>achievement</td>\n",
       "    </tr>\n",
       "    <tr>\n",
       "      <th>3597</th>\n",
       "      <td>29596.0</td>\n",
       "      <td>24h</td>\n",
       "      <td>Taking a seat after hours of sorting files, an...</td>\n",
       "      <td>1.0</td>\n",
       "      <td>achievement</td>\n",
       "    </tr>\n",
       "    <tr>\n",
       "      <th>29155</th>\n",
       "      <td>68011.0</td>\n",
       "      <td>3m</td>\n",
       "      <td>I just completed the show for my improv class ...</td>\n",
       "      <td>3.0</td>\n",
       "      <td>achievement</td>\n",
       "    </tr>\n",
       "  </tbody>\n",
       "</table>\n",
       "</div>"
      ],
      "text/plain": [
       "            id period                                           response    n  \\\n",
       "3161   58661.0     3m  I discovered a new software, Thunkable, that w...  1.0   \n",
       "29640  59683.0     3m             I found an alternate source of income.  1.0   \n",
       "47087  88253.0     3m  I passed the test for my Commercial Driver Lic...  1.0   \n",
       "3597   29596.0    24h  Taking a seat after hours of sorting files, an...  1.0   \n",
       "29155  68011.0     3m  I just completed the show for my improv class ...  3.0   \n",
       "\n",
       "         sentiment  \n",
       "3161   achievement  \n",
       "29640  achievement  \n",
       "47087  achievement  \n",
       "3597   achievement  \n",
       "29155  achievement  "
      ]
     },
     "execution_count": 9,
     "metadata": {},
     "output_type": "execute_result"
    }
   ],
   "source": [
    "dfs[0].head()"
   ]
  },
  {
   "cell_type": "code",
   "execution_count": 10,
   "metadata": {},
   "outputs": [
    {
     "data": {
      "text/plain": [
       "[15580, 15917, 5059, 4964, 555, 3234, 863]"
      ]
     },
     "execution_count": 10,
     "metadata": {},
     "output_type": "execute_result"
    }
   ],
   "source": [
    "ls"
   ]
  },
  {
   "cell_type": "markdown",
   "metadata": {},
   "source": [
    "`pd.concat([df] * int(max(lengths) / len(df))` generates a new dataframe with `df` replicated the required number of times.\n",
    "<br>\n",
    "We can write a one-liner to generate a list of augmented dataframes."
   ]
  },
  {
   "cell_type": "code",
   "execution_count": 11,
   "metadata": {},
   "outputs": [],
   "source": [
    "new_dfs = [pd.concat([df]*int(max(ls)/len(df)), ignore_index=True) \n",
    "           for df in dfs]"
   ]
  },
  {
   "cell_type": "code",
   "execution_count": 12,
   "metadata": {},
   "outputs": [],
   "source": [
    "new_ls = [len(df) for df in new_dfs]"
   ]
  },
  {
   "cell_type": "code",
   "execution_count": 13,
   "metadata": {},
   "outputs": [
    {
     "data": {
      "text/plain": [
       "[15580, 15917, 15177, 14892, 15540, 12936, 15534]"
      ]
     },
     "execution_count": 13,
     "metadata": {},
     "output_type": "execute_result"
    }
   ],
   "source": [
    "new_ls"
   ]
  },
  {
   "cell_type": "markdown",
   "metadata": {},
   "source": [
    "The new classes look pretty balanced. Let's concatenate everything into one large dataframe"
   ]
  },
  {
   "cell_type": "code",
   "execution_count": 14,
   "metadata": {},
   "outputs": [],
   "source": [
    "df = pd.concat(new_dfs, ignore_index=True)"
   ]
  },
  {
   "cell_type": "code",
   "execution_count": 15,
   "metadata": {},
   "outputs": [
    {
     "name": "stdout",
     "output_type": "stream",
     "text": [
      "(105576, 5) 105576\n"
     ]
    },
    {
     "data": {
      "text/plain": [
       "['achievement',\n",
       " 'affection',\n",
       " 'bonding',\n",
       " 'enjoy_the_moment',\n",
       " 'exercise',\n",
       " 'leisure',\n",
       " 'nature']"
      ]
     },
     "execution_count": 15,
     "metadata": {},
     "output_type": "execute_result"
    }
   ],
   "source": [
    "labels = df[['id', 'sentiment']]\n",
    "print(df.shape, len(labels))\n",
    "classes = sorted(labels.sentiment.unique())\n",
    "classes"
   ]
  },
  {
   "cell_type": "code",
   "execution_count": 16,
   "metadata": {},
   "outputs": [
    {
     "data": {
      "image/png": "[encoded data removed]",
      "text/plain": [
       "<Figure size 504x504 with 1 Axes>"
      ]
     },
     "metadata": {},
     "output_type": "display_data"
    }
   ],
   "source": [
    "plt.figure(figsize=(7, 7))\n",
    "plt.pie(labels.sentiment.value_counts(), labels=classes);"
   ]
  },
  {
   "cell_type": "markdown",
   "metadata": {},
   "source": [
    "Looks good. We just have to try preventing overfitting."
   ]
  },
  {
   "cell_type": "code",
   "execution_count": 17,
   "metadata": {},
   "outputs": [],
   "source": [
    "df.drop(['n', 'sentiment'], axis=1, inplace=True)"
   ]
  },
  {
   "cell_type": "code",
   "execution_count": 18,
   "metadata": {},
   "outputs": [],
   "source": [
    "label_to_cat = dict()\n",
    "for i in range(len(classes)):\n",
    "    dummy = np.zeros((len(classes),), dtype='int8')\n",
    "    dummy[i] = 1\n",
    "    label_to_cat[classes[i]] = dummy"
   ]
  },
  {
   "cell_type": "code",
   "execution_count": 19,
   "metadata": {},
   "outputs": [],
   "source": [
    "cat_to_label = dict()\n",
    "for k, v in label_to_cat.items():\n",
    "    cat_to_label[tuple(v)] = k"
   ]
  },
  {
   "cell_type": "code",
   "execution_count": 20,
   "metadata": {},
   "outputs": [],
   "source": [
    "y = np.array([label_to_cat[label] for label in labels.sentiment])"
   ]
  },
  {
   "cell_type": "code",
   "execution_count": 21,
   "metadata": {},
   "outputs": [
    {
     "data": {
      "text/plain": [
       "array([[1, 0, 0, 0, 0, 0, 0],\n",
       "       [1, 0, 0, 0, 0, 0, 0],\n",
       "       [1, 0, 0, 0, 0, 0, 0],\n",
       "       [1, 0, 0, 0, 0, 0, 0],\n",
       "       [1, 0, 0, 0, 0, 0, 0]], dtype=int8)"
      ]
     },
     "execution_count": 21,
     "metadata": {},
     "output_type": "execute_result"
    }
   ],
   "source": [
    "y[:5]"
   ]
  },
  {
   "cell_type": "code",
   "execution_count": 22,
   "metadata": {},
   "outputs": [
    {
     "data": {
      "text/html": [
       "<div>\n",
       "<style scoped>\n",
       "    .dataframe tbody tr th:only-of-type {\n",
       "        vertical-align: middle;\n",
       "    }\n",
       "\n",
       "    .dataframe tbody tr th {\n",
       "        vertical-align: top;\n",
       "    }\n",
       "\n",
       "    .dataframe thead th {\n",
       "        text-align: right;\n",
       "    }\n",
       "</style>\n",
       "<table border=\"1\" class=\"dataframe\">\n",
       "  <thead>\n",
       "    <tr style=\"text-align: right;\">\n",
       "      <th></th>\n",
       "      <th>id</th>\n",
       "      <th>period</th>\n",
       "      <th>response</th>\n",
       "    </tr>\n",
       "  </thead>\n",
       "  <tbody>\n",
       "    <tr>\n",
       "      <th>0</th>\n",
       "      <td>58661.0</td>\n",
       "      <td>3m</td>\n",
       "      <td>i discovered a new software, thunkable, that w...</td>\n",
       "    </tr>\n",
       "    <tr>\n",
       "      <th>1</th>\n",
       "      <td>59683.0</td>\n",
       "      <td>3m</td>\n",
       "      <td>i found an alternate source of income.</td>\n",
       "    </tr>\n",
       "    <tr>\n",
       "      <th>2</th>\n",
       "      <td>88253.0</td>\n",
       "      <td>3m</td>\n",
       "      <td>i passed the test for my commercial driver lic...</td>\n",
       "    </tr>\n",
       "    <tr>\n",
       "      <th>3</th>\n",
       "      <td>29596.0</td>\n",
       "      <td>24h</td>\n",
       "      <td>taking a seat after hours of sorting files, an...</td>\n",
       "    </tr>\n",
       "    <tr>\n",
       "      <th>4</th>\n",
       "      <td>68011.0</td>\n",
       "      <td>3m</td>\n",
       "      <td>i just completed the show for my improv class ...</td>\n",
       "    </tr>\n",
       "  </tbody>\n",
       "</table>\n",
       "</div>"
      ],
      "text/plain": [
       "        id period                                           response\n",
       "0  58661.0     3m  i discovered a new software, thunkable, that w...\n",
       "1  59683.0     3m             i found an alternate source of income.\n",
       "2  88253.0     3m  i passed the test for my commercial driver lic...\n",
       "3  29596.0    24h  taking a seat after hours of sorting files, an...\n",
       "4  68011.0     3m  i just completed the show for my improv class ..."
      ]
     },
     "execution_count": 22,
     "metadata": {},
     "output_type": "execute_result"
    }
   ],
   "source": [
    "df.response = df.response.apply(str.lower)\n",
    "df.head()"
   ]
  },
  {
   "cell_type": "markdown",
   "metadata": {},
   "source": [
    "Let's shuffle the dataset."
   ]
  },
  {
   "cell_type": "code",
   "execution_count": 23,
   "metadata": {},
   "outputs": [],
   "source": [
    "df_train, _, y_train, _ = train_test_split(df, y, test_size=0, random_state=42)"
   ]
  },
  {
   "cell_type": "code",
   "execution_count": 24,
   "metadata": {},
   "outputs": [
    {
     "name": "stdout",
     "output_type": "stream",
     "text": [
      "(105576, 3) (105576, 7)\n",
      "(8149, 5)\n"
     ]
    }
   ],
   "source": [
    "print(df_train.shape, y_train.shape)\n",
    "print(df_val.shape)"
   ]
  },
  {
   "cell_type": "markdown",
   "metadata": {},
   "source": [
    "We'll use the GoogleNews Word2Vec model to train on this set. All the steps are exactly the same."
   ]
  },
  {
   "cell_type": "code",
   "execution_count": 25,
   "metadata": {},
   "outputs": [],
   "source": [
    "t = Tokenizer()\n",
    "t.fit_on_texts(df_train.response)\n",
    "vocab_size = len(t.word_index) + 1"
   ]
  },
  {
   "cell_type": "code",
   "execution_count": 26,
   "metadata": {},
   "outputs": [
    {
     "data": {
      "text/plain": [
       "19142"
      ]
     },
     "execution_count": 26,
     "metadata": {},
     "output_type": "execute_result"
    }
   ],
   "source": [
    "vocab_size"
   ]
  },
  {
   "cell_type": "code",
   "execution_count": 27,
   "metadata": {},
   "outputs": [
    {
     "data": {
      "text/plain": [
       "105576"
      ]
     },
     "execution_count": 27,
     "metadata": {},
     "output_type": "execute_result"
    }
   ],
   "source": [
    "encoded_train_set = t.texts_to_sequences(df_train.response)\n",
    "len(encoded_train_set)"
   ]
  },
  {
   "cell_type": "code",
   "execution_count": 28,
   "metadata": {},
   "outputs": [
    {
     "data": {
      "text/html": [
       "<div>\n",
       "<style scoped>\n",
       "    .dataframe tbody tr th:only-of-type {\n",
       "        vertical-align: middle;\n",
       "    }\n",
       "\n",
       "    .dataframe tbody tr th {\n",
       "        vertical-align: top;\n",
       "    }\n",
       "\n",
       "    .dataframe thead th {\n",
       "        text-align: right;\n",
       "    }\n",
       "</style>\n",
       "<table border=\"1\" class=\"dataframe\">\n",
       "  <thead>\n",
       "    <tr style=\"text-align: right;\">\n",
       "      <th></th>\n",
       "      <th>id</th>\n",
       "      <th>period</th>\n",
       "      <th>tokens</th>\n",
       "    </tr>\n",
       "  </thead>\n",
       "  <tbody>\n",
       "    <tr>\n",
       "      <th>41981</th>\n",
       "      <td>35119.0</td>\n",
       "      <td>24h</td>\n",
       "      <td>[1, 197, 14, 126, 43, 9, 2, 679, 465, 4, 204, ...</td>\n",
       "    </tr>\n",
       "    <tr>\n",
       "      <th>35062</th>\n",
       "      <td>74348.0</td>\n",
       "      <td>3m</td>\n",
       "      <td>[4709, 2, 131, 271, 14, 43]</td>\n",
       "    </tr>\n",
       "    <tr>\n",
       "      <th>75176</th>\n",
       "      <td>81120.0</td>\n",
       "      <td>3m</td>\n",
       "      <td>[1, 107, 405, 3190, 3266, 533, 4, 1, 266, 2, 4...</td>\n",
       "    </tr>\n",
       "    <tr>\n",
       "      <th>77063</th>\n",
       "      <td>70725.0</td>\n",
       "      <td>3m</td>\n",
       "      <td>[1, 16, 3, 176]</td>\n",
       "    </tr>\n",
       "    <tr>\n",
       "      <th>60382</th>\n",
       "      <td>59872.0</td>\n",
       "      <td>3m</td>\n",
       "      <td>[158, 1187, 13, 468, 126, 953, 72, 5337, 4289,...</td>\n",
       "    </tr>\n",
       "  </tbody>\n",
       "</table>\n",
       "</div>"
      ],
      "text/plain": [
       "            id period                                             tokens\n",
       "41981  35119.0    24h  [1, 197, 14, 126, 43, 9, 2, 679, 465, 4, 204, ...\n",
       "35062  74348.0     3m                        [4709, 2, 131, 271, 14, 43]\n",
       "75176  81120.0     3m  [1, 107, 405, 3190, 3266, 533, 4, 1, 266, 2, 4...\n",
       "77063  70725.0     3m                                    [1, 16, 3, 176]\n",
       "60382  59872.0     3m  [158, 1187, 13, 468, 126, 953, 72, 5337, 4289,..."
      ]
     },
     "execution_count": 28,
     "metadata": {},
     "output_type": "execute_result"
    }
   ],
   "source": [
    "df_train['tokens'] = encoded_train_set\n",
    "df_train.drop(['response'], axis=1, inplace=True)\n",
    "df_train.head()"
   ]
  },
  {
   "cell_type": "code",
   "execution_count": 29,
   "metadata": {},
   "outputs": [
    {
     "data": {
      "text/plain": [
       "array([[0, 0, 1, 0, 0, 0, 0],\n",
       "       [0, 0, 1, 0, 0, 0, 0],\n",
       "       [0, 0, 0, 0, 1, 0, 0],\n",
       "       [0, 0, 0, 0, 1, 0, 0],\n",
       "       [0, 0, 0, 1, 0, 0, 0]], dtype=int8)"
      ]
     },
     "execution_count": 29,
     "metadata": {},
     "output_type": "execute_result"
    }
   ],
   "source": [
    "y_train[:5]"
   ]
  },
  {
   "cell_type": "code",
   "execution_count": 30,
   "metadata": {},
   "outputs": [],
   "source": [
    "SEQ_LEN = 80\n",
    "padded_train = pad_sequences(encoded_train_set, maxlen=SEQ_LEN, padding='post')"
   ]
  },
  {
   "cell_type": "code",
   "execution_count": 31,
   "metadata": {},
   "outputs": [],
   "source": [
    "train_vectors = [list(doc) for doc in padded_train]\n",
    "df_train.tokens = train_vectors"
   ]
  },
  {
   "cell_type": "code",
   "execution_count": 32,
   "metadata": {},
   "outputs": [
    {
     "data": {
      "text/plain": [
       "80.0"
      ]
     },
     "execution_count": 32,
     "metadata": {},
     "output_type": "execute_result"
    }
   ],
   "source": [
    "np.mean([len(doc) for doc in train_vectors])"
   ]
  },
  {
   "cell_type": "code",
   "execution_count": 33,
   "metadata": {},
   "outputs": [],
   "source": [
    "embeddings_index = gensim.models.KeyedVectors.load_word2vec_format('D:/Datasets/embeddings/Word2Vec/GoogleNews-vectors-negative300.bin', binary=True)"
   ]
  },
  {
   "cell_type": "code",
   "execution_count": 34,
   "metadata": {},
   "outputs": [
    {
     "data": {
      "text/plain": [
       "2599"
      ]
     },
     "execution_count": 34,
     "metadata": {},
     "output_type": "execute_result"
    }
   ],
   "source": [
    "embedding_matrix = np.zeros((vocab_size, 300))\n",
    "count = 0\n",
    "for word, i in t.word_index.items():\n",
    "    try:\n",
    "        embedding_vector = embeddings_index[word]\n",
    "        embedding_matrix[i] = embedding_vector\n",
    "    except KeyError:\n",
    "        count += 1\n",
    "\n",
    "count"
   ]
  },
  {
   "cell_type": "code",
   "execution_count": 35,
   "metadata": {},
   "outputs": [
    {
     "data": {
      "text/plain": [
       "(19142, 300)"
      ]
     },
     "execution_count": 35,
     "metadata": {},
     "output_type": "execute_result"
    }
   ],
   "source": [
    "embedding_matrix.shape"
   ]
  },
  {
   "cell_type": "code",
   "execution_count": 36,
   "metadata": {},
   "outputs": [],
   "source": [
    "input_tensor = Input(shape=(SEQ_LEN,), dtype='int32')\n",
    "e = Embedding(vocab_size, 300, weights=[embedding_matrix], input_length=SEQ_LEN, trainable=False)(input_tensor)\n",
    "x = Bidirectional(CuDNNLSTM(128, return_sequences=True))(e)\n",
    "x = Bidirectional(CuDNNLSTM(64, return_sequences=False))(x)\n",
    "x = Dense(128, activation='relu')(x)\n",
    "output = Dense(7, activation='softmax')(x)\n",
    "model = Model(input_tensor, output)"
   ]
  },
  {
   "cell_type": "markdown",
   "metadata": {},
   "source": [
    "This will take longer to train, so let's validate after each epoch and save a checkpoint each time our validation score increases.\n",
    "We just need to prepare our validation set."
   ]
  },
  {
   "cell_type": "code",
   "execution_count": 37,
   "metadata": {},
   "outputs": [
    {
     "data": {
      "text/html": [
       "<div>\n",
       "<style scoped>\n",
       "    .dataframe tbody tr th:only-of-type {\n",
       "        vertical-align: middle;\n",
       "    }\n",
       "\n",
       "    .dataframe tbody tr th {\n",
       "        vertical-align: top;\n",
       "    }\n",
       "\n",
       "    .dataframe thead th {\n",
       "        text-align: right;\n",
       "    }\n",
       "</style>\n",
       "<table border=\"1\" class=\"dataframe\">\n",
       "  <thead>\n",
       "    <tr style=\"text-align: right;\">\n",
       "      <th></th>\n",
       "      <th>id</th>\n",
       "      <th>period</th>\n",
       "      <th>response</th>\n",
       "      <th>n</th>\n",
       "      <th>sentiment</th>\n",
       "    </tr>\n",
       "  </thead>\n",
       "  <tbody>\n",
       "    <tr>\n",
       "      <th>3419</th>\n",
       "      <td>37301</td>\n",
       "      <td>24h</td>\n",
       "      <td>My son got to play in a big soccer game after ...</td>\n",
       "      <td>1</td>\n",
       "      <td>affection</td>\n",
       "    </tr>\n",
       "    <tr>\n",
       "      <th>18762</th>\n",
       "      <td>85992</td>\n",
       "      <td>3m</td>\n",
       "      <td>I got to go to sleep early yesterday.</td>\n",
       "      <td>1</td>\n",
       "      <td>enjoy_the_moment</td>\n",
       "    </tr>\n",
       "    <tr>\n",
       "      <th>16492</th>\n",
       "      <td>50424</td>\n",
       "      <td>24h</td>\n",
       "      <td>I saw my dad were waiting for me with a glass ...</td>\n",
       "      <td>1</td>\n",
       "      <td>enjoy_the_moment</td>\n",
       "    </tr>\n",
       "    <tr>\n",
       "      <th>21122</th>\n",
       "      <td>45067</td>\n",
       "      <td>24h</td>\n",
       "      <td>I found a really good deal at the Grocery Outl...</td>\n",
       "      <td>1</td>\n",
       "      <td>achievement</td>\n",
       "    </tr>\n",
       "    <tr>\n",
       "      <th>32679</th>\n",
       "      <td>56965</td>\n",
       "      <td>24h</td>\n",
       "      <td>Today I saw a tv show about the band Kiss, I w...</td>\n",
       "      <td>1</td>\n",
       "      <td>leisure</td>\n",
       "    </tr>\n",
       "  </tbody>\n",
       "</table>\n",
       "</div>"
      ],
      "text/plain": [
       "          id period                                           response  n  \\\n",
       "3419   37301    24h  My son got to play in a big soccer game after ...  1   \n",
       "18762  85992     3m              I got to go to sleep early yesterday.  1   \n",
       "16492  50424    24h  I saw my dad were waiting for me with a glass ...  1   \n",
       "21122  45067    24h  I found a really good deal at the Grocery Outl...  1   \n",
       "32679  56965    24h  Today I saw a tv show about the band Kiss, I w...  1   \n",
       "\n",
       "              sentiment  \n",
       "3419          affection  \n",
       "18762  enjoy_the_moment  \n",
       "16492  enjoy_the_moment  \n",
       "21122       achievement  \n",
       "32679           leisure  "
      ]
     },
     "execution_count": 37,
     "metadata": {},
     "output_type": "execute_result"
    }
   ],
   "source": [
    "df_val.head()"
   ]
  },
  {
   "cell_type": "code",
   "execution_count": 38,
   "metadata": {},
   "outputs": [],
   "source": [
    "val_labels = df_val[['id', 'sentiment']]"
   ]
  },
  {
   "cell_type": "code",
   "execution_count": 39,
   "metadata": {},
   "outputs": [
    {
     "data": {
      "text/html": [
       "<div>\n",
       "<style scoped>\n",
       "    .dataframe tbody tr th:only-of-type {\n",
       "        vertical-align: middle;\n",
       "    }\n",
       "\n",
       "    .dataframe tbody tr th {\n",
       "        vertical-align: top;\n",
       "    }\n",
       "\n",
       "    .dataframe thead th {\n",
       "        text-align: right;\n",
       "    }\n",
       "</style>\n",
       "<table border=\"1\" class=\"dataframe\">\n",
       "  <thead>\n",
       "    <tr style=\"text-align: right;\">\n",
       "      <th></th>\n",
       "      <th>id</th>\n",
       "      <th>period</th>\n",
       "      <th>response</th>\n",
       "    </tr>\n",
       "  </thead>\n",
       "  <tbody>\n",
       "    <tr>\n",
       "      <th>3419</th>\n",
       "      <td>37301</td>\n",
       "      <td>24h</td>\n",
       "      <td>my son got to play in a big soccer game after ...</td>\n",
       "    </tr>\n",
       "    <tr>\n",
       "      <th>18762</th>\n",
       "      <td>85992</td>\n",
       "      <td>3m</td>\n",
       "      <td>i got to go to sleep early yesterday.</td>\n",
       "    </tr>\n",
       "    <tr>\n",
       "      <th>16492</th>\n",
       "      <td>50424</td>\n",
       "      <td>24h</td>\n",
       "      <td>i saw my dad were waiting for me with a glass ...</td>\n",
       "    </tr>\n",
       "    <tr>\n",
       "      <th>21122</th>\n",
       "      <td>45067</td>\n",
       "      <td>24h</td>\n",
       "      <td>i found a really good deal at the grocery outl...</td>\n",
       "    </tr>\n",
       "    <tr>\n",
       "      <th>32679</th>\n",
       "      <td>56965</td>\n",
       "      <td>24h</td>\n",
       "      <td>today i saw a tv show about the band kiss, i w...</td>\n",
       "    </tr>\n",
       "  </tbody>\n",
       "</table>\n",
       "</div>"
      ],
      "text/plain": [
       "          id period                                           response\n",
       "3419   37301    24h  my son got to play in a big soccer game after ...\n",
       "18762  85992     3m              i got to go to sleep early yesterday.\n",
       "16492  50424    24h  i saw my dad were waiting for me with a glass ...\n",
       "21122  45067    24h  i found a really good deal at the grocery outl...\n",
       "32679  56965    24h  today i saw a tv show about the band kiss, i w..."
      ]
     },
     "execution_count": 39,
     "metadata": {},
     "output_type": "execute_result"
    }
   ],
   "source": [
    "df_val.drop(['n', 'sentiment'], axis=1, inplace=True)\n",
    "df_val.response = df_val.response.str.lower()\n",
    "df_val.head()"
   ]
  },
  {
   "cell_type": "code",
   "execution_count": 40,
   "metadata": {},
   "outputs": [
    {
     "data": {
      "text/plain": [
       "18.495766351699594"
      ]
     },
     "execution_count": 40,
     "metadata": {},
     "output_type": "execute_result"
    }
   ],
   "source": [
    "encoded_val_set = t.texts_to_sequences(df_val.response)\n",
    "np.mean([len(doc) for doc in encoded_val_set])"
   ]
  },
  {
   "cell_type": "code",
   "execution_count": 41,
   "metadata": {},
   "outputs": [
    {
     "data": {
      "text/html": [
       "<div>\n",
       "<style scoped>\n",
       "    .dataframe tbody tr th:only-of-type {\n",
       "        vertical-align: middle;\n",
       "    }\n",
       "\n",
       "    .dataframe tbody tr th {\n",
       "        vertical-align: top;\n",
       "    }\n",
       "\n",
       "    .dataframe thead th {\n",
       "        text-align: right;\n",
       "    }\n",
       "</style>\n",
       "<table border=\"1\" class=\"dataframe\">\n",
       "  <thead>\n",
       "    <tr style=\"text-align: right;\">\n",
       "      <th></th>\n",
       "      <th>id</th>\n",
       "      <th>period</th>\n",
       "      <th>tokens</th>\n",
       "    </tr>\n",
       "  </thead>\n",
       "  <tbody>\n",
       "    <tr>\n",
       "      <th>3419</th>\n",
       "      <td>37301</td>\n",
       "      <td>24h</td>\n",
       "      <td>[6, 155, 20, 5, 194, 8, 2, 225, 787, 94, 35, 1...</td>\n",
       "    </tr>\n",
       "    <tr>\n",
       "      <th>18762</th>\n",
       "      <td>85992</td>\n",
       "      <td>3m</td>\n",
       "      <td>[1, 20, 5, 67, 5, 239, 195, 55, 0, 0, 0, 0, 0,...</td>\n",
       "    </tr>\n",
       "    <tr>\n",
       "      <th>16492</th>\n",
       "      <td>50424</td>\n",
       "      <td>24h</td>\n",
       "      <td>[1, 89, 6, 492, 98, 418, 9, 12, 14, 2, 1113, 1...</td>\n",
       "    </tr>\n",
       "    <tr>\n",
       "      <th>21122</th>\n",
       "      <td>45067</td>\n",
       "      <td>24h</td>\n",
       "      <td>[1, 87, 2, 39, 32, 749, 19, 3, 578, 5842, 250,...</td>\n",
       "    </tr>\n",
       "    <tr>\n",
       "      <th>32679</th>\n",
       "      <td>56965</td>\n",
       "      <td>24h</td>\n",
       "      <td>[37, 1, 89, 2, 269, 179, 58, 3, 719, 1424, 1, ...</td>\n",
       "    </tr>\n",
       "  </tbody>\n",
       "</table>\n",
       "</div>"
      ],
      "text/plain": [
       "          id period                                             tokens\n",
       "3419   37301    24h  [6, 155, 20, 5, 194, 8, 2, 225, 787, 94, 35, 1...\n",
       "18762  85992     3m  [1, 20, 5, 67, 5, 239, 195, 55, 0, 0, 0, 0, 0,...\n",
       "16492  50424    24h  [1, 89, 6, 492, 98, 418, 9, 12, 14, 2, 1113, 1...\n",
       "21122  45067    24h  [1, 87, 2, 39, 32, 749, 19, 3, 578, 5842, 250,...\n",
       "32679  56965    24h  [37, 1, 89, 2, 269, 179, 58, 3, 719, 1424, 1, ..."
      ]
     },
     "execution_count": 41,
     "metadata": {},
     "output_type": "execute_result"
    }
   ],
   "source": [
    "df_val['tokens'] = encoded_val_set\n",
    "df_val.drop(['response'], axis=1, inplace=True)\n",
    "padded_val = pad_sequences(encoded_val_set, maxlen=SEQ_LEN, padding='post')\n",
    "val_vectors = [list(doc) for doc in padded_val]\n",
    "df_val.tokens = val_vectors\n",
    "df_val.head()"
   ]
  },
  {
   "cell_type": "code",
   "execution_count": 42,
   "metadata": {},
   "outputs": [
    {
     "data": {
      "text/plain": [
       "80.0"
      ]
     },
     "execution_count": 42,
     "metadata": {},
     "output_type": "execute_result"
    }
   ],
   "source": [
    "np.mean([len(doc) for doc in val_vectors])"
   ]
  },
  {
   "cell_type": "code",
   "execution_count": 43,
   "metadata": {},
   "outputs": [
    {
     "data": {
      "text/plain": [
       "(8149, 80)"
      ]
     },
     "execution_count": 43,
     "metadata": {},
     "output_type": "execute_result"
    }
   ],
   "source": [
    "x_val = np.array([np.array(token) for token in df_val.tokens])\n",
    "x_val.shape"
   ]
  },
  {
   "cell_type": "code",
   "execution_count": 44,
   "metadata": {},
   "outputs": [
    {
     "data": {
      "text/plain": [
       "(8149, 7)"
      ]
     },
     "execution_count": 44,
     "metadata": {},
     "output_type": "execute_result"
    }
   ],
   "source": [
    "y_val = np.array([np.array(label_to_cat[label]) for label in val_labels.sentiment])\n",
    "y_val.shape"
   ]
  },
  {
   "cell_type": "code",
   "execution_count": 45,
   "metadata": {
    "scrolled": true
   },
   "outputs": [
    {
     "data": {
      "text/plain": [
       "array([[0, 1, 0, 0, 0, 0, 0],\n",
       "       [0, 0, 0, 1, 0, 0, 0],\n",
       "       [0, 0, 0, 1, 0, 0, 0],\n",
       "       [1, 0, 0, 0, 0, 0, 0],\n",
       "       [0, 0, 0, 0, 0, 1, 0]], dtype=int8)"
      ]
     },
     "execution_count": 45,
     "metadata": {},
     "output_type": "execute_result"
    }
   ],
   "source": [
    "y_val[:5]"
   ]
  },
  {
   "cell_type": "markdown",
   "metadata": {},
   "source": [
    "The `ModelCheckpoint` callback expects a file path, and a metric to monitor.\n",
    "`save_best_only` was set to True to save us some disk space.\n",
    "<br>\n",
    "Additionally, I have also set the learning rate to decay by a factor of $10^{-6}$ after each epoch as our model will overfit pretty quickly."
   ]
  },
  {
   "cell_type": "code",
   "execution_count": 46,
   "metadata": {},
   "outputs": [
    {
     "name": "stdout",
     "output_type": "stream",
     "text": [
      "_________________________________________________________________\n",
      "Layer (type)                 Output Shape              Param #   \n",
      "=================================================================\n",
      "input_1 (InputLayer)         (None, 80)                0         \n",
      "_________________________________________________________________\n",
      "embedding_1 (Embedding)      (None, 80, 300)           5742600   \n",
      "_________________________________________________________________\n",
      "bidirectional_1 (Bidirection (None, 80, 256)           440320    \n",
      "_________________________________________________________________\n",
      "bidirectional_2 (Bidirection (None, 128)               164864    \n",
      "_________________________________________________________________\n",
      "dense_1 (Dense)              (None, 128)               16512     \n",
      "_________________________________________________________________\n",
      "dense_2 (Dense)              (None, 7)                 903       \n",
      "=================================================================\n",
      "Total params: 6,365,199\n",
      "Trainable params: 622,599\n",
      "Non-trainable params: 5,742,600\n",
      "_________________________________________________________________\n"
     ]
    }
   ],
   "source": [
    "checkpoint = ModelCheckpoint('D:/Datasets/mc-sent/models/w2v_balanced_v1.hdf5',\n",
    "                             monitor='val_acc',\n",
    "                             save_best_only=True,\n",
    "                             mode='max',\n",
    "                             verbose=1)\n",
    "model.compile(optimizer=Adam(lr=1e-3, decay=1e-6),\n",
    "              loss='categorical_crossentropy',\n",
    "              metrics=['accuracy', f1])\n",
    "model.summary()"
   ]
  },
  {
   "cell_type": "code",
   "execution_count": 47,
   "metadata": {},
   "outputs": [
    {
     "data": {
      "text/plain": [
       "(105576, 80)"
      ]
     },
     "execution_count": 47,
     "metadata": {},
     "output_type": "execute_result"
    }
   ],
   "source": [
    "x_train = np.array([np.array(token) for token in df_train.tokens])\n",
    "x_train.shape"
   ]
  },
  {
   "cell_type": "code",
   "execution_count": 48,
   "metadata": {
    "scrolled": true
   },
   "outputs": [
    {
     "name": "stdout",
     "output_type": "stream",
     "text": [
      "Train on 105576 samples, validate on 8149 samples\n",
      "Epoch 1/10\n",
      "105576/105576 [==============================] - 79s 749us/step - loss: 0.4303 - acc: 0.8509 - f1: 0.8461 - val_loss: 0.4505 - val_acc: 0.8347 - val_f1: 0.8349\n",
      "\n",
      "Epoch 00001: val_acc improved from -inf to 0.83470, saving model to D:/Datasets/mc-sent/models/w2v_balanced_v1.hdf5\n",
      "Epoch 2/10\n",
      "105576/105576 [==============================] - 77s 731us/step - loss: 0.2673 - acc: 0.9056 - f1: 0.9055 - val_loss: 0.3595 - val_acc: 0.8687 - val_f1: 0.8697\n",
      "\n",
      "Epoch 00002: val_acc improved from 0.83470 to 0.86870, saving model to D:/Datasets/mc-sent/models/w2v_balanced_v1.hdf5\n",
      "Epoch 3/10\n",
      "105576/105576 [==============================] - 79s 750us/step - loss: 0.1873 - acc: 0.9331 - f1: 0.9330 - val_loss: 0.3844 - val_acc: 0.8671 - val_f1: 0.8670\n",
      "\n",
      "Epoch 00003: val_acc did not improve from 0.86870\n",
      "Epoch 4/10\n",
      "105576/105576 [==============================] - 76s 717us/step - loss: 0.1294 - acc: 0.9548 - f1: 0.9547 - val_loss: 0.3857 - val_acc: 0.8833 - val_f1: 0.8840\n",
      "\n",
      "Epoch 00004: val_acc improved from 0.86870 to 0.88330, saving model to D:/Datasets/mc-sent/models/w2v_balanced_v1.hdf5\n",
      "Epoch 5/10\n",
      "105576/105576 [==============================] - 88s 830us/step - loss: 0.0901 - acc: 0.9685 - f1: 0.9686 - val_loss: 0.4271 - val_acc: 0.8806 - val_f1: 0.8812\n",
      "\n",
      "Epoch 00005: val_acc did not improve from 0.88330\n",
      "Epoch 6/10\n",
      "105576/105576 [==============================] - 93s 883us/step - loss: 0.0660 - acc: 0.9773 - f1: 0.9774 - val_loss: 0.4792 - val_acc: 0.8812 - val_f1: 0.8817\n",
      "\n",
      "Epoch 00006: val_acc did not improve from 0.88330\n",
      "Epoch 7/10\n",
      "105576/105576 [==============================] - 89s 845us/step - loss: 0.0479 - acc: 0.9833 - f1: 0.9834 - val_loss: 0.5615 - val_acc: 0.8842 - val_f1: 0.8852\n",
      "\n",
      "Epoch 00007: val_acc improved from 0.88330 to 0.88416, saving model to D:/Datasets/mc-sent/models/w2v_balanced_v1.hdf5\n",
      "Epoch 8/10\n",
      "105576/105576 [==============================] - 81s 772us/step - loss: 0.0392 - acc: 0.9873 - f1: 0.9873 - val_loss: 0.5830 - val_acc: 0.8880 - val_f1: 0.8884\n",
      "\n",
      "Epoch 00008: val_acc improved from 0.88416 to 0.88796, saving model to D:/Datasets/mc-sent/models/w2v_balanced_v1.hdf5\n",
      "Epoch 9/10\n",
      "105576/105576 [==============================] - 78s 737us/step - loss: 0.0288 - acc: 0.9907 - f1: 0.9907 - val_loss: 0.6150 - val_acc: 0.8929 - val_f1: 0.8929\n",
      "\n",
      "Epoch 00009: val_acc improved from 0.88796 to 0.89287, saving model to D:/Datasets/mc-sent/models/w2v_balanced_v1.hdf5\n",
      "Epoch 10/10\n",
      "105576/105576 [==============================] - 76s 719us/step - loss: 0.0255 - acc: 0.9916 - f1: 0.9916 - val_loss: 0.6297 - val_acc: 0.8899 - val_f1: 0.8898\n",
      "\n",
      "Epoch 00010: val_acc did not improve from 0.89287\n"
     ]
    },
    {
     "data": {
      "text/plain": [
       "<keras.callbacks.History at 0x17b0b5ac080>"
      ]
     },
     "execution_count": 48,
     "metadata": {},
     "output_type": "execute_result"
    }
   ],
   "source": [
    "model.fit(x_train, y_train,\n",
    "          validation_data=[x_val, y_val],\n",
    "          callbacks=[checkpoint],\n",
    "          epochs=10,\n",
    "          verbose=1)"
   ]
  },
  {
   "cell_type": "markdown",
   "metadata": {},
   "source": [
    "Training accuracy reached 99.16%, but validation accuracy didn't cross 90%. Though this is the best result we got so far, we definitely did overfit."
   ]
  },
  {
   "cell_type": "markdown",
   "metadata": {},
   "source": [
    "Using the same dataset, we'll now try to create a bigger model, but with more regularization, in an attempt to reduce overfitment. Additionally, let's use `LeakyReLU` activations.\n",
    "<br>\n",
    "![ml-cheatsheet.readthedocs.io](images/lrelu.jpg)\n",
    "<br>\n",
    "If you use `LeayReLU` as an activation function of a layer in keras, using `model.save()` later will give you this error (at the time of writing this blog)\n",
    "<br>\n",
    "`AttributeError: 'LeakyReLU' object has no attribute '__name__'`\n",
    "<br>\n",
    "To fix this, you will have to use `LeakyReLU` as a layer.\n",
    "<br>\n",
    "We'll use LeakyReLU with `alpha = 0.1` and additionally, `Dropout` will be used for regularization."
   ]
  },
  {
   "cell_type": "code",
   "execution_count": 53,
   "metadata": {},
   "outputs": [],
   "source": [
    "input_tensor = Input(shape=(SEQ_LEN,), dtype='int32')\n",
    "e = Embedding(vocab_size, 300, weights=[embedding_matrix], input_length=SEQ_LEN, trainable=False)(input_tensor)\n",
    "x = Bidirectional(CuDNNLSTM(128, return_sequences=True))(e)\n",
    "x = Bidirectional(CuDNNLSTM(64, return_sequences=False))(x)\n",
    "x = Dense(256)(x)\n",
    "x = LeakyReLU(alpha=0.1)(x)\n",
    "x = Dropout(0.6)(x)\n",
    "x = Dense(128)(x)\n",
    "x = LeakyReLU(alpha=0.1)(x)\n",
    "x = Dropout(0.5)(x)\n",
    "x = Dense(64)(x)\n",
    "x = LeakyReLU(alpha=0.1)(x)\n",
    "x = Dropout(0.4)(x)\n",
    "output_tensor = Dense(7, activation='softmax')(x)\n",
    "model = Model(input_tensor, output_tensor)"
   ]
  },
  {
   "cell_type": "code",
   "execution_count": 54,
   "metadata": {},
   "outputs": [
    {
     "name": "stdout",
     "output_type": "stream",
     "text": [
      "_________________________________________________________________\n",
      "Layer (type)                 Output Shape              Param #   \n",
      "=================================================================\n",
      "input_4 (InputLayer)         (None, 80)                0         \n",
      "_________________________________________________________________\n",
      "embedding_3 (Embedding)      (None, 80, 300)           5742600   \n",
      "_________________________________________________________________\n",
      "bidirectional_5 (Bidirection (None, 80, 256)           440320    \n",
      "_________________________________________________________________\n",
      "bidirectional_6 (Bidirection (None, 128)               164864    \n",
      "_________________________________________________________________\n",
      "dense_4 (Dense)              (None, 256)               33024     \n",
      "_________________________________________________________________\n",
      "leaky_re_lu_2 (LeakyReLU)    (None, 256)               0         \n",
      "_________________________________________________________________\n",
      "dropout_1 (Dropout)          (None, 256)               0         \n",
      "_________________________________________________________________\n",
      "dense_5 (Dense)              (None, 128)               32896     \n",
      "_________________________________________________________________\n",
      "leaky_re_lu_3 (LeakyReLU)    (None, 128)               0         \n",
      "_________________________________________________________________\n",
      "dropout_2 (Dropout)          (None, 128)               0         \n",
      "_________________________________________________________________\n",
      "dense_6 (Dense)              (None, 64)                8256      \n",
      "_________________________________________________________________\n",
      "leaky_re_lu_4 (LeakyReLU)    (None, 64)                0         \n",
      "_________________________________________________________________\n",
      "dropout_3 (Dropout)          (None, 64)                0         \n",
      "_________________________________________________________________\n",
      "dense_7 (Dense)              (None, 7)                 455       \n",
      "=================================================================\n",
      "Total params: 6,422,415\n",
      "Trainable params: 679,815\n",
      "Non-trainable params: 5,742,600\n",
      "_________________________________________________________________\n"
     ]
    }
   ],
   "source": [
    "checkpoint = ModelCheckpoint('D:/Datasets/mc-sent/models/w2v_balanced_v1.hdf5',\n",
    "                             monitor='val_acc',\n",
    "                             save_best_only=True,\n",
    "                             mode='max',\n",
    "                             verbose=1)\n",
    "model.compile(optimizer=Adam(lr=1e-3, decay=1e-6),\n",
    "              loss='categorical_crossentropy',\n",
    "              metrics=['accuracy', f1])\n",
    "model.summary()"
   ]
  },
  {
   "cell_type": "code",
   "execution_count": 55,
   "metadata": {
    "scrolled": true
   },
   "outputs": [
    {
     "name": "stdout",
     "output_type": "stream",
     "text": [
      "Train on 105576 samples, validate on 8149 samples\n",
      "Epoch 1/10\n",
      "105576/105576 [==============================] - 89s 840us/step - loss: 0.5632 - acc: 0.8177 - f1: 0.8021 - val_loss: 0.4719 - val_acc: 0.8386 - val_f1: 0.8368\n",
      "\n",
      "Epoch 00001: val_acc improved from -inf to 0.83863, saving model to D:/Datasets/mc-sent/models/w2v_balanced_v1.hdf5\n",
      "Epoch 2/10\n",
      "105576/105576 [==============================] - 91s 859us/step - loss: 0.3406 - acc: 0.8905 - f1: 0.8880 - val_loss: 0.4258 - val_acc: 0.8394 - val_f1: 0.8388\n",
      "\n",
      "Epoch 00002: val_acc improved from 0.83863 to 0.83937, saving model to D:/Datasets/mc-sent/models/w2v_balanced_v1.hdf5\n",
      "Epoch 3/10\n",
      "105576/105576 [==============================] - 93s 882us/step - loss: 0.2582 - acc: 0.9148 - f1: 0.9143 - val_loss: 0.4269 - val_acc: 0.8494 - val_f1: 0.8493\n",
      "\n",
      "Epoch 00003: val_acc improved from 0.83937 to 0.84943, saving model to D:/Datasets/mc-sent/models/w2v_balanced_v1.hdf5\n",
      "Epoch 4/10\n",
      "105576/105576 [==============================] - 87s 824us/step - loss: 0.1981 - acc: 0.9350 - f1: 0.9344 - val_loss: 0.3708 - val_acc: 0.8850 - val_f1: 0.8854\n",
      "\n",
      "Epoch 00004: val_acc improved from 0.84943 to 0.88502, saving model to D:/Datasets/mc-sent/models/w2v_balanced_v1.hdf5\n",
      "Epoch 5/10\n",
      "105576/105576 [==============================] - 85s 803us/step - loss: 0.1471 - acc: 0.9507 - f1: 0.9508 - val_loss: 0.4497 - val_acc: 0.8645 - val_f1: 0.8647\n",
      "\n",
      "Epoch 00005: val_acc did not improve from 0.88502\n",
      "Epoch 6/10\n",
      "105576/105576 [==============================] - 85s 807us/step - loss: 0.1135 - acc: 0.9639 - f1: 0.9636 - val_loss: 0.4745 - val_acc: 0.8806 - val_f1: 0.8806\n",
      "\n",
      "Epoch 00006: val_acc did not improve from 0.88502\n",
      "Epoch 7/10\n",
      "105576/105576 [==============================] - 84s 799us/step - loss: 0.0883 - acc: 0.9721 - f1: 0.9721 - val_loss: 0.5491 - val_acc: 0.8856 - val_f1: 0.8856\n",
      "\n",
      "Epoch 00007: val_acc improved from 0.88502 to 0.88563, saving model to D:/Datasets/mc-sent/models/w2v_balanced_v1.hdf5\n",
      "Epoch 8/10\n",
      "105576/105576 [==============================] - 84s 797us/step - loss: 0.0727 - acc: 0.9770 - f1: 0.9771 - val_loss: 0.5372 - val_acc: 0.8871 - val_f1: 0.8885\n",
      "\n",
      "Epoch 00008: val_acc improved from 0.88563 to 0.88710, saving model to D:/Datasets/mc-sent/models/w2v_balanced_v1.hdf5\n",
      "Epoch 9/10\n",
      "105576/105576 [==============================] - 82s 778us/step - loss: 0.0584 - acc: 0.9820 - f1: 0.9820 - val_loss: 0.6433 - val_acc: 0.8873 - val_f1: 0.8875\n",
      "\n",
      "Epoch 00009: val_acc improved from 0.88710 to 0.88735, saving model to D:/Datasets/mc-sent/models/w2v_balanced_v1.hdf5\n",
      "Epoch 10/10\n",
      "105576/105576 [==============================] - 81s 771us/step - loss: 0.0518 - acc: 0.9842 - f1: 0.9842 - val_loss: 0.6485 - val_acc: 0.8828 - val_f1: 0.8834\n",
      "\n",
      "Epoch 00010: val_acc did not improve from 0.88735\n"
     ]
    },
    {
     "data": {
      "text/plain": [
       "<keras.callbacks.History at 0x17e0d77fc88>"
      ]
     },
     "execution_count": 55,
     "metadata": {},
     "output_type": "execute_result"
    }
   ],
   "source": [
    "model.fit(x_train, y_train,\n",
    "          validation_data=[x_val, y_val],\n",
    "          callbacks=[checkpoint],\n",
    "          epochs=10,\n",
    "          verbose=1)"
   ]
  },
  {
   "cell_type": "markdown",
   "metadata": {},
   "source": [
    "Our validation accuracy did not change much even though training accuracy crossed 98%. The regularized model isn't doing any better either, we overfit again due to the imbalance. Let's plot the confusion matrix for this model to see if anything changed."
   ]
  },
  {
   "cell_type": "markdown",
   "metadata": {},
   "source": [
    "If we run `model.predict` now, we'll use the `model` object that was trained for the complete 10 epochs, not the one that gave us the highest validation accuracy. To use the best one, we need to load it from our last checkpoint file. We also have to define what custom objects we have used, for example, `load_model` doesn't know what `f1` means."
   ]
  },
  {
   "cell_type": "code",
   "execution_count": 59,
   "metadata": {},
   "outputs": [],
   "source": [
    "model = load_model('D:/Datasets/mc-sent/models/w2v_balanced_v1.hdf5',\n",
    "                   custom_objects={'f1': f1})"
   ]
  },
  {
   "cell_type": "code",
   "execution_count": 60,
   "metadata": {},
   "outputs": [
    {
     "name": "stdout",
     "output_type": "stream",
     "text": [
      "8149/8149 [==============================] - 3s 369us/step\n"
     ]
    }
   ],
   "source": [
    "y_pred = model.predict(x_val, verbose=1)"
   ]
  },
  {
   "cell_type": "code",
   "execution_count": 61,
   "metadata": {},
   "outputs": [
    {
     "name": "stdout",
     "output_type": "stream",
     "text": [
      "(8149, 7) (8149, 7)\n"
     ]
    }
   ],
   "source": [
    "print(y_pred.shape, y_val.shape)"
   ]
  },
  {
   "cell_type": "code",
   "execution_count": 62,
   "metadata": {},
   "outputs": [],
   "source": [
    "y_pred_class = np.array([np.argmax(x) for x in y_pred])\n",
    "y_val_class = np.array([np.argmax(x) for x in y_val])"
   ]
  },
  {
   "cell_type": "code",
   "execution_count": 63,
   "metadata": {},
   "outputs": [],
   "source": [
    "c = confusion_matrix(y_val_class, y_pred_class)\n",
    "classes = [v for k, v in cat_to_label.items()]"
   ]
  },
  {
   "cell_type": "code",
   "execution_count": 64,
   "metadata": {},
   "outputs": [
    {
     "data": {
      "image/png": "[encoded data removed]",
      "text/plain": [
       "<Figure size 1440x1440 with 2 Axes>"
      ]
     },
     "metadata": {
      "needs_background": "light"
     },
     "output_type": "display_data"
    }
   ],
   "source": [
    "plt.figure(figsize=(20, 20))\n",
    "plt.imshow(c, interpolation='nearest', cmap='jet')\n",
    "plt.colorbar()\n",
    "ticks = np.arange(len(classes))\n",
    "plt.xticks(ticks, classes, rotation=45)\n",
    "plt.yticks(ticks, classes)\n",
    "\n",
    "plt.ylabel('True class')\n",
    "plt.xlabel('Predicted class')\n",
    "plt.tight_layout()"
   ]
  },
  {
   "cell_type": "markdown",
   "metadata": {},
   "source": [
    "The confusion matrix is hardly any different, so our model overfit after all.\n",
    "The imbalance in this dataset is proving to be too difficult to combat.\n",
    "<br>\n",
    "But there's another, perhaps less stupid way of dealing with imbalance that we haven't tried yet.\n",
    "## Cost-sensitive learning\n",
    "In this method, we penalize misclassifications differently. Misclassifications of the minority class are penalized more heavily than ones of the major class, which means, the loss is different for each class. Such a penalty system may induce the model to pay more attention to the minority class.\n",
    "<br>\n",
    "Concretely, we calculate a class weight dictionary and feed it to the `.fit` method during training and keras modifies the loss function accordingly."
   ]
  },
  {
   "cell_type": "markdown",
   "metadata": {},
   "source": [
    "Scikit-learn has a handy function to calculate class weights."
   ]
  },
  {
   "cell_type": "code",
   "execution_count": 3,
   "metadata": {},
   "outputs": [
    {
     "data": {
      "text/html": [
       "<div>\n",
       "<style scoped>\n",
       "    .dataframe tbody tr th:only-of-type {\n",
       "        vertical-align: middle;\n",
       "    }\n",
       "\n",
       "    .dataframe tbody tr th {\n",
       "        vertical-align: top;\n",
       "    }\n",
       "\n",
       "    .dataframe thead th {\n",
       "        text-align: right;\n",
       "    }\n",
       "</style>\n",
       "<table border=\"1\" class=\"dataframe\">\n",
       "  <thead>\n",
       "    <tr style=\"text-align: right;\">\n",
       "      <th></th>\n",
       "      <th>id</th>\n",
       "      <th>period</th>\n",
       "      <th>response</th>\n",
       "      <th>n</th>\n",
       "      <th>sentiment</th>\n",
       "    </tr>\n",
       "  </thead>\n",
       "  <tbody>\n",
       "    <tr>\n",
       "      <th>0</th>\n",
       "      <td>69658</td>\n",
       "      <td>3m</td>\n",
       "      <td>Getting praised for how i do my job from my boss</td>\n",
       "      <td>1</td>\n",
       "      <td>achievement</td>\n",
       "    </tr>\n",
       "    <tr>\n",
       "      <th>1</th>\n",
       "      <td>42174</td>\n",
       "      <td>24h</td>\n",
       "      <td>I put freshly laundered sheets on my bed, took...</td>\n",
       "      <td>1</td>\n",
       "      <td>enjoy_the_moment</td>\n",
       "    </tr>\n",
       "    <tr>\n",
       "      <th>2</th>\n",
       "      <td>29234</td>\n",
       "      <td>24h</td>\n",
       "      <td>Having sex with my wife</td>\n",
       "      <td>1</td>\n",
       "      <td>affection</td>\n",
       "    </tr>\n",
       "    <tr>\n",
       "      <th>3</th>\n",
       "      <td>62384</td>\n",
       "      <td>3m</td>\n",
       "      <td>I hate to admit it, but of the things that mad...</td>\n",
       "      <td>1</td>\n",
       "      <td>achievement</td>\n",
       "    </tr>\n",
       "    <tr>\n",
       "      <th>4</th>\n",
       "      <td>33806</td>\n",
       "      <td>24h</td>\n",
       "      <td>I saw my partner smile at our brain injury sup...</td>\n",
       "      <td>1</td>\n",
       "      <td>bonding</td>\n",
       "    </tr>\n",
       "  </tbody>\n",
       "</table>\n",
       "</div>"
      ],
      "text/plain": [
       "      id period                                           response  n  \\\n",
       "0  69658     3m   Getting praised for how i do my job from my boss  1   \n",
       "1  42174    24h  I put freshly laundered sheets on my bed, took...  1   \n",
       "2  29234    24h                           Having sex with my wife   1   \n",
       "3  62384     3m  I hate to admit it, but of the things that mad...  1   \n",
       "4  33806    24h  I saw my partner smile at our brain injury sup...  1   \n",
       "\n",
       "          sentiment  \n",
       "0       achievement  \n",
       "1  enjoy_the_moment  \n",
       "2         affection  \n",
       "3       achievement  \n",
       "4           bonding  "
      ]
     },
     "execution_count": 3,
     "metadata": {},
     "output_type": "execute_result"
    }
   ],
   "source": [
    "df = pd.read_csv('D:/Datasets/mc-sent/p_train.csv', low_memory=False)\n",
    "df.head()"
   ]
  },
  {
   "cell_type": "code",
   "execution_count": 4,
   "metadata": {},
   "outputs": [],
   "source": [
    "df, df_val = train_test_split(df, test_size=0.15, random_state=42)"
   ]
  },
  {
   "cell_type": "code",
   "execution_count": 5,
   "metadata": {},
   "outputs": [],
   "source": [
    "labels = df[['id', 'sentiment']]"
   ]
  },
  {
   "cell_type": "code",
   "execution_count": 6,
   "metadata": {},
   "outputs": [
    {
     "data": {
      "text/plain": [
       "['achievement',\n",
       " 'affection',\n",
       " 'bonding',\n",
       " 'enjoy_the_moment',\n",
       " 'exercise',\n",
       " 'leisure',\n",
       " 'nature']"
      ]
     },
     "execution_count": 6,
     "metadata": {},
     "output_type": "execute_result"
    }
   ],
   "source": [
    "classes = sorted(labels.sentiment.unique())\n",
    "classes"
   ]
  },
  {
   "cell_type": "code",
   "execution_count": 7,
   "metadata": {},
   "outputs": [],
   "source": [
    "class_weights = class_weight.compute_class_weight('balanced', np.unique(sorted(labels.sentiment)), labels.sentiment)"
   ]
  },
  {
   "cell_type": "code",
   "execution_count": 8,
   "metadata": {},
   "outputs": [
    {
     "data": {
      "text/plain": [
       "array([ 0.42336329,  0.4143997 ,  1.30381498,  1.32876712, 11.88468468,\n",
       "        2.03957947,  7.64310545])"
      ]
     },
     "execution_count": 8,
     "metadata": {},
     "output_type": "execute_result"
    }
   ],
   "source": [
    "class_weights"
   ]
  },
  {
   "cell_type": "markdown",
   "metadata": {},
   "source": [
    "We need to convert this into an enumerated dictionary for keras to be able to parse it."
   ]
  },
  {
   "cell_type": "code",
   "execution_count": 9,
   "metadata": {},
   "outputs": [
    {
     "data": {
      "text/plain": [
       "{0: 0.4233632862644416,\n",
       " 1: 0.41439969843563484,\n",
       " 2: 1.3038149831982606,\n",
       " 3: 1.3287671232876712,\n",
       " 4: 11.884684684684684,\n",
       " 5: 2.0395794681508965,\n",
       " 6: 7.643105446118192}"
      ]
     },
     "execution_count": 9,
     "metadata": {},
     "output_type": "execute_result"
    }
   ],
   "source": [
    "class_weight_dict = dict(enumerate(class_weights))\n",
    "class_weight_dict"
   ]
  },
  {
   "cell_type": "markdown",
   "metadata": {},
   "source": [
    "We can pass this dictionary to keras to change its loss function accordingly."
   ]
  },
  {
   "cell_type": "code",
   "execution_count": 10,
   "metadata": {},
   "outputs": [
    {
     "name": "stdout",
     "output_type": "stream",
     "text": [
      "(46172, 5) (46172, 2)\n",
      "(8149, 5)\n"
     ]
    }
   ],
   "source": [
    "print(df.shape, labels.shape)\n",
    "print(df_val.shape)"
   ]
  },
  {
   "cell_type": "code",
   "execution_count": 11,
   "metadata": {},
   "outputs": [],
   "source": [
    "df.drop(['n', 'sentiment'], axis=1, inplace=True)"
   ]
  },
  {
   "cell_type": "code",
   "execution_count": 12,
   "metadata": {},
   "outputs": [],
   "source": [
    "label_to_cat = dict()\n",
    "for i in range(len(classes)):\n",
    "    dummy = np.zeros((len(classes),), dtype='int8')\n",
    "    dummy[i] = 1\n",
    "    label_to_cat[classes[i]] = dummy"
   ]
  },
  {
   "cell_type": "code",
   "execution_count": 13,
   "metadata": {},
   "outputs": [],
   "source": [
    "cat_to_label = dict()\n",
    "for k, v in label_to_cat.items():\n",
    "    cat_to_label[tuple(v)] = k"
   ]
  },
  {
   "cell_type": "code",
   "execution_count": 14,
   "metadata": {},
   "outputs": [],
   "source": [
    "y = np.array([label_to_cat[label] for label in labels.sentiment])"
   ]
  },
  {
   "cell_type": "code",
   "execution_count": 15,
   "metadata": {},
   "outputs": [
    {
     "data": {
      "text/html": [
       "<div>\n",
       "<style scoped>\n",
       "    .dataframe tbody tr th:only-of-type {\n",
       "        vertical-align: middle;\n",
       "    }\n",
       "\n",
       "    .dataframe tbody tr th {\n",
       "        vertical-align: top;\n",
       "    }\n",
       "\n",
       "    .dataframe thead th {\n",
       "        text-align: right;\n",
       "    }\n",
       "</style>\n",
       "<table border=\"1\" class=\"dataframe\">\n",
       "  <thead>\n",
       "    <tr style=\"text-align: right;\">\n",
       "      <th></th>\n",
       "      <th>id</th>\n",
       "      <th>period</th>\n",
       "      <th>response</th>\n",
       "    </tr>\n",
       "  </thead>\n",
       "  <tbody>\n",
       "    <tr>\n",
       "      <th>26164</th>\n",
       "      <td>33229</td>\n",
       "      <td>24h</td>\n",
       "      <td>i fall in love with my girl friend</td>\n",
       "    </tr>\n",
       "    <tr>\n",
       "      <th>39039</th>\n",
       "      <td>34026</td>\n",
       "      <td>24h</td>\n",
       "      <td>my friend came over to watch critical role.</td>\n",
       "    </tr>\n",
       "    <tr>\n",
       "      <th>43093</th>\n",
       "      <td>35623</td>\n",
       "      <td>24h</td>\n",
       "      <td>i thought that i was out of cream for coffee, ...</td>\n",
       "    </tr>\n",
       "    <tr>\n",
       "      <th>3161</th>\n",
       "      <td>58661</td>\n",
       "      <td>3m</td>\n",
       "      <td>i discovered a new software, thunkable, that w...</td>\n",
       "    </tr>\n",
       "    <tr>\n",
       "      <th>29640</th>\n",
       "      <td>59683</td>\n",
       "      <td>3m</td>\n",
       "      <td>i found an alternate source of income.</td>\n",
       "    </tr>\n",
       "  </tbody>\n",
       "</table>\n",
       "</div>"
      ],
      "text/plain": [
       "          id period                                           response\n",
       "26164  33229    24h                 i fall in love with my girl friend\n",
       "39039  34026    24h        my friend came over to watch critical role.\n",
       "43093  35623    24h  i thought that i was out of cream for coffee, ...\n",
       "3161   58661     3m  i discovered a new software, thunkable, that w...\n",
       "29640  59683     3m             i found an alternate source of income."
      ]
     },
     "execution_count": 15,
     "metadata": {},
     "output_type": "execute_result"
    }
   ],
   "source": [
    "df.response = df.response.apply(str.lower)\n",
    "df.head()"
   ]
  },
  {
   "cell_type": "code",
   "execution_count": 15,
   "metadata": {},
   "outputs": [],
   "source": [
    "df_train = df.copy()\n",
    "y_train = y.copy()"
   ]
  },
  {
   "cell_type": "code",
   "execution_count": 16,
   "metadata": {},
   "outputs": [
    {
     "name": "stdout",
     "output_type": "stream",
     "text": [
      "(46172, 3) (46172, 7)\n",
      "(8149, 5)\n"
     ]
    }
   ],
   "source": [
    "print(df_train.shape, y_train.shape)\n",
    "print(df_val.shape)"
   ]
  },
  {
   "cell_type": "code",
   "execution_count": 18,
   "metadata": {},
   "outputs": [],
   "source": [
    "t = Tokenizer()\n",
    "t.fit_on_texts(df_train.response)\n",
    "vocab_size = len(t.word_index) + 1"
   ]
  },
  {
   "cell_type": "code",
   "execution_count": 19,
   "metadata": {},
   "outputs": [
    {
     "data": {
      "text/plain": [
       "19142"
      ]
     },
     "execution_count": 19,
     "metadata": {},
     "output_type": "execute_result"
    }
   ],
   "source": [
    "vocab_size"
   ]
  },
  {
   "cell_type": "code",
   "execution_count": 20,
   "metadata": {},
   "outputs": [
    {
     "data": {
      "text/plain": [
       "46172"
      ]
     },
     "execution_count": 20,
     "metadata": {},
     "output_type": "execute_result"
    }
   ],
   "source": [
    "encoded_train_set = t.texts_to_sequences(df_train.response)\n",
    "len(encoded_train_set)"
   ]
  },
  {
   "cell_type": "code",
   "execution_count": 21,
   "metadata": {},
   "outputs": [
    {
     "data": {
      "text/html": [
       "<div>\n",
       "<style scoped>\n",
       "    .dataframe tbody tr th:only-of-type {\n",
       "        vertical-align: middle;\n",
       "    }\n",
       "\n",
       "    .dataframe tbody tr th {\n",
       "        vertical-align: top;\n",
       "    }\n",
       "\n",
       "    .dataframe thead th {\n",
       "        text-align: right;\n",
       "    }\n",
       "</style>\n",
       "<table border=\"1\" class=\"dataframe\">\n",
       "  <thead>\n",
       "    <tr style=\"text-align: right;\">\n",
       "      <th></th>\n",
       "      <th>id</th>\n",
       "      <th>period</th>\n",
       "      <th>tokens</th>\n",
       "    </tr>\n",
       "  </thead>\n",
       "  <tbody>\n",
       "    <tr>\n",
       "      <th>26164</th>\n",
       "      <td>33229</td>\n",
       "      <td>24h</td>\n",
       "      <td>[1, 1087, 9, 154, 12, 2, 272, 39]</td>\n",
       "    </tr>\n",
       "    <tr>\n",
       "      <th>39039</th>\n",
       "      <td>34026</td>\n",
       "      <td>24h</td>\n",
       "      <td>[2, 39, 78, 108, 5, 235, 2887, 1515]</td>\n",
       "    </tr>\n",
       "    <tr>\n",
       "      <th>43093</th>\n",
       "      <td>35623</td>\n",
       "      <td>24h</td>\n",
       "      <td>[1, 251, 13, 1, 7, 28, 11, 397, 8, 297, 64, 56...</td>\n",
       "    </tr>\n",
       "    <tr>\n",
       "      <th>3161</th>\n",
       "      <td>58661</td>\n",
       "      <td>3m</td>\n",
       "      <td>[1, 636, 3, 27, 1538, 11303, 13, 133, 219, 10,...</td>\n",
       "    </tr>\n",
       "    <tr>\n",
       "      <th>29640</th>\n",
       "      <td>59683</td>\n",
       "      <td>3m</td>\n",
       "      <td>[1, 65, 33, 8604, 3849, 11, 1088]</td>\n",
       "    </tr>\n",
       "  </tbody>\n",
       "</table>\n",
       "</div>"
      ],
      "text/plain": [
       "          id period                                             tokens\n",
       "26164  33229    24h                  [1, 1087, 9, 154, 12, 2, 272, 39]\n",
       "39039  34026    24h               [2, 39, 78, 108, 5, 235, 2887, 1515]\n",
       "43093  35623    24h  [1, 251, 13, 1, 7, 28, 11, 397, 8, 297, 64, 56...\n",
       "3161   58661     3m  [1, 636, 3, 27, 1538, 11303, 13, 133, 219, 10,...\n",
       "29640  59683     3m                  [1, 65, 33, 8604, 3849, 11, 1088]"
      ]
     },
     "execution_count": 21,
     "metadata": {},
     "output_type": "execute_result"
    }
   ],
   "source": [
    "df_train['tokens'] = encoded_train_set\n",
    "df_train.drop(['response'], axis=1, inplace=True)\n",
    "df_train.head()"
   ]
  },
  {
   "cell_type": "code",
   "execution_count": 22,
   "metadata": {},
   "outputs": [
    {
     "data": {
      "text/plain": [
       "array([[0, 0, 1, 0, 0, 0, 0],\n",
       "       [0, 0, 1, 0, 0, 0, 0],\n",
       "       [0, 0, 0, 1, 0, 0, 0],\n",
       "       [1, 0, 0, 0, 0, 0, 0],\n",
       "       [1, 0, 0, 0, 0, 0, 0]], dtype=int8)"
      ]
     },
     "execution_count": 22,
     "metadata": {},
     "output_type": "execute_result"
    }
   ],
   "source": [
    "y_train[:5]"
   ]
  },
  {
   "cell_type": "code",
   "execution_count": 23,
   "metadata": {},
   "outputs": [],
   "source": [
    "SEQ_LEN = 80\n",
    "padded_train = pad_sequences(encoded_train_set, maxlen=SEQ_LEN, padding='post')"
   ]
  },
  {
   "cell_type": "code",
   "execution_count": 24,
   "metadata": {},
   "outputs": [
    {
     "data": {
      "text/html": [
       "<div>\n",
       "<style scoped>\n",
       "    .dataframe tbody tr th:only-of-type {\n",
       "        vertical-align: middle;\n",
       "    }\n",
       "\n",
       "    .dataframe tbody tr th {\n",
       "        vertical-align: top;\n",
       "    }\n",
       "\n",
       "    .dataframe thead th {\n",
       "        text-align: right;\n",
       "    }\n",
       "</style>\n",
       "<table border=\"1\" class=\"dataframe\">\n",
       "  <thead>\n",
       "    <tr style=\"text-align: right;\">\n",
       "      <th></th>\n",
       "      <th>id</th>\n",
       "      <th>period</th>\n",
       "      <th>tokens</th>\n",
       "    </tr>\n",
       "  </thead>\n",
       "  <tbody>\n",
       "    <tr>\n",
       "      <th>26164</th>\n",
       "      <td>33229</td>\n",
       "      <td>24h</td>\n",
       "      <td>[1, 1087, 9, 154, 12, 2, 272, 39, 0, 0, 0, 0, ...</td>\n",
       "    </tr>\n",
       "    <tr>\n",
       "      <th>39039</th>\n",
       "      <td>34026</td>\n",
       "      <td>24h</td>\n",
       "      <td>[2, 39, 78, 108, 5, 235, 2887, 1515, 0, 0, 0, ...</td>\n",
       "    </tr>\n",
       "    <tr>\n",
       "      <th>43093</th>\n",
       "      <td>35623</td>\n",
       "      <td>24h</td>\n",
       "      <td>[1, 251, 13, 1, 7, 28, 11, 397, 8, 297, 64, 56...</td>\n",
       "    </tr>\n",
       "    <tr>\n",
       "      <th>3161</th>\n",
       "      <td>58661</td>\n",
       "      <td>3m</td>\n",
       "      <td>[1, 636, 3, 27, 1538, 11303, 13, 133, 219, 10,...</td>\n",
       "    </tr>\n",
       "    <tr>\n",
       "      <th>29640</th>\n",
       "      <td>59683</td>\n",
       "      <td>3m</td>\n",
       "      <td>[1, 65, 33, 8604, 3849, 11, 1088, 0, 0, 0, 0, ...</td>\n",
       "    </tr>\n",
       "  </tbody>\n",
       "</table>\n",
       "</div>"
      ],
      "text/plain": [
       "          id period                                             tokens\n",
       "26164  33229    24h  [1, 1087, 9, 154, 12, 2, 272, 39, 0, 0, 0, 0, ...\n",
       "39039  34026    24h  [2, 39, 78, 108, 5, 235, 2887, 1515, 0, 0, 0, ...\n",
       "43093  35623    24h  [1, 251, 13, 1, 7, 28, 11, 397, 8, 297, 64, 56...\n",
       "3161   58661     3m  [1, 636, 3, 27, 1538, 11303, 13, 133, 219, 10,...\n",
       "29640  59683     3m  [1, 65, 33, 8604, 3849, 11, 1088, 0, 0, 0, 0, ..."
      ]
     },
     "execution_count": 24,
     "metadata": {},
     "output_type": "execute_result"
    }
   ],
   "source": [
    "train_docs = [list(doc) for doc in padded_train]\n",
    "df_train['tokens'] = train_docs\n",
    "df_train.head()"
   ]
  },
  {
   "cell_type": "code",
   "execution_count": 25,
   "metadata": {},
   "outputs": [],
   "source": [
    "embeddings_index = gensim.models.KeyedVectors.load_word2vec_format('D:/Datasets/embeddings/Word2Vec/GoogleNews-vectors-negative300.bin', binary=True)"
   ]
  },
  {
   "cell_type": "code",
   "execution_count": 26,
   "metadata": {},
   "outputs": [
    {
     "data": {
      "text/plain": [
       "2599"
      ]
     },
     "execution_count": 26,
     "metadata": {},
     "output_type": "execute_result"
    }
   ],
   "source": [
    "embedding_matrix = np.zeros((vocab_size, 300))\n",
    "count = 0\n",
    "for word, i in t.word_index.items():\n",
    "    try:\n",
    "        embedding_vector = embeddings_index[word]\n",
    "        embedding_matrix[i] = embedding_vector\n",
    "    except KeyError:\n",
    "        count += 1\n",
    "\n",
    "count"
   ]
  },
  {
   "cell_type": "code",
   "execution_count": 27,
   "metadata": {},
   "outputs": [
    {
     "data": {
      "text/plain": [
       "(19142, 300)"
      ]
     },
     "execution_count": 27,
     "metadata": {},
     "output_type": "execute_result"
    }
   ],
   "source": [
    "embedding_matrix.shape"
   ]
  },
  {
   "cell_type": "markdown",
   "metadata": {},
   "source": [
    "We'll use the same model as above, but this time, we'll set trainable to True in the embedding layer."
   ]
  },
  {
   "cell_type": "code",
   "execution_count": 28,
   "metadata": {},
   "outputs": [],
   "source": [
    "input_tensor = Input(shape=(SEQ_LEN,), dtype='int32')\n",
    "e = Embedding(vocab_size, 300, weights=[embedding_matrix], input_length=SEQ_LEN, trainable=True)(input_tensor)\n",
    "x = Bidirectional(CuDNNLSTM(128, return_sequences=True))(e)\n",
    "x = Bidirectional(CuDNNLSTM(64, return_sequences=False))(x)\n",
    "x = Dense(256)(x)\n",
    "x = LeakyReLU(alpha=0.1)(x)\n",
    "x = Dropout(0.6)(x)\n",
    "x = Dense(128)(x)\n",
    "x = LeakyReLU(alpha=0.1)(x)\n",
    "x = Dropout(0.5)(x)\n",
    "x = Dense(64)(x)\n",
    "x = LeakyReLU(alpha=0.1)(x)\n",
    "x = Dropout(0.4)(x)\n",
    "output_tensor = Dense(7, activation='softmax')(x)\n",
    "model = Model(input_tensor, output_tensor)"
   ]
  },
  {
   "cell_type": "code",
   "execution_count": 29,
   "metadata": {},
   "outputs": [
    {
     "data": {
      "text/html": [
       "<div>\n",
       "<style scoped>\n",
       "    .dataframe tbody tr th:only-of-type {\n",
       "        vertical-align: middle;\n",
       "    }\n",
       "\n",
       "    .dataframe tbody tr th {\n",
       "        vertical-align: top;\n",
       "    }\n",
       "\n",
       "    .dataframe thead th {\n",
       "        text-align: right;\n",
       "    }\n",
       "</style>\n",
       "<table border=\"1\" class=\"dataframe\">\n",
       "  <thead>\n",
       "    <tr style=\"text-align: right;\">\n",
       "      <th></th>\n",
       "      <th>id</th>\n",
       "      <th>period</th>\n",
       "      <th>response</th>\n",
       "      <th>n</th>\n",
       "      <th>sentiment</th>\n",
       "    </tr>\n",
       "  </thead>\n",
       "  <tbody>\n",
       "    <tr>\n",
       "      <th>3419</th>\n",
       "      <td>37301</td>\n",
       "      <td>24h</td>\n",
       "      <td>My son got to play in a big soccer game after ...</td>\n",
       "      <td>1</td>\n",
       "      <td>affection</td>\n",
       "    </tr>\n",
       "    <tr>\n",
       "      <th>18762</th>\n",
       "      <td>85992</td>\n",
       "      <td>3m</td>\n",
       "      <td>I got to go to sleep early yesterday.</td>\n",
       "      <td>1</td>\n",
       "      <td>enjoy_the_moment</td>\n",
       "    </tr>\n",
       "    <tr>\n",
       "      <th>16492</th>\n",
       "      <td>50424</td>\n",
       "      <td>24h</td>\n",
       "      <td>I saw my dad were waiting for me with a glass ...</td>\n",
       "      <td>1</td>\n",
       "      <td>enjoy_the_moment</td>\n",
       "    </tr>\n",
       "    <tr>\n",
       "      <th>21122</th>\n",
       "      <td>45067</td>\n",
       "      <td>24h</td>\n",
       "      <td>I found a really good deal at the Grocery Outl...</td>\n",
       "      <td>1</td>\n",
       "      <td>achievement</td>\n",
       "    </tr>\n",
       "    <tr>\n",
       "      <th>32679</th>\n",
       "      <td>56965</td>\n",
       "      <td>24h</td>\n",
       "      <td>Today I saw a tv show about the band Kiss, I w...</td>\n",
       "      <td>1</td>\n",
       "      <td>leisure</td>\n",
       "    </tr>\n",
       "  </tbody>\n",
       "</table>\n",
       "</div>"
      ],
      "text/plain": [
       "          id period                                           response  n  \\\n",
       "3419   37301    24h  My son got to play in a big soccer game after ...  1   \n",
       "18762  85992     3m              I got to go to sleep early yesterday.  1   \n",
       "16492  50424    24h  I saw my dad were waiting for me with a glass ...  1   \n",
       "21122  45067    24h  I found a really good deal at the Grocery Outl...  1   \n",
       "32679  56965    24h  Today I saw a tv show about the band Kiss, I w...  1   \n",
       "\n",
       "              sentiment  \n",
       "3419          affection  \n",
       "18762  enjoy_the_moment  \n",
       "16492  enjoy_the_moment  \n",
       "21122       achievement  \n",
       "32679           leisure  "
      ]
     },
     "execution_count": 29,
     "metadata": {},
     "output_type": "execute_result"
    }
   ],
   "source": [
    "df_val.head()"
   ]
  },
  {
   "cell_type": "code",
   "execution_count": 30,
   "metadata": {},
   "outputs": [],
   "source": [
    "val_labels = df_val[['id', 'sentiment']]"
   ]
  },
  {
   "cell_type": "code",
   "execution_count": 31,
   "metadata": {},
   "outputs": [
    {
     "data": {
      "text/html": [
       "<div>\n",
       "<style scoped>\n",
       "    .dataframe tbody tr th:only-of-type {\n",
       "        vertical-align: middle;\n",
       "    }\n",
       "\n",
       "    .dataframe tbody tr th {\n",
       "        vertical-align: top;\n",
       "    }\n",
       "\n",
       "    .dataframe thead th {\n",
       "        text-align: right;\n",
       "    }\n",
       "</style>\n",
       "<table border=\"1\" class=\"dataframe\">\n",
       "  <thead>\n",
       "    <tr style=\"text-align: right;\">\n",
       "      <th></th>\n",
       "      <th>id</th>\n",
       "      <th>period</th>\n",
       "      <th>response</th>\n",
       "    </tr>\n",
       "  </thead>\n",
       "  <tbody>\n",
       "    <tr>\n",
       "      <th>3419</th>\n",
       "      <td>37301</td>\n",
       "      <td>24h</td>\n",
       "      <td>my son got to play in a big soccer game after ...</td>\n",
       "    </tr>\n",
       "    <tr>\n",
       "      <th>18762</th>\n",
       "      <td>85992</td>\n",
       "      <td>3m</td>\n",
       "      <td>i got to go to sleep early yesterday.</td>\n",
       "    </tr>\n",
       "    <tr>\n",
       "      <th>16492</th>\n",
       "      <td>50424</td>\n",
       "      <td>24h</td>\n",
       "      <td>i saw my dad were waiting for me with a glass ...</td>\n",
       "    </tr>\n",
       "    <tr>\n",
       "      <th>21122</th>\n",
       "      <td>45067</td>\n",
       "      <td>24h</td>\n",
       "      <td>i found a really good deal at the grocery outl...</td>\n",
       "    </tr>\n",
       "    <tr>\n",
       "      <th>32679</th>\n",
       "      <td>56965</td>\n",
       "      <td>24h</td>\n",
       "      <td>today i saw a tv show about the band kiss, i w...</td>\n",
       "    </tr>\n",
       "  </tbody>\n",
       "</table>\n",
       "</div>"
      ],
      "text/plain": [
       "          id period                                           response\n",
       "3419   37301    24h  my son got to play in a big soccer game after ...\n",
       "18762  85992     3m              i got to go to sleep early yesterday.\n",
       "16492  50424    24h  i saw my dad were waiting for me with a glass ...\n",
       "21122  45067    24h  i found a really good deal at the grocery outl...\n",
       "32679  56965    24h  today i saw a tv show about the band kiss, i w..."
      ]
     },
     "execution_count": 31,
     "metadata": {},
     "output_type": "execute_result"
    }
   ],
   "source": [
    "df_val.drop(['n', 'sentiment'], axis=1, inplace=True)\n",
    "df_val.response = df_val.response.str.lower()\n",
    "df_val.head()"
   ]
  },
  {
   "cell_type": "code",
   "execution_count": 32,
   "metadata": {},
   "outputs": [
    {
     "data": {
      "text/plain": [
       "18.495766351699594"
      ]
     },
     "execution_count": 32,
     "metadata": {},
     "output_type": "execute_result"
    }
   ],
   "source": [
    "encoded_val_set = t.texts_to_sequences(df_val.response)\n",
    "np.mean([len(doc) for doc in encoded_val_set])"
   ]
  },
  {
   "cell_type": "code",
   "execution_count": 33,
   "metadata": {},
   "outputs": [
    {
     "data": {
      "text/html": [
       "<div>\n",
       "<style scoped>\n",
       "    .dataframe tbody tr th:only-of-type {\n",
       "        vertical-align: middle;\n",
       "    }\n",
       "\n",
       "    .dataframe tbody tr th {\n",
       "        vertical-align: top;\n",
       "    }\n",
       "\n",
       "    .dataframe thead th {\n",
       "        text-align: right;\n",
       "    }\n",
       "</style>\n",
       "<table border=\"1\" class=\"dataframe\">\n",
       "  <thead>\n",
       "    <tr style=\"text-align: right;\">\n",
       "      <th></th>\n",
       "      <th>id</th>\n",
       "      <th>period</th>\n",
       "      <th>tokens</th>\n",
       "    </tr>\n",
       "  </thead>\n",
       "  <tbody>\n",
       "    <tr>\n",
       "      <th>3419</th>\n",
       "      <td>37301</td>\n",
       "      <td>24h</td>\n",
       "      <td>[2, 73, 17, 5, 190, 9, 3, 173, 737, 107, 43, 1...</td>\n",
       "    </tr>\n",
       "    <tr>\n",
       "      <th>18762</th>\n",
       "      <td>85992</td>\n",
       "      <td>3m</td>\n",
       "      <td>[1, 17, 5, 82, 5, 270, 262, 68, 0, 0, 0, 0, 0,...</td>\n",
       "    </tr>\n",
       "    <tr>\n",
       "      <th>16492</th>\n",
       "      <td>50424</td>\n",
       "      <td>24h</td>\n",
       "      <td>[1, 131, 2, 281, 87, 344, 8, 10, 12, 3, 1414, ...</td>\n",
       "    </tr>\n",
       "    <tr>\n",
       "      <th>21122</th>\n",
       "      <td>45067</td>\n",
       "      <td>24h</td>\n",
       "      <td>[1, 65, 3, 46, 40, 509, 20, 6, 569, 5654, 254,...</td>\n",
       "    </tr>\n",
       "    <tr>\n",
       "      <th>32679</th>\n",
       "      <td>56965</td>\n",
       "      <td>24h</td>\n",
       "      <td>[51, 1, 131, 3, 301, 237, 54, 6, 718, 892, 1, ...</td>\n",
       "    </tr>\n",
       "  </tbody>\n",
       "</table>\n",
       "</div>"
      ],
      "text/plain": [
       "          id period                                             tokens\n",
       "3419   37301    24h  [2, 73, 17, 5, 190, 9, 3, 173, 737, 107, 43, 1...\n",
       "18762  85992     3m  [1, 17, 5, 82, 5, 270, 262, 68, 0, 0, 0, 0, 0,...\n",
       "16492  50424    24h  [1, 131, 2, 281, 87, 344, 8, 10, 12, 3, 1414, ...\n",
       "21122  45067    24h  [1, 65, 3, 46, 40, 509, 20, 6, 569, 5654, 254,...\n",
       "32679  56965    24h  [51, 1, 131, 3, 301, 237, 54, 6, 718, 892, 1, ..."
      ]
     },
     "execution_count": 33,
     "metadata": {},
     "output_type": "execute_result"
    }
   ],
   "source": [
    "df_val['tokens'] = encoded_val_set\n",
    "df_val.drop(['response'], axis=1, inplace=True)\n",
    "padded_val = pad_sequences(encoded_val_set, maxlen=SEQ_LEN, padding='post')\n",
    "val_vectors = [list(doc) for doc in padded_val]\n",
    "df_val.tokens = val_vectors\n",
    "df_val.head()"
   ]
  },
  {
   "cell_type": "code",
   "execution_count": 34,
   "metadata": {},
   "outputs": [
    {
     "data": {
      "text/plain": [
       "80.0"
      ]
     },
     "execution_count": 34,
     "metadata": {},
     "output_type": "execute_result"
    }
   ],
   "source": [
    "np.mean([len(doc) for doc in val_vectors])"
   ]
  },
  {
   "cell_type": "code",
   "execution_count": 35,
   "metadata": {},
   "outputs": [
    {
     "data": {
      "text/plain": [
       "(8149, 80)"
      ]
     },
     "execution_count": 35,
     "metadata": {},
     "output_type": "execute_result"
    }
   ],
   "source": [
    "x_val = np.array([np.array(token) for token in df_val.tokens])\n",
    "x_val.shape"
   ]
  },
  {
   "cell_type": "code",
   "execution_count": 36,
   "metadata": {},
   "outputs": [
    {
     "data": {
      "text/plain": [
       "(8149, 7)"
      ]
     },
     "execution_count": 36,
     "metadata": {},
     "output_type": "execute_result"
    }
   ],
   "source": [
    "y_val = np.array([np.array(label_to_cat[label]) for label in val_labels.sentiment])\n",
    "y_val.shape"
   ]
  },
  {
   "cell_type": "code",
   "execution_count": 37,
   "metadata": {
    "scrolled": true
   },
   "outputs": [
    {
     "data": {
      "text/plain": [
       "array([[0, 1, 0, 0, 0, 0, 0],\n",
       "       [0, 0, 0, 1, 0, 0, 0],\n",
       "       [0, 0, 0, 1, 0, 0, 0],\n",
       "       [1, 0, 0, 0, 0, 0, 0],\n",
       "       [0, 0, 0, 0, 0, 1, 0]], dtype=int8)"
      ]
     },
     "execution_count": 37,
     "metadata": {},
     "output_type": "execute_result"
    }
   ],
   "source": [
    "y_val[:5]"
   ]
  },
  {
   "cell_type": "code",
   "execution_count": 38,
   "metadata": {
    "scrolled": true
   },
   "outputs": [
    {
     "name": "stdout",
     "output_type": "stream",
     "text": [
      "_________________________________________________________________\n",
      "Layer (type)                 Output Shape              Param #   \n",
      "=================================================================\n",
      "input_1 (InputLayer)         (None, 80)                0         \n",
      "_________________________________________________________________\n",
      "embedding_1 (Embedding)      (None, 80, 300)           5742600   \n",
      "_________________________________________________________________\n",
      "bidirectional_1 (Bidirection (None, 80, 256)           440320    \n",
      "_________________________________________________________________\n",
      "bidirectional_2 (Bidirection (None, 128)               164864    \n",
      "_________________________________________________________________\n",
      "dense_1 (Dense)              (None, 256)               33024     \n",
      "_________________________________________________________________\n",
      "leaky_re_lu_1 (LeakyReLU)    (None, 256)               0         \n",
      "_________________________________________________________________\n",
      "dropout_1 (Dropout)          (None, 256)               0         \n",
      "_________________________________________________________________\n",
      "dense_2 (Dense)              (None, 128)               32896     \n",
      "_________________________________________________________________\n",
      "leaky_re_lu_2 (LeakyReLU)    (None, 128)               0         \n",
      "_________________________________________________________________\n",
      "dropout_2 (Dropout)          (None, 128)               0         \n",
      "_________________________________________________________________\n",
      "dense_3 (Dense)              (None, 64)                8256      \n",
      "_________________________________________________________________\n",
      "leaky_re_lu_3 (LeakyReLU)    (None, 64)                0         \n",
      "_________________________________________________________________\n",
      "dropout_3 (Dropout)          (None, 64)                0         \n",
      "_________________________________________________________________\n",
      "dense_4 (Dense)              (None, 7)                 455       \n",
      "=================================================================\n",
      "Total params: 6,422,415\n",
      "Trainable params: 6,422,415\n",
      "Non-trainable params: 0\n",
      "_________________________________________________________________\n"
     ]
    }
   ],
   "source": [
    "checkpoint = ModelCheckpoint('D:/Datasets/mc-sent/models/w2v_balanced_v3.hdf5',\n",
    "                             monitor='val_acc',\n",
    "                             save_best_only=True,\n",
    "                             mode='max',\n",
    "                             verbose=1)\n",
    "model.compile(optimizer=Adam(lr=1e-3),\n",
    "              loss='categorical_crossentropy',\n",
    "              metrics=['accuracy', f1])\n",
    "model.summary()"
   ]
  },
  {
   "cell_type": "code",
   "execution_count": 39,
   "metadata": {},
   "outputs": [
    {
     "data": {
      "text/plain": [
       "(46172, 80)"
      ]
     },
     "execution_count": 39,
     "metadata": {},
     "output_type": "execute_result"
    }
   ],
   "source": [
    "x_train = np.array([np.array(token) for token in df_train.tokens])\n",
    "x_train.shape"
   ]
  },
  {
   "cell_type": "markdown",
   "metadata": {},
   "source": [
    "Set the `class_weight` parameter before calling `fit`."
   ]
  },
  {
   "cell_type": "code",
   "execution_count": 40,
   "metadata": {
    "scrolled": true
   },
   "outputs": [
    {
     "name": "stdout",
     "output_type": "stream",
     "text": [
      "Train on 46172 samples, validate on 8149 samples\n",
      "Epoch 1/15\n",
      "46172/46172 [==============================] - 48s 1ms/step - loss: 0.5927 - acc: 0.8086 - f1: 0.7944 - val_loss: 0.3753 - val_acc: 0.8704 - val_f1: 0.8670\n",
      "\n",
      "Epoch 00001: val_acc improved from -inf to 0.87041, saving model to D:/Datasets/mc-sent/models/w2v_balanced_v3.hdf5\n",
      "Epoch 2/15\n",
      "46172/46172 [==============================] - 44s 952us/step - loss: 0.2836 - acc: 0.9089 - f1: 0.9067 - val_loss: 0.2758 - val_acc: 0.9022 - val_f1: 0.9032\n",
      "\n",
      "Epoch 00002: val_acc improved from 0.87041 to 0.90220, saving model to D:/Datasets/mc-sent/models/w2v_balanced_v3.hdf5\n",
      "Epoch 3/15\n",
      "46172/46172 [==============================] - 44s 952us/step - loss: 0.1664 - acc: 0.9478 - f1: 0.9479 - val_loss: 0.2979 - val_acc: 0.9016 - val_f1: 0.9030\n",
      "\n",
      "Epoch 00003: val_acc did not improve from 0.90220\n",
      "Epoch 4/15\n",
      "46172/46172 [==============================] - 44s 949us/step - loss: 0.1082 - acc: 0.9674 - f1: 0.9673 - val_loss: 0.3726 - val_acc: 0.9059 - val_f1: 0.9064\n",
      "\n",
      "Epoch 00004: val_acc improved from 0.90220 to 0.90588, saving model to D:/Datasets/mc-sent/models/w2v_balanced_v3.hdf5\n",
      "Epoch 5/15\n",
      "46172/46172 [==============================] - 44s 952us/step - loss: 0.0758 - acc: 0.9762 - f1: 0.9761 - val_loss: 0.3933 - val_acc: 0.9098 - val_f1: 0.9097\n",
      "\n",
      "Epoch 00005: val_acc improved from 0.90588 to 0.90980, saving model to D:/Datasets/mc-sent/models/w2v_balanced_v3.hdf5\n",
      "Epoch 6/15\n",
      "46172/46172 [==============================] - 44s 951us/step - loss: 0.0576 - acc: 0.9828 - f1: 0.9829 - val_loss: 0.4271 - val_acc: 0.9058 - val_f1: 0.9077\n",
      "\n",
      "Epoch 00006: val_acc did not improve from 0.90980\n",
      "Epoch 7/15\n",
      "46172/46172 [==============================] - 44s 956us/step - loss: 0.0473 - acc: 0.9863 - f1: 0.9862 - val_loss: 0.4686 - val_acc: 0.9072 - val_f1: 0.9086\n",
      "\n",
      "Epoch 00007: val_acc did not improve from 0.90980\n",
      "Epoch 8/15\n",
      "46172/46172 [==============================] - 44s 949us/step - loss: 0.0338 - acc: 0.9899 - f1: 0.9899 - val_loss: 0.5735 - val_acc: 0.9075 - val_f1: 0.9082\n",
      "\n",
      "Epoch 00008: val_acc did not improve from 0.90980\n",
      "Epoch 9/15\n",
      "46172/46172 [==============================] - 44s 952us/step - loss: 0.0326 - acc: 0.9909 - f1: 0.9909 - val_loss: 0.5111 - val_acc: 0.9016 - val_f1: 0.9006\n",
      "\n",
      "Epoch 00009: val_acc did not improve from 0.90980\n",
      "Epoch 10/15\n",
      "46172/46172 [==============================] - 47s 1ms/step - loss: 0.0285 - acc: 0.9914 - f1: 0.9916 - val_loss: 0.5419 - val_acc: 0.9049 - val_f1: 0.9051\n",
      "\n",
      "Epoch 00010: val_acc did not improve from 0.90980\n",
      "Epoch 11/15\n",
      "46172/46172 [==============================] - 45s 977us/step - loss: 0.0236 - acc: 0.9937 - f1: 0.9936 - val_loss: 0.6981 - val_acc: 0.8993 - val_f1: 0.8998\n",
      "\n",
      "Epoch 00011: val_acc did not improve from 0.90980\n",
      "Epoch 12/15\n",
      "46172/46172 [==============================] - 44s 960us/step - loss: 0.0232 - acc: 0.9939 - f1: 0.9939 - val_loss: 0.6500 - val_acc: 0.9006 - val_f1: 0.9013\n",
      "\n",
      "Epoch 00012: val_acc did not improve from 0.90980\n",
      "Epoch 13/15\n",
      "46172/46172 [==============================] - 45s 979us/step - loss: 0.0198 - acc: 0.9946 - f1: 0.9946 - val_loss: 0.7691 - val_acc: 0.8966 - val_f1: 0.8974\n",
      "\n",
      "Epoch 00013: val_acc did not improve from 0.90980\n",
      "Epoch 14/15\n",
      "46172/46172 [==============================] - 47s 1ms/step - loss: 0.0175 - acc: 0.9953 - f1: 0.9952 - val_loss: 0.7831 - val_acc: 0.8988 - val_f1: 0.8996\n",
      "\n",
      "Epoch 00014: val_acc did not improve from 0.90980\n",
      "Epoch 15/15\n",
      "46172/46172 [==============================] - 46s 990us/step - loss: 0.0188 - acc: 0.9954 - f1: 0.9952 - val_loss: 0.7357 - val_acc: 0.8961 - val_f1: 0.8967\n",
      "\n",
      "Epoch 00015: val_acc did not improve from 0.90980\n"
     ]
    },
    {
     "data": {
      "text/plain": [
       "<keras.callbacks.History at 0x197d3bfdac8>"
      ]
     },
     "execution_count": 40,
     "metadata": {},
     "output_type": "execute_result"
    }
   ],
   "source": [
    "model.fit(x_train, y_train,\n",
    "          validation_data=[x_val, y_val],\n",
    "          callbacks=[checkpoint],\n",
    "          class_weight=class_weights,\n",
    "          epochs=15,\n",
    "          verbose=1)"
   ]
  },
  {
   "cell_type": "markdown",
   "metadata": {},
   "source": [
    "We've finally hit almost 91% validation accuracy!\n",
    "<br>\n",
    "There's one last thing I want us to try."
   ]
  },
  {
   "cell_type": "markdown",
   "metadata": {},
   "source": [
    "## ELMo Embeddings\n",
    "These are sentence-level embeddings, released by [Allen NLP](https://allennlp.org/elmo) last year. As per the inventors, \n",
    "> ELMo is a deep contextualized word representation that models both complex characters of word use, and how these uses vary across linguistic contexts. The word vectors are learned functions of the internal states of a deep bidirectional language model (biLM), which is pre-trained on a large text corpus.\n",
    "\n",
    "<br>\n",
    "These embeddings are available through the tensorflow hub API. Since these embeddings are sentence-level, we don't need to tokenize them. Make sure your dataframe has the following columns."
   ]
  },
  {
   "cell_type": "code",
   "execution_count": 17,
   "metadata": {},
   "outputs": [
    {
     "data": {
      "text/html": [
       "<div>\n",
       "<style scoped>\n",
       "    .dataframe tbody tr th:only-of-type {\n",
       "        vertical-align: middle;\n",
       "    }\n",
       "\n",
       "    .dataframe tbody tr th {\n",
       "        vertical-align: top;\n",
       "    }\n",
       "\n",
       "    .dataframe thead th {\n",
       "        text-align: right;\n",
       "    }\n",
       "</style>\n",
       "<table border=\"1\" class=\"dataframe\">\n",
       "  <thead>\n",
       "    <tr style=\"text-align: right;\">\n",
       "      <th></th>\n",
       "      <th>id</th>\n",
       "      <th>period</th>\n",
       "      <th>response</th>\n",
       "    </tr>\n",
       "  </thead>\n",
       "  <tbody>\n",
       "    <tr>\n",
       "      <th>26164</th>\n",
       "      <td>33229</td>\n",
       "      <td>24h</td>\n",
       "      <td>i fall in love with my girl friend</td>\n",
       "    </tr>\n",
       "    <tr>\n",
       "      <th>39039</th>\n",
       "      <td>34026</td>\n",
       "      <td>24h</td>\n",
       "      <td>My friend came over to watch Critical Role.</td>\n",
       "    </tr>\n",
       "    <tr>\n",
       "      <th>43093</th>\n",
       "      <td>35623</td>\n",
       "      <td>24h</td>\n",
       "      <td>I thought that I was out of cream for coffee, ...</td>\n",
       "    </tr>\n",
       "    <tr>\n",
       "      <th>3161</th>\n",
       "      <td>58661</td>\n",
       "      <td>3m</td>\n",
       "      <td>I discovered a new software, Thunkable, that w...</td>\n",
       "    </tr>\n",
       "    <tr>\n",
       "      <th>29640</th>\n",
       "      <td>59683</td>\n",
       "      <td>3m</td>\n",
       "      <td>I found an alternate source of income.</td>\n",
       "    </tr>\n",
       "  </tbody>\n",
       "</table>\n",
       "</div>"
      ],
      "text/plain": [
       "          id period                                           response\n",
       "26164  33229    24h                 i fall in love with my girl friend\n",
       "39039  34026    24h        My friend came over to watch Critical Role.\n",
       "43093  35623    24h  I thought that I was out of cream for coffee, ...\n",
       "3161   58661     3m  I discovered a new software, Thunkable, that w...\n",
       "29640  59683     3m             I found an alternate source of income."
      ]
     },
     "execution_count": 17,
     "metadata": {},
     "output_type": "execute_result"
    }
   ],
   "source": [
    "df_train.head()"
   ]
  },
  {
   "cell_type": "code",
   "execution_count": 18,
   "metadata": {},
   "outputs": [],
   "source": [
    "x_train = np.array([np.array(sentence) for sentence in df_train.response])"
   ]
  },
  {
   "cell_type": "code",
   "execution_count": 19,
   "metadata": {},
   "outputs": [
    {
     "data": {
      "text/plain": [
       "array(['i fall in love with my girl friend',\n",
       "       'My friend came over to watch Critical Role.',\n",
       "       'I thought that I was out of cream for coffee, but lo and behold, there remained a can in the back of the pantry!',\n",
       "       'I discovered a new software, Thunkable, that will help me develop an Android app faster than I originally thought.',\n",
       "       'I found an alternate source of income.'], dtype='<U6707')"
      ]
     },
     "execution_count": 19,
     "metadata": {},
     "output_type": "execute_result"
    }
   ],
   "source": [
    "x_train[:5]"
   ]
  },
  {
   "cell_type": "code",
   "execution_count": 20,
   "metadata": {},
   "outputs": [
    {
     "data": {
      "text/plain": [
       "array([[0, 0, 1, 0, 0, 0, 0],\n",
       "       [0, 0, 1, 0, 0, 0, 0],\n",
       "       [0, 0, 0, 1, 0, 0, 0],\n",
       "       [1, 0, 0, 0, 0, 0, 0],\n",
       "       [1, 0, 0, 0, 0, 0, 0]], dtype=int8)"
      ]
     },
     "execution_count": 20,
     "metadata": {},
     "output_type": "execute_result"
    }
   ],
   "source": [
    "y_train[:5]"
   ]
  },
  {
   "cell_type": "markdown",
   "metadata": {},
   "source": [
    "We'll have to write our own class inheriting the `Layer` class from keras and define a few mandatory functions."
   ]
  },
  {
   "cell_type": "code",
   "execution_count": 21,
   "metadata": {},
   "outputs": [],
   "source": [
    "class ELMo(Layer):\n",
    "    def __init__(self, **kwargs):\n",
    "        self.dimensions = 1024\n",
    "        self.trainable = False # set trainable to False\n",
    "        super(ELMo, self).__init__(**kwargs)\n",
    "        \n",
    "    def build(self, input_shape):\n",
    "        self.elmo = hub.Module('https://tfhub.dev/google/elmo/2', trainable=self.trainable, name='{}_module'.format(self.name))\n",
    "        self.trainable_weights += K.tf.trainable_variables(scope=\"^{}_module/.*\".format(self.name))\n",
    "        super(ELMo, self).build(input_shape)\n",
    "        \n",
    "    def call(self, x, mask=None):\n",
    "        result = self.elmo(K.squeeze(K.cast(x, tf.string), axis=1), as_dict=True, signature='default',)['default']\n",
    "        return result\n",
    "    \n",
    "    def compute_mask(self, inputs, mask=None):\n",
    "        return K.not_equal(inputs, '--PAD--')\n",
    "    \n",
    "    def compute_output_shape(self, input_shape):\n",
    "        return (input_shape[0], self.dimensions)"
   ]
  },
  {
   "cell_type": "code",
   "execution_count": 22,
   "metadata": {},
   "outputs": [
    {
     "data": {
      "text/html": [
       "<div>\n",
       "<style scoped>\n",
       "    .dataframe tbody tr th:only-of-type {\n",
       "        vertical-align: middle;\n",
       "    }\n",
       "\n",
       "    .dataframe tbody tr th {\n",
       "        vertical-align: top;\n",
       "    }\n",
       "\n",
       "    .dataframe thead th {\n",
       "        text-align: right;\n",
       "    }\n",
       "</style>\n",
       "<table border=\"1\" class=\"dataframe\">\n",
       "  <thead>\n",
       "    <tr style=\"text-align: right;\">\n",
       "      <th></th>\n",
       "      <th>id</th>\n",
       "      <th>period</th>\n",
       "      <th>response</th>\n",
       "      <th>n</th>\n",
       "      <th>sentiment</th>\n",
       "    </tr>\n",
       "  </thead>\n",
       "  <tbody>\n",
       "    <tr>\n",
       "      <th>3419</th>\n",
       "      <td>37301</td>\n",
       "      <td>24h</td>\n",
       "      <td>My son got to play in a big soccer game after ...</td>\n",
       "      <td>1</td>\n",
       "      <td>affection</td>\n",
       "    </tr>\n",
       "    <tr>\n",
       "      <th>18762</th>\n",
       "      <td>85992</td>\n",
       "      <td>3m</td>\n",
       "      <td>I got to go to sleep early yesterday.</td>\n",
       "      <td>1</td>\n",
       "      <td>enjoy_the_moment</td>\n",
       "    </tr>\n",
       "    <tr>\n",
       "      <th>16492</th>\n",
       "      <td>50424</td>\n",
       "      <td>24h</td>\n",
       "      <td>I saw my dad were waiting for me with a glass ...</td>\n",
       "      <td>1</td>\n",
       "      <td>enjoy_the_moment</td>\n",
       "    </tr>\n",
       "    <tr>\n",
       "      <th>21122</th>\n",
       "      <td>45067</td>\n",
       "      <td>24h</td>\n",
       "      <td>I found a really good deal at the Grocery Outl...</td>\n",
       "      <td>1</td>\n",
       "      <td>achievement</td>\n",
       "    </tr>\n",
       "    <tr>\n",
       "      <th>32679</th>\n",
       "      <td>56965</td>\n",
       "      <td>24h</td>\n",
       "      <td>Today I saw a tv show about the band Kiss, I w...</td>\n",
       "      <td>1</td>\n",
       "      <td>leisure</td>\n",
       "    </tr>\n",
       "  </tbody>\n",
       "</table>\n",
       "</div>"
      ],
      "text/plain": [
       "          id period                                           response  n  \\\n",
       "3419   37301    24h  My son got to play in a big soccer game after ...  1   \n",
       "18762  85992     3m              I got to go to sleep early yesterday.  1   \n",
       "16492  50424    24h  I saw my dad were waiting for me with a glass ...  1   \n",
       "21122  45067    24h  I found a really good deal at the Grocery Outl...  1   \n",
       "32679  56965    24h  Today I saw a tv show about the band Kiss, I w...  1   \n",
       "\n",
       "              sentiment  \n",
       "3419          affection  \n",
       "18762  enjoy_the_moment  \n",
       "16492  enjoy_the_moment  \n",
       "21122       achievement  \n",
       "32679           leisure  "
      ]
     },
     "execution_count": 22,
     "metadata": {},
     "output_type": "execute_result"
    }
   ],
   "source": [
    "df_val.head()"
   ]
  },
  {
   "cell_type": "code",
   "execution_count": 23,
   "metadata": {},
   "outputs": [
    {
     "data": {
      "text/plain": [
       "(8149,)"
      ]
     },
     "execution_count": 23,
     "metadata": {},
     "output_type": "execute_result"
    }
   ],
   "source": [
    "x_val = np.array([np.array(sentence) for sentence in df_val.response])\n",
    "x_val.shape"
   ]
  },
  {
   "cell_type": "code",
   "execution_count": 24,
   "metadata": {},
   "outputs": [],
   "source": [
    "val_labels = df_val[['id', 'sentiment']]"
   ]
  },
  {
   "cell_type": "code",
   "execution_count": 25,
   "metadata": {},
   "outputs": [],
   "source": [
    "y_val = np.array([label_to_cat[label] for label in val_labels.sentiment])"
   ]
  },
  {
   "cell_type": "code",
   "execution_count": 26,
   "metadata": {},
   "outputs": [
    {
     "data": {
      "text/plain": [
       "array(['My son got to play in a big soccer game after being sidelined for a week from medical problems.',\n",
       "       'I got to go to sleep early yesterday.',\n",
       "       'I saw my dad were waiting for me with a glass of juice and that moment made me feel so special so I enjoyed a lot and felt the most happiest moment of my life.',\n",
       "       'I found a really good deal at the Grocery Outlet where I paid $1.95 for a box of 12 granola bars that I would normally spend at least $3-4 for.',\n",
       "       'Today I saw a tv show about the band Kiss, I was happy to watch it.'],\n",
       "      dtype='<U2899')"
      ]
     },
     "execution_count": 26,
     "metadata": {},
     "output_type": "execute_result"
    }
   ],
   "source": [
    "x_val[:5]"
   ]
  },
  {
   "cell_type": "code",
   "execution_count": 27,
   "metadata": {},
   "outputs": [
    {
     "data": {
      "text/plain": [
       "array([[0, 1, 0, 0, 0, 0, 0],\n",
       "       [0, 0, 0, 1, 0, 0, 0],\n",
       "       [0, 0, 0, 1, 0, 0, 0],\n",
       "       [1, 0, 0, 0, 0, 0, 0],\n",
       "       [0, 0, 0, 0, 0, 1, 0]], dtype=int8)"
      ]
     },
     "execution_count": 27,
     "metadata": {},
     "output_type": "execute_result"
    }
   ],
   "source": [
    "y_val[:5]"
   ]
  },
  {
   "cell_type": "markdown",
   "metadata": {},
   "source": [
    "We'll be using the same architecture as before, but let's drop the fancy activation function this time."
   ]
  },
  {
   "cell_type": "code",
   "execution_count": 28,
   "metadata": {
    "scrolled": false
   },
   "outputs": [
    {
     "name": "stdout",
     "output_type": "stream",
     "text": [
      "INFO:tensorflow:Using C:\\Users\\AMANDE~1\\AppData\\Local\\Temp\\tfhub_modules to cache modules.\n",
      "INFO:tensorflow:Saver not created because there are no variables in the graph to restore\n"
     ]
    }
   ],
   "source": [
    "input_tensor = Input(shape=(1,), dtype='string')\n",
    "e = ELMo()(input_tensor)\n",
    "x = Dense(256, activation='relu')(e)\n",
    "x = Dropout(0.6)(x)\n",
    "x = Dense(128, activation='relu')(x)\n",
    "x = Dropout(0.5)(x)\n",
    "x = Dense(64, activation='relu')(x)\n",
    "x = Dropout(0.4)(x)\n",
    "output_tensor = Dense(7, activation='softmax')(x)\n",
    "model = Model(input_tensor, output_tensor)"
   ]
  },
  {
   "cell_type": "code",
   "execution_count": 29,
   "metadata": {},
   "outputs": [
    {
     "name": "stdout",
     "output_type": "stream",
     "text": [
      "_________________________________________________________________\n",
      "Layer (type)                 Output Shape              Param #   \n",
      "=================================================================\n",
      "input_1 (InputLayer)         (None, 1)                 0         \n",
      "_________________________________________________________________\n",
      "el_mo_1 (ELMo)               (None, 1024)              4         \n",
      "_________________________________________________________________\n",
      "dense_1 (Dense)              (None, 256)               262400    \n",
      "_________________________________________________________________\n",
      "dropout_1 (Dropout)          (None, 256)               0         \n",
      "_________________________________________________________________\n",
      "dense_2 (Dense)              (None, 128)               32896     \n",
      "_________________________________________________________________\n",
      "dropout_2 (Dropout)          (None, 128)               0         \n",
      "_________________________________________________________________\n",
      "dense_3 (Dense)              (None, 64)                8256      \n",
      "_________________________________________________________________\n",
      "dropout_3 (Dropout)          (None, 64)                0         \n",
      "_________________________________________________________________\n",
      "dense_4 (Dense)              (None, 7)                 455       \n",
      "=================================================================\n",
      "Total params: 304,011\n",
      "Trainable params: 304,011\n",
      "Non-trainable params: 0\n",
      "_________________________________________________________________\n"
     ]
    }
   ],
   "source": [
    "checkpoint = ModelCheckpoint('D:/Datasets/mc-sent/models/w2v_balanced_elmo_v1.hdf5',\n",
    "                             monitor='val_acc',\n",
    "                             save_best_only=True,\n",
    "                             mode='max',\n",
    "                             verbose=1)\n",
    "model.compile(optimizer=Adam(lr=1e-3),\n",
    "              loss='categorical_crossentropy',\n",
    "              metrics=['accuracy', f1])\n",
    "model.summary()"
   ]
  },
  {
   "cell_type": "code",
   "execution_count": null,
   "metadata": {},
   "outputs": [],
   "source": [
    "model.fit(x_train, y_train,\n",
    "          batch_size=8,\n",
    "          validation_data=[x_val, y_val],\n",
    "          callbacks=[checkpoint],\n",
    "          class_weight=class_weights,\n",
    "          epochs=5,\n",
    "          verbose=1)"
   ]
  },
  {
   "cell_type": "markdown",
   "metadata": {},
   "source": [
    "## Ensemble\n",
    "__Hard voting:__ Let's say we have ten prediction vectors from ten different models for a single row in the test set. We take the argmax of each vector, and predict the mode of those ten values. This method is usually preferred as the prediction vectors do not interact with each other and correlation is minimum. Majority wins and the classifiers that differ, are silenced.\n",
    "<br>\n",
    "\n",
    "__Soft voting:__ In this, the ten prediction vectors are added up together element-wise and the argmax of the resulting vector is returned as the prediction. This takes interactions into considerations and hence, total accuracy is not a lot greater than individual accuracies, but the ensemble is less likely to predict false positives. Its a jury, where every opinion matters."
   ]
  }
 ],
 "metadata": {
  "kernelspec": {
   "display_name": "TensorFlow-GPU",
   "language": "python",
   "name": "tf-gpu"
  },
  "language_info": {
   "codemirror_mode": {
    "name": "ipython",
    "version": 3
   },
   "file_extension": ".py",
   "mimetype": "text/x-python",
   "name": "python",
   "nbconvert_exporter": "python",
   "pygments_lexer": "ipython3",
   "version": "3.6.7"
  }
 },
 "nbformat": 4,
 "nbformat_minor": 2
}
